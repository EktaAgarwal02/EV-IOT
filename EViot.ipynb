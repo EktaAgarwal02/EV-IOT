{
 "cells": [
  {
   "cell_type": "code",
   "execution_count": 131,
   "id": "43fde890",
   "metadata": {},
   "outputs": [],
   "source": [
    "import pandas as pd\n",
    "from sklearn.model_selection import train_test_split\n",
    "from sklearn.preprocessing import StandardScaler\n",
    "from sklearn.tree import DecisionTreeClassifier\n",
    "from sklearn.metrics import accuracy_score, confusion_matrix\n",
    "from sklearn.preprocessing import LabelEncoder\n",
    "import matplotlib.pyplot as plt\n",
    "from sklearn.ensemble import RandomForestClassifier\n",
    "from xgboost import XGBClassifier\n",
    "from sklearn.metrics import classification_report\n",
    "import seaborn as sns\n",
    "import joblib"
   ]
  },
  {
   "cell_type": "code",
   "execution_count": 132,
   "id": "db113688",
   "metadata": {},
   "outputs": [
    {
     "name": "stdout",
     "output_type": "stream",
     "text": [
      "             Timestamp       SoC       SoH  Battery_Voltage  Battery_Current  \\\n",
      "0  2020-01-01 00:00:00  0.826099  0.941338       210.163881       -22.753095   \n",
      "1  2020-01-01 00:15:00  0.064728  0.916059       364.000102       -27.701120   \n",
      "2  2020-01-01 00:30:00  0.873643  0.908020       388.855089       -36.646406   \n",
      "3  2020-01-01 00:45:00  0.853009  0.916476       370.570602       -37.609429   \n",
      "4  2020-01-01 01:00:00  0.947540  0.913206       390.011904       -14.275808   \n",
      "\n",
      "   Battery_Temperature  Charge_Cycles  Motor_Temperature  Motor_Vibration  \\\n",
      "0            27.149201     149.190930          48.496049         0.369095   \n",
      "1            53.655101     171.702388          57.829492         1.449195   \n",
      "2            29.559090     191.617645          46.518363         1.859045   \n",
      "3            29.690283     111.881817          54.163681         0.381500   \n",
      "4            28.864338     163.774377          42.075978         0.433927   \n",
      "\n",
      "   Motor_Torque  ...  Load_Weight  Driving_Speed  Distance_Traveled  \\\n",
      "0    113.435589  ...   741.754518     103.421162          66.232383   \n",
      "1    105.587160  ...   769.134035      46.041935           3.146238   \n",
      "2    119.610302  ...   917.262931      59.588422          79.909148   \n",
      "3    182.535625  ...   600.598736      44.222285           0.774000   \n",
      "4    173.298044  ...   613.153029      41.374684           2.872124   \n",
      "\n",
      "   Idle_Time  Route_Roughness         RUL  Failure_Probability  \\\n",
      "0   0.520922         0.225970  260.503381                    0   \n",
      "1   0.844005         0.204350  212.813954                    0   \n",
      "2   0.992405         0.175125  273.394511                    0   \n",
      "3   0.007615         0.213264  229.508442                    0   \n",
      "4   0.771938         0.770257  257.302631                    1   \n",
      "\n",
      "   Maintenance_Type         TTF  Component_Health_Score  \n",
      "0                 1  111.116697                0.852745  \n",
      "1                 2  179.229425                0.827616  \n",
      "2                 1  171.852663                0.876887  \n",
      "3                 0  165.221328                0.816290  \n",
      "4                 0  176.890659                0.744260  \n",
      "\n",
      "[5 rows x 30 columns]\n"
     ]
    }
   ],
   "source": [
    "df = pd.read_csv('EV_Predictive_Maintenance_Dataset_15min.csv')\n",
    "print(df.head())"
   ]
  },
  {
   "cell_type": "code",
   "execution_count": 133,
   "id": "9098f217",
   "metadata": {},
   "outputs": [
    {
     "name": "stdout",
     "output_type": "stream",
     "text": [
      "<class 'pandas.core.frame.DataFrame'>\n",
      "RangeIndex: 175393 entries, 0 to 175392\n",
      "Data columns (total 30 columns):\n",
      " #   Column                  Non-Null Count   Dtype  \n",
      "---  ------                  --------------   -----  \n",
      " 0   Timestamp               175393 non-null  object \n",
      " 1   SoC                     175393 non-null  float64\n",
      " 2   SoH                     175393 non-null  float64\n",
      " 3   Battery_Voltage         175393 non-null  float64\n",
      " 4   Battery_Current         175393 non-null  float64\n",
      " 5   Battery_Temperature     175393 non-null  float64\n",
      " 6   Charge_Cycles           175393 non-null  float64\n",
      " 7   Motor_Temperature       175393 non-null  float64\n",
      " 8   Motor_Vibration         175393 non-null  float64\n",
      " 9   Motor_Torque            175393 non-null  float64\n",
      " 10  Motor_RPM               175393 non-null  float64\n",
      " 11  Power_Consumption       175393 non-null  float64\n",
      " 12  Brake_Pad_Wear          175393 non-null  float64\n",
      " 13  Brake_Pressure          175393 non-null  float64\n",
      " 14  Reg_Brake_Efficiency    175393 non-null  float64\n",
      " 15  Tire_Pressure           175393 non-null  float64\n",
      " 16  Tire_Temperature        175393 non-null  float64\n",
      " 17  Suspension_Load         175393 non-null  float64\n",
      " 18  Ambient_Temperature     175393 non-null  float64\n",
      " 19  Ambient_Humidity        175393 non-null  float64\n",
      " 20  Load_Weight             175393 non-null  float64\n",
      " 21  Driving_Speed           175393 non-null  float64\n",
      " 22  Distance_Traveled       175393 non-null  float64\n",
      " 23  Idle_Time               175393 non-null  float64\n",
      " 24  Route_Roughness         175393 non-null  float64\n",
      " 25  RUL                     175393 non-null  float64\n",
      " 26  Failure_Probability     175393 non-null  int64  \n",
      " 27  Maintenance_Type        175393 non-null  int64  \n",
      " 28  TTF                     175393 non-null  float64\n",
      " 29  Component_Health_Score  175393 non-null  float64\n",
      "dtypes: float64(27), int64(2), object(1)\n",
      "memory usage: 40.1+ MB\n"
     ]
    }
   ],
   "source": [
    "df.info()"
   ]
  },
  {
   "cell_type": "code",
   "execution_count": 134,
   "id": "c6b6ecef",
   "metadata": {},
   "outputs": [
    {
     "data": {
      "text/plain": [
       "Timestamp                 0\n",
       "SoC                       0\n",
       "SoH                       0\n",
       "Battery_Voltage           0\n",
       "Battery_Current           0\n",
       "Battery_Temperature       0\n",
       "Charge_Cycles             0\n",
       "Motor_Temperature         0\n",
       "Motor_Vibration           0\n",
       "Motor_Torque              0\n",
       "Motor_RPM                 0\n",
       "Power_Consumption         0\n",
       "Brake_Pad_Wear            0\n",
       "Brake_Pressure            0\n",
       "Reg_Brake_Efficiency      0\n",
       "Tire_Pressure             0\n",
       "Tire_Temperature          0\n",
       "Suspension_Load           0\n",
       "Ambient_Temperature       0\n",
       "Ambient_Humidity          0\n",
       "Load_Weight               0\n",
       "Driving_Speed             0\n",
       "Distance_Traveled         0\n",
       "Idle_Time                 0\n",
       "Route_Roughness           0\n",
       "RUL                       0\n",
       "Failure_Probability       0\n",
       "Maintenance_Type          0\n",
       "TTF                       0\n",
       "Component_Health_Score    0\n",
       "dtype: int64"
      ]
     },
     "execution_count": 134,
     "metadata": {},
     "output_type": "execute_result"
    }
   ],
   "source": [
    "df.isnull().sum()"
   ]
  },
  {
   "cell_type": "code",
   "execution_count": 135,
   "id": "fb28e087",
   "metadata": {},
   "outputs": [],
   "source": [
    "df['Failure_Binary'] = (df['Failure_Probability'] > 0.5).astype(int)\n",
    "X = df.drop(columns=['Failure_Binary', 'Failure_Probability'])\n",
    "y = df['Failure_Binary']"
   ]
  },
  {
   "cell_type": "code",
   "execution_count": 136,
   "id": "35a6ab1a",
   "metadata": {},
   "outputs": [
    {
     "name": "stdout",
     "output_type": "stream",
     "text": [
      "Timestamp                  object\n",
      "SoC                       float64\n",
      "SoH                       float64\n",
      "Battery_Voltage           float64\n",
      "Battery_Current           float64\n",
      "Battery_Temperature       float64\n",
      "Charge_Cycles             float64\n",
      "Motor_Temperature         float64\n",
      "Motor_Vibration           float64\n",
      "Motor_Torque              float64\n",
      "Motor_RPM                 float64\n",
      "Power_Consumption         float64\n",
      "Brake_Pad_Wear            float64\n",
      "Brake_Pressure            float64\n",
      "Reg_Brake_Efficiency      float64\n",
      "Tire_Pressure             float64\n",
      "Tire_Temperature          float64\n",
      "Suspension_Load           float64\n",
      "Ambient_Temperature       float64\n",
      "Ambient_Humidity          float64\n",
      "Load_Weight               float64\n",
      "Driving_Speed             float64\n",
      "Distance_Traveled         float64\n",
      "Idle_Time                 float64\n",
      "Route_Roughness           float64\n",
      "RUL                       float64\n",
      "Maintenance_Type            int64\n",
      "TTF                       float64\n",
      "Component_Health_Score    float64\n",
      "dtype: object\n"
     ]
    }
   ],
   "source": [
    "print(X.dtypes)"
   ]
  },
  {
   "cell_type": "code",
   "execution_count": 137,
   "id": "ace867d7",
   "metadata": {},
   "outputs": [],
   "source": [
    "from sklearn.preprocessing import LabelEncoder\n",
    "\n",
    "for col in X.select_dtypes(include='object').columns:\n",
    "    le = LabelEncoder()\n",
    "    X[col] = le.fit_transform(X[col].astype(str))\n"
   ]
  },
  {
   "cell_type": "code",
   "execution_count": 138,
   "id": "8e1bcee5",
   "metadata": {},
   "outputs": [],
   "source": [
    "#drop_cols = ['Timestamp']\n",
    "#df = df.drop(columns=drop_cols) "
   ]
  },
  {
   "cell_type": "code",
   "execution_count": 139,
   "id": "e4d24f93",
   "metadata": {},
   "outputs": [
    {
     "name": "stdout",
     "output_type": "stream",
     "text": [
      "Timestamp                   int64\n",
      "SoC                       float64\n",
      "SoH                       float64\n",
      "Battery_Voltage           float64\n",
      "Battery_Current           float64\n",
      "Battery_Temperature       float64\n",
      "Charge_Cycles             float64\n",
      "Motor_Temperature         float64\n",
      "Motor_Vibration           float64\n",
      "Motor_Torque              float64\n",
      "Motor_RPM                 float64\n",
      "Power_Consumption         float64\n",
      "Brake_Pad_Wear            float64\n",
      "Brake_Pressure            float64\n",
      "Reg_Brake_Efficiency      float64\n",
      "Tire_Pressure             float64\n",
      "Tire_Temperature          float64\n",
      "Suspension_Load           float64\n",
      "Ambient_Temperature       float64\n",
      "Ambient_Humidity          float64\n",
      "Load_Weight               float64\n",
      "Driving_Speed             float64\n",
      "Distance_Traveled         float64\n",
      "Idle_Time                 float64\n",
      "Route_Roughness           float64\n",
      "RUL                       float64\n",
      "Maintenance_Type            int64\n",
      "TTF                       float64\n",
      "Component_Health_Score    float64\n",
      "dtype: object\n"
     ]
    }
   ],
   "source": [
    "print(X.dtypes)"
   ]
  },
  {
   "cell_type": "code",
   "execution_count": 140,
   "id": "a88ff815",
   "metadata": {},
   "outputs": [
    {
     "name": "stdout",
     "output_type": "stream",
     "text": [
      "Index(['Timestamp', 'SoC', 'SoH', 'Battery_Voltage', 'Battery_Current',\n",
      "       'Battery_Temperature', 'Charge_Cycles', 'Motor_Temperature',\n",
      "       'Motor_Vibration', 'Motor_Torque', 'Motor_RPM', 'Power_Consumption',\n",
      "       'Brake_Pad_Wear', 'Brake_Pressure', 'Reg_Brake_Efficiency',\n",
      "       'Tire_Pressure', 'Tire_Temperature', 'Suspension_Load',\n",
      "       'Ambient_Temperature', 'Ambient_Humidity', 'Load_Weight',\n",
      "       'Driving_Speed', 'Distance_Traveled', 'Idle_Time', 'Route_Roughness',\n",
      "       'RUL', 'Failure_Probability', 'Maintenance_Type', 'TTF',\n",
      "       'Component_Health_Score', 'Failure_Binary'],\n",
      "      dtype='object')\n"
     ]
    }
   ],
   "source": [
    "print(df.columns)\n"
   ]
  },
  {
   "cell_type": "code",
   "execution_count": 141,
   "id": "527db19a",
   "metadata": {},
   "outputs": [],
   "source": [
    "X_train, X_test, y_train, y_test = train_test_split(X, y, test_size=0.2, random_state=42)\n"
   ]
  },
  {
   "cell_type": "code",
   "execution_count": 142,
   "id": "c09cd425",
   "metadata": {},
   "outputs": [
    {
     "data": {
      "text/html": [
       "<style>#sk-container-id-5 {\n",
       "  /* Definition of color scheme common for light and dark mode */\n",
       "  --sklearn-color-text: #000;\n",
       "  --sklearn-color-text-muted: #666;\n",
       "  --sklearn-color-line: gray;\n",
       "  /* Definition of color scheme for unfitted estimators */\n",
       "  --sklearn-color-unfitted-level-0: #fff5e6;\n",
       "  --sklearn-color-unfitted-level-1: #f6e4d2;\n",
       "  --sklearn-color-unfitted-level-2: #ffe0b3;\n",
       "  --sklearn-color-unfitted-level-3: chocolate;\n",
       "  /* Definition of color scheme for fitted estimators */\n",
       "  --sklearn-color-fitted-level-0: #f0f8ff;\n",
       "  --sklearn-color-fitted-level-1: #d4ebff;\n",
       "  --sklearn-color-fitted-level-2: #b3dbfd;\n",
       "  --sklearn-color-fitted-level-3: cornflowerblue;\n",
       "\n",
       "  /* Specific color for light theme */\n",
       "  --sklearn-color-text-on-default-background: var(--sg-text-color, var(--theme-code-foreground, var(--jp-content-font-color1, black)));\n",
       "  --sklearn-color-background: var(--sg-background-color, var(--theme-background, var(--jp-layout-color0, white)));\n",
       "  --sklearn-color-border-box: var(--sg-text-color, var(--theme-code-foreground, var(--jp-content-font-color1, black)));\n",
       "  --sklearn-color-icon: #696969;\n",
       "\n",
       "  @media (prefers-color-scheme: dark) {\n",
       "    /* Redefinition of color scheme for dark theme */\n",
       "    --sklearn-color-text-on-default-background: var(--sg-text-color, var(--theme-code-foreground, var(--jp-content-font-color1, white)));\n",
       "    --sklearn-color-background: var(--sg-background-color, var(--theme-background, var(--jp-layout-color0, #111)));\n",
       "    --sklearn-color-border-box: var(--sg-text-color, var(--theme-code-foreground, var(--jp-content-font-color1, white)));\n",
       "    --sklearn-color-icon: #878787;\n",
       "  }\n",
       "}\n",
       "\n",
       "#sk-container-id-5 {\n",
       "  color: var(--sklearn-color-text);\n",
       "}\n",
       "\n",
       "#sk-container-id-5 pre {\n",
       "  padding: 0;\n",
       "}\n",
       "\n",
       "#sk-container-id-5 input.sk-hidden--visually {\n",
       "  border: 0;\n",
       "  clip: rect(1px 1px 1px 1px);\n",
       "  clip: rect(1px, 1px, 1px, 1px);\n",
       "  height: 1px;\n",
       "  margin: -1px;\n",
       "  overflow: hidden;\n",
       "  padding: 0;\n",
       "  position: absolute;\n",
       "  width: 1px;\n",
       "}\n",
       "\n",
       "#sk-container-id-5 div.sk-dashed-wrapped {\n",
       "  border: 1px dashed var(--sklearn-color-line);\n",
       "  margin: 0 0.4em 0.5em 0.4em;\n",
       "  box-sizing: border-box;\n",
       "  padding-bottom: 0.4em;\n",
       "  background-color: var(--sklearn-color-background);\n",
       "}\n",
       "\n",
       "#sk-container-id-5 div.sk-container {\n",
       "  /* jupyter's `normalize.less` sets `[hidden] { display: none; }`\n",
       "     but bootstrap.min.css set `[hidden] { display: none !important; }`\n",
       "     so we also need the `!important` here to be able to override the\n",
       "     default hidden behavior on the sphinx rendered scikit-learn.org.\n",
       "     See: https://github.com/scikit-learn/scikit-learn/issues/21755 */\n",
       "  display: inline-block !important;\n",
       "  position: relative;\n",
       "}\n",
       "\n",
       "#sk-container-id-5 div.sk-text-repr-fallback {\n",
       "  display: none;\n",
       "}\n",
       "\n",
       "div.sk-parallel-item,\n",
       "div.sk-serial,\n",
       "div.sk-item {\n",
       "  /* draw centered vertical line to link estimators */\n",
       "  background-image: linear-gradient(var(--sklearn-color-text-on-default-background), var(--sklearn-color-text-on-default-background));\n",
       "  background-size: 2px 100%;\n",
       "  background-repeat: no-repeat;\n",
       "  background-position: center center;\n",
       "}\n",
       "\n",
       "/* Parallel-specific style estimator block */\n",
       "\n",
       "#sk-container-id-5 div.sk-parallel-item::after {\n",
       "  content: \"\";\n",
       "  width: 100%;\n",
       "  border-bottom: 2px solid var(--sklearn-color-text-on-default-background);\n",
       "  flex-grow: 1;\n",
       "}\n",
       "\n",
       "#sk-container-id-5 div.sk-parallel {\n",
       "  display: flex;\n",
       "  align-items: stretch;\n",
       "  justify-content: center;\n",
       "  background-color: var(--sklearn-color-background);\n",
       "  position: relative;\n",
       "}\n",
       "\n",
       "#sk-container-id-5 div.sk-parallel-item {\n",
       "  display: flex;\n",
       "  flex-direction: column;\n",
       "}\n",
       "\n",
       "#sk-container-id-5 div.sk-parallel-item:first-child::after {\n",
       "  align-self: flex-end;\n",
       "  width: 50%;\n",
       "}\n",
       "\n",
       "#sk-container-id-5 div.sk-parallel-item:last-child::after {\n",
       "  align-self: flex-start;\n",
       "  width: 50%;\n",
       "}\n",
       "\n",
       "#sk-container-id-5 div.sk-parallel-item:only-child::after {\n",
       "  width: 0;\n",
       "}\n",
       "\n",
       "/* Serial-specific style estimator block */\n",
       "\n",
       "#sk-container-id-5 div.sk-serial {\n",
       "  display: flex;\n",
       "  flex-direction: column;\n",
       "  align-items: center;\n",
       "  background-color: var(--sklearn-color-background);\n",
       "  padding-right: 1em;\n",
       "  padding-left: 1em;\n",
       "}\n",
       "\n",
       "\n",
       "/* Toggleable style: style used for estimator/Pipeline/ColumnTransformer box that is\n",
       "clickable and can be expanded/collapsed.\n",
       "- Pipeline and ColumnTransformer use this feature and define the default style\n",
       "- Estimators will overwrite some part of the style using the `sk-estimator` class\n",
       "*/\n",
       "\n",
       "/* Pipeline and ColumnTransformer style (default) */\n",
       "\n",
       "#sk-container-id-5 div.sk-toggleable {\n",
       "  /* Default theme specific background. It is overwritten whether we have a\n",
       "  specific estimator or a Pipeline/ColumnTransformer */\n",
       "  background-color: var(--sklearn-color-background);\n",
       "}\n",
       "\n",
       "/* Toggleable label */\n",
       "#sk-container-id-5 label.sk-toggleable__label {\n",
       "  cursor: pointer;\n",
       "  display: flex;\n",
       "  width: 100%;\n",
       "  margin-bottom: 0;\n",
       "  padding: 0.5em;\n",
       "  box-sizing: border-box;\n",
       "  text-align: center;\n",
       "  align-items: start;\n",
       "  justify-content: space-between;\n",
       "  gap: 0.5em;\n",
       "}\n",
       "\n",
       "#sk-container-id-5 label.sk-toggleable__label .caption {\n",
       "  font-size: 0.6rem;\n",
       "  font-weight: lighter;\n",
       "  color: var(--sklearn-color-text-muted);\n",
       "}\n",
       "\n",
       "#sk-container-id-5 label.sk-toggleable__label-arrow:before {\n",
       "  /* Arrow on the left of the label */\n",
       "  content: \"▸\";\n",
       "  float: left;\n",
       "  margin-right: 0.25em;\n",
       "  color: var(--sklearn-color-icon);\n",
       "}\n",
       "\n",
       "#sk-container-id-5 label.sk-toggleable__label-arrow:hover:before {\n",
       "  color: var(--sklearn-color-text);\n",
       "}\n",
       "\n",
       "/* Toggleable content - dropdown */\n",
       "\n",
       "#sk-container-id-5 div.sk-toggleable__content {\n",
       "  display: none;\n",
       "  text-align: left;\n",
       "  /* unfitted */\n",
       "  background-color: var(--sklearn-color-unfitted-level-0);\n",
       "}\n",
       "\n",
       "#sk-container-id-5 div.sk-toggleable__content.fitted {\n",
       "  /* fitted */\n",
       "  background-color: var(--sklearn-color-fitted-level-0);\n",
       "}\n",
       "\n",
       "#sk-container-id-5 div.sk-toggleable__content pre {\n",
       "  margin: 0.2em;\n",
       "  border-radius: 0.25em;\n",
       "  color: var(--sklearn-color-text);\n",
       "  /* unfitted */\n",
       "  background-color: var(--sklearn-color-unfitted-level-0);\n",
       "}\n",
       "\n",
       "#sk-container-id-5 div.sk-toggleable__content.fitted pre {\n",
       "  /* unfitted */\n",
       "  background-color: var(--sklearn-color-fitted-level-0);\n",
       "}\n",
       "\n",
       "#sk-container-id-5 input.sk-toggleable__control:checked~div.sk-toggleable__content {\n",
       "  /* Expand drop-down */\n",
       "  display: block;\n",
       "  width: 100%;\n",
       "  overflow: visible;\n",
       "}\n",
       "\n",
       "#sk-container-id-5 input.sk-toggleable__control:checked~label.sk-toggleable__label-arrow:before {\n",
       "  content: \"▾\";\n",
       "}\n",
       "\n",
       "/* Pipeline/ColumnTransformer-specific style */\n",
       "\n",
       "#sk-container-id-5 div.sk-label input.sk-toggleable__control:checked~label.sk-toggleable__label {\n",
       "  color: var(--sklearn-color-text);\n",
       "  background-color: var(--sklearn-color-unfitted-level-2);\n",
       "}\n",
       "\n",
       "#sk-container-id-5 div.sk-label.fitted input.sk-toggleable__control:checked~label.sk-toggleable__label {\n",
       "  background-color: var(--sklearn-color-fitted-level-2);\n",
       "}\n",
       "\n",
       "/* Estimator-specific style */\n",
       "\n",
       "/* Colorize estimator box */\n",
       "#sk-container-id-5 div.sk-estimator input.sk-toggleable__control:checked~label.sk-toggleable__label {\n",
       "  /* unfitted */\n",
       "  background-color: var(--sklearn-color-unfitted-level-2);\n",
       "}\n",
       "\n",
       "#sk-container-id-5 div.sk-estimator.fitted input.sk-toggleable__control:checked~label.sk-toggleable__label {\n",
       "  /* fitted */\n",
       "  background-color: var(--sklearn-color-fitted-level-2);\n",
       "}\n",
       "\n",
       "#sk-container-id-5 div.sk-label label.sk-toggleable__label,\n",
       "#sk-container-id-5 div.sk-label label {\n",
       "  /* The background is the default theme color */\n",
       "  color: var(--sklearn-color-text-on-default-background);\n",
       "}\n",
       "\n",
       "/* On hover, darken the color of the background */\n",
       "#sk-container-id-5 div.sk-label:hover label.sk-toggleable__label {\n",
       "  color: var(--sklearn-color-text);\n",
       "  background-color: var(--sklearn-color-unfitted-level-2);\n",
       "}\n",
       "\n",
       "/* Label box, darken color on hover, fitted */\n",
       "#sk-container-id-5 div.sk-label.fitted:hover label.sk-toggleable__label.fitted {\n",
       "  color: var(--sklearn-color-text);\n",
       "  background-color: var(--sklearn-color-fitted-level-2);\n",
       "}\n",
       "\n",
       "/* Estimator label */\n",
       "\n",
       "#sk-container-id-5 div.sk-label label {\n",
       "  font-family: monospace;\n",
       "  font-weight: bold;\n",
       "  display: inline-block;\n",
       "  line-height: 1.2em;\n",
       "}\n",
       "\n",
       "#sk-container-id-5 div.sk-label-container {\n",
       "  text-align: center;\n",
       "}\n",
       "\n",
       "/* Estimator-specific */\n",
       "#sk-container-id-5 div.sk-estimator {\n",
       "  font-family: monospace;\n",
       "  border: 1px dotted var(--sklearn-color-border-box);\n",
       "  border-radius: 0.25em;\n",
       "  box-sizing: border-box;\n",
       "  margin-bottom: 0.5em;\n",
       "  /* unfitted */\n",
       "  background-color: var(--sklearn-color-unfitted-level-0);\n",
       "}\n",
       "\n",
       "#sk-container-id-5 div.sk-estimator.fitted {\n",
       "  /* fitted */\n",
       "  background-color: var(--sklearn-color-fitted-level-0);\n",
       "}\n",
       "\n",
       "/* on hover */\n",
       "#sk-container-id-5 div.sk-estimator:hover {\n",
       "  /* unfitted */\n",
       "  background-color: var(--sklearn-color-unfitted-level-2);\n",
       "}\n",
       "\n",
       "#sk-container-id-5 div.sk-estimator.fitted:hover {\n",
       "  /* fitted */\n",
       "  background-color: var(--sklearn-color-fitted-level-2);\n",
       "}\n",
       "\n",
       "/* Specification for estimator info (e.g. \"i\" and \"?\") */\n",
       "\n",
       "/* Common style for \"i\" and \"?\" */\n",
       "\n",
       ".sk-estimator-doc-link,\n",
       "a:link.sk-estimator-doc-link,\n",
       "a:visited.sk-estimator-doc-link {\n",
       "  float: right;\n",
       "  font-size: smaller;\n",
       "  line-height: 1em;\n",
       "  font-family: monospace;\n",
       "  background-color: var(--sklearn-color-background);\n",
       "  border-radius: 1em;\n",
       "  height: 1em;\n",
       "  width: 1em;\n",
       "  text-decoration: none !important;\n",
       "  margin-left: 0.5em;\n",
       "  text-align: center;\n",
       "  /* unfitted */\n",
       "  border: var(--sklearn-color-unfitted-level-1) 1pt solid;\n",
       "  color: var(--sklearn-color-unfitted-level-1);\n",
       "}\n",
       "\n",
       ".sk-estimator-doc-link.fitted,\n",
       "a:link.sk-estimator-doc-link.fitted,\n",
       "a:visited.sk-estimator-doc-link.fitted {\n",
       "  /* fitted */\n",
       "  border: var(--sklearn-color-fitted-level-1) 1pt solid;\n",
       "  color: var(--sklearn-color-fitted-level-1);\n",
       "}\n",
       "\n",
       "/* On hover */\n",
       "div.sk-estimator:hover .sk-estimator-doc-link:hover,\n",
       ".sk-estimator-doc-link:hover,\n",
       "div.sk-label-container:hover .sk-estimator-doc-link:hover,\n",
       ".sk-estimator-doc-link:hover {\n",
       "  /* unfitted */\n",
       "  background-color: var(--sklearn-color-unfitted-level-3);\n",
       "  color: var(--sklearn-color-background);\n",
       "  text-decoration: none;\n",
       "}\n",
       "\n",
       "div.sk-estimator.fitted:hover .sk-estimator-doc-link.fitted:hover,\n",
       ".sk-estimator-doc-link.fitted:hover,\n",
       "div.sk-label-container:hover .sk-estimator-doc-link.fitted:hover,\n",
       ".sk-estimator-doc-link.fitted:hover {\n",
       "  /* fitted */\n",
       "  background-color: var(--sklearn-color-fitted-level-3);\n",
       "  color: var(--sklearn-color-background);\n",
       "  text-decoration: none;\n",
       "}\n",
       "\n",
       "/* Span, style for the box shown on hovering the info icon */\n",
       ".sk-estimator-doc-link span {\n",
       "  display: none;\n",
       "  z-index: 9999;\n",
       "  position: relative;\n",
       "  font-weight: normal;\n",
       "  right: .2ex;\n",
       "  padding: .5ex;\n",
       "  margin: .5ex;\n",
       "  width: min-content;\n",
       "  min-width: 20ex;\n",
       "  max-width: 50ex;\n",
       "  color: var(--sklearn-color-text);\n",
       "  box-shadow: 2pt 2pt 4pt #999;\n",
       "  /* unfitted */\n",
       "  background: var(--sklearn-color-unfitted-level-0);\n",
       "  border: .5pt solid var(--sklearn-color-unfitted-level-3);\n",
       "}\n",
       "\n",
       ".sk-estimator-doc-link.fitted span {\n",
       "  /* fitted */\n",
       "  background: var(--sklearn-color-fitted-level-0);\n",
       "  border: var(--sklearn-color-fitted-level-3);\n",
       "}\n",
       "\n",
       ".sk-estimator-doc-link:hover span {\n",
       "  display: block;\n",
       "}\n",
       "\n",
       "/* \"?\"-specific style due to the `<a>` HTML tag */\n",
       "\n",
       "#sk-container-id-5 a.estimator_doc_link {\n",
       "  float: right;\n",
       "  font-size: 1rem;\n",
       "  line-height: 1em;\n",
       "  font-family: monospace;\n",
       "  background-color: var(--sklearn-color-background);\n",
       "  border-radius: 1rem;\n",
       "  height: 1rem;\n",
       "  width: 1rem;\n",
       "  text-decoration: none;\n",
       "  /* unfitted */\n",
       "  color: var(--sklearn-color-unfitted-level-1);\n",
       "  border: var(--sklearn-color-unfitted-level-1) 1pt solid;\n",
       "}\n",
       "\n",
       "#sk-container-id-5 a.estimator_doc_link.fitted {\n",
       "  /* fitted */\n",
       "  border: var(--sklearn-color-fitted-level-1) 1pt solid;\n",
       "  color: var(--sklearn-color-fitted-level-1);\n",
       "}\n",
       "\n",
       "/* On hover */\n",
       "#sk-container-id-5 a.estimator_doc_link:hover {\n",
       "  /* unfitted */\n",
       "  background-color: var(--sklearn-color-unfitted-level-3);\n",
       "  color: var(--sklearn-color-background);\n",
       "  text-decoration: none;\n",
       "}\n",
       "\n",
       "#sk-container-id-5 a.estimator_doc_link.fitted:hover {\n",
       "  /* fitted */\n",
       "  background-color: var(--sklearn-color-fitted-level-3);\n",
       "}\n",
       "\n",
       ".estimator-table summary {\n",
       "    padding: .5rem;\n",
       "    font-family: monospace;\n",
       "    cursor: pointer;\n",
       "}\n",
       "\n",
       ".estimator-table details[open] {\n",
       "    padding-left: 0.1rem;\n",
       "    padding-right: 0.1rem;\n",
       "    padding-bottom: 0.3rem;\n",
       "}\n",
       "\n",
       ".estimator-table .parameters-table {\n",
       "    margin-left: auto !important;\n",
       "    margin-right: auto !important;\n",
       "}\n",
       "\n",
       ".estimator-table .parameters-table tr:nth-child(odd) {\n",
       "    background-color: #fff;\n",
       "}\n",
       "\n",
       ".estimator-table .parameters-table tr:nth-child(even) {\n",
       "    background-color: #f6f6f6;\n",
       "}\n",
       "\n",
       ".estimator-table .parameters-table tr:hover {\n",
       "    background-color: #e0e0e0;\n",
       "}\n",
       "\n",
       ".estimator-table table td {\n",
       "    border: 1px solid rgba(106, 105, 104, 0.232);\n",
       "}\n",
       "\n",
       ".user-set td {\n",
       "    color:rgb(255, 94, 0);\n",
       "    text-align: left;\n",
       "}\n",
       "\n",
       ".user-set td.value pre {\n",
       "    color:rgb(255, 94, 0) !important;\n",
       "    background-color: transparent !important;\n",
       "}\n",
       "\n",
       ".default td {\n",
       "    color: black;\n",
       "    text-align: left;\n",
       "}\n",
       "\n",
       ".user-set td i,\n",
       ".default td i {\n",
       "    color: black;\n",
       "}\n",
       "\n",
       ".copy-paste-icon {\n",
       "    background-image: url(data:image/svg+xml;base64,PHN2ZyB4bWxucz0iaHR0cDovL3d3dy53My5vcmcvMjAwMC9zdmciIHZpZXdCb3g9IjAgMCA0NDggNTEyIj48IS0tIUZvbnQgQXdlc29tZSBGcmVlIDYuNy4yIGJ5IEBmb250YXdlc29tZSAtIGh0dHBzOi8vZm9udGF3ZXNvbWUuY29tIExpY2Vuc2UgLSBodHRwczovL2ZvbnRhd2Vzb21lLmNvbS9saWNlbnNlL2ZyZWUgQ29weXJpZ2h0IDIwMjUgRm9udGljb25zLCBJbmMuLS0+PHBhdGggZD0iTTIwOCAwTDMzMi4xIDBjMTIuNyAwIDI0LjkgNS4xIDMzLjkgMTQuMWw2Ny45IDY3LjljOSA5IDE0LjEgMjEuMiAxNC4xIDMzLjlMNDQ4IDMzNmMwIDI2LjUtMjEuNSA0OC00OCA0OGwtMTkyIDBjLTI2LjUgMC00OC0yMS41LTQ4LTQ4bDAtMjg4YzAtMjYuNSAyMS41LTQ4IDQ4LTQ4ek00OCAxMjhsODAgMCAwIDY0LTY0IDAgMCAyNTYgMTkyIDAgMC0zMiA2NCAwIDAgNDhjMCAyNi41LTIxLjUgNDgtNDggNDhMNDggNTEyYy0yNi41IDAtNDgtMjEuNS00OC00OEwwIDE3NmMwLTI2LjUgMjEuNS00OCA0OC00OHoiLz48L3N2Zz4=);\n",
       "    background-repeat: no-repeat;\n",
       "    background-size: 14px 14px;\n",
       "    background-position: 0;\n",
       "    display: inline-block;\n",
       "    width: 14px;\n",
       "    height: 14px;\n",
       "    cursor: pointer;\n",
       "}\n",
       "</style><body><div id=\"sk-container-id-5\" class=\"sk-top-container\"><div class=\"sk-text-repr-fallback\"><pre>XGBClassifier(base_score=None, booster=None, callbacks=None,\n",
       "              colsample_bylevel=None, colsample_bynode=None,\n",
       "              colsample_bytree=0.8, device=None, early_stopping_rounds=None,\n",
       "              enable_categorical=False, eval_metric=&#x27;logloss&#x27;,\n",
       "              feature_types=None, feature_weights=None, gamma=None,\n",
       "              grow_policy=None, importance_type=None,\n",
       "              interaction_constraints=None, learning_rate=0.1, max_bin=None,\n",
       "              max_cat_threshold=None, max_cat_to_onehot=None,\n",
       "              max_delta_step=None, max_depth=6, max_leaves=None,\n",
       "              min_child_weight=None, missing=nan, monotone_constraints=None,\n",
       "              multi_strategy=None, n_estimators=200, n_jobs=None,\n",
       "              num_parallel_tree=None, ...)</pre><b>In a Jupyter environment, please rerun this cell to show the HTML representation or trust the notebook. <br />On GitHub, the HTML representation is unable to render, please try loading this page with nbviewer.org.</b></div><div class=\"sk-container\" hidden><div class=\"sk-item\"><div class=\"sk-estimator fitted sk-toggleable\"><input class=\"sk-toggleable__control sk-hidden--visually\" id=\"sk-estimator-id-5\" type=\"checkbox\" checked><label for=\"sk-estimator-id-5\" class=\"sk-toggleable__label fitted sk-toggleable__label-arrow\"><div><div>XGBClassifier</div></div><div><a class=\"sk-estimator-doc-link fitted\" rel=\"noreferrer\" target=\"_blank\" href=\"https://xgboost.readthedocs.io/en/release_3.0.0/python/python_api.html#xgboost.XGBClassifier\">?<span>Documentation for XGBClassifier</span></a><span class=\"sk-estimator-doc-link fitted\">i<span>Fitted</span></span></div></label><div class=\"sk-toggleable__content fitted\" data-param-prefix=\"\">\n",
       "        <div class=\"estimator-table\">\n",
       "            <details>\n",
       "                <summary>Parameters</summary>\n",
       "                <table class=\"parameters-table\">\n",
       "                  <tbody>\n",
       "                    \n",
       "        <tr class=\"default\">\n",
       "            <td><i class=\"copy-paste-icon\"\n",
       "                 onclick=\"copyToClipboard('objective',\n",
       "                          this.parentElement.nextElementSibling)\"\n",
       "            ></i></td>\n",
       "            <td class=\"param\">objective&nbsp;</td>\n",
       "            <td class=\"value\">&#x27;binary:logistic&#x27;</td>\n",
       "        </tr>\n",
       "    \n",
       "\n",
       "        <tr class=\"user-set\">\n",
       "            <td><i class=\"copy-paste-icon\"\n",
       "                 onclick=\"copyToClipboard('base_score',\n",
       "                          this.parentElement.nextElementSibling)\"\n",
       "            ></i></td>\n",
       "            <td class=\"param\">base_score&nbsp;</td>\n",
       "            <td class=\"value\">None</td>\n",
       "        </tr>\n",
       "    \n",
       "\n",
       "        <tr class=\"user-set\">\n",
       "            <td><i class=\"copy-paste-icon\"\n",
       "                 onclick=\"copyToClipboard('booster',\n",
       "                          this.parentElement.nextElementSibling)\"\n",
       "            ></i></td>\n",
       "            <td class=\"param\">booster&nbsp;</td>\n",
       "            <td class=\"value\">None</td>\n",
       "        </tr>\n",
       "    \n",
       "\n",
       "        <tr class=\"user-set\">\n",
       "            <td><i class=\"copy-paste-icon\"\n",
       "                 onclick=\"copyToClipboard('callbacks',\n",
       "                          this.parentElement.nextElementSibling)\"\n",
       "            ></i></td>\n",
       "            <td class=\"param\">callbacks&nbsp;</td>\n",
       "            <td class=\"value\">None</td>\n",
       "        </tr>\n",
       "    \n",
       "\n",
       "        <tr class=\"user-set\">\n",
       "            <td><i class=\"copy-paste-icon\"\n",
       "                 onclick=\"copyToClipboard('colsample_bylevel',\n",
       "                          this.parentElement.nextElementSibling)\"\n",
       "            ></i></td>\n",
       "            <td class=\"param\">colsample_bylevel&nbsp;</td>\n",
       "            <td class=\"value\">None</td>\n",
       "        </tr>\n",
       "    \n",
       "\n",
       "        <tr class=\"user-set\">\n",
       "            <td><i class=\"copy-paste-icon\"\n",
       "                 onclick=\"copyToClipboard('colsample_bynode',\n",
       "                          this.parentElement.nextElementSibling)\"\n",
       "            ></i></td>\n",
       "            <td class=\"param\">colsample_bynode&nbsp;</td>\n",
       "            <td class=\"value\">None</td>\n",
       "        </tr>\n",
       "    \n",
       "\n",
       "        <tr class=\"user-set\">\n",
       "            <td><i class=\"copy-paste-icon\"\n",
       "                 onclick=\"copyToClipboard('colsample_bytree',\n",
       "                          this.parentElement.nextElementSibling)\"\n",
       "            ></i></td>\n",
       "            <td class=\"param\">colsample_bytree&nbsp;</td>\n",
       "            <td class=\"value\">0.8</td>\n",
       "        </tr>\n",
       "    \n",
       "\n",
       "        <tr class=\"user-set\">\n",
       "            <td><i class=\"copy-paste-icon\"\n",
       "                 onclick=\"copyToClipboard('device',\n",
       "                          this.parentElement.nextElementSibling)\"\n",
       "            ></i></td>\n",
       "            <td class=\"param\">device&nbsp;</td>\n",
       "            <td class=\"value\">None</td>\n",
       "        </tr>\n",
       "    \n",
       "\n",
       "        <tr class=\"user-set\">\n",
       "            <td><i class=\"copy-paste-icon\"\n",
       "                 onclick=\"copyToClipboard('early_stopping_rounds',\n",
       "                          this.parentElement.nextElementSibling)\"\n",
       "            ></i></td>\n",
       "            <td class=\"param\">early_stopping_rounds&nbsp;</td>\n",
       "            <td class=\"value\">None</td>\n",
       "        </tr>\n",
       "    \n",
       "\n",
       "        <tr class=\"user-set\">\n",
       "            <td><i class=\"copy-paste-icon\"\n",
       "                 onclick=\"copyToClipboard('enable_categorical',\n",
       "                          this.parentElement.nextElementSibling)\"\n",
       "            ></i></td>\n",
       "            <td class=\"param\">enable_categorical&nbsp;</td>\n",
       "            <td class=\"value\">False</td>\n",
       "        </tr>\n",
       "    \n",
       "\n",
       "        <tr class=\"user-set\">\n",
       "            <td><i class=\"copy-paste-icon\"\n",
       "                 onclick=\"copyToClipboard('eval_metric',\n",
       "                          this.parentElement.nextElementSibling)\"\n",
       "            ></i></td>\n",
       "            <td class=\"param\">eval_metric&nbsp;</td>\n",
       "            <td class=\"value\">&#x27;logloss&#x27;</td>\n",
       "        </tr>\n",
       "    \n",
       "\n",
       "        <tr class=\"user-set\">\n",
       "            <td><i class=\"copy-paste-icon\"\n",
       "                 onclick=\"copyToClipboard('feature_types',\n",
       "                          this.parentElement.nextElementSibling)\"\n",
       "            ></i></td>\n",
       "            <td class=\"param\">feature_types&nbsp;</td>\n",
       "            <td class=\"value\">None</td>\n",
       "        </tr>\n",
       "    \n",
       "\n",
       "        <tr class=\"user-set\">\n",
       "            <td><i class=\"copy-paste-icon\"\n",
       "                 onclick=\"copyToClipboard('feature_weights',\n",
       "                          this.parentElement.nextElementSibling)\"\n",
       "            ></i></td>\n",
       "            <td class=\"param\">feature_weights&nbsp;</td>\n",
       "            <td class=\"value\">None</td>\n",
       "        </tr>\n",
       "    \n",
       "\n",
       "        <tr class=\"user-set\">\n",
       "            <td><i class=\"copy-paste-icon\"\n",
       "                 onclick=\"copyToClipboard('gamma',\n",
       "                          this.parentElement.nextElementSibling)\"\n",
       "            ></i></td>\n",
       "            <td class=\"param\">gamma&nbsp;</td>\n",
       "            <td class=\"value\">None</td>\n",
       "        </tr>\n",
       "    \n",
       "\n",
       "        <tr class=\"user-set\">\n",
       "            <td><i class=\"copy-paste-icon\"\n",
       "                 onclick=\"copyToClipboard('grow_policy',\n",
       "                          this.parentElement.nextElementSibling)\"\n",
       "            ></i></td>\n",
       "            <td class=\"param\">grow_policy&nbsp;</td>\n",
       "            <td class=\"value\">None</td>\n",
       "        </tr>\n",
       "    \n",
       "\n",
       "        <tr class=\"user-set\">\n",
       "            <td><i class=\"copy-paste-icon\"\n",
       "                 onclick=\"copyToClipboard('importance_type',\n",
       "                          this.parentElement.nextElementSibling)\"\n",
       "            ></i></td>\n",
       "            <td class=\"param\">importance_type&nbsp;</td>\n",
       "            <td class=\"value\">None</td>\n",
       "        </tr>\n",
       "    \n",
       "\n",
       "        <tr class=\"user-set\">\n",
       "            <td><i class=\"copy-paste-icon\"\n",
       "                 onclick=\"copyToClipboard('interaction_constraints',\n",
       "                          this.parentElement.nextElementSibling)\"\n",
       "            ></i></td>\n",
       "            <td class=\"param\">interaction_constraints&nbsp;</td>\n",
       "            <td class=\"value\">None</td>\n",
       "        </tr>\n",
       "    \n",
       "\n",
       "        <tr class=\"user-set\">\n",
       "            <td><i class=\"copy-paste-icon\"\n",
       "                 onclick=\"copyToClipboard('learning_rate',\n",
       "                          this.parentElement.nextElementSibling)\"\n",
       "            ></i></td>\n",
       "            <td class=\"param\">learning_rate&nbsp;</td>\n",
       "            <td class=\"value\">0.1</td>\n",
       "        </tr>\n",
       "    \n",
       "\n",
       "        <tr class=\"user-set\">\n",
       "            <td><i class=\"copy-paste-icon\"\n",
       "                 onclick=\"copyToClipboard('max_bin',\n",
       "                          this.parentElement.nextElementSibling)\"\n",
       "            ></i></td>\n",
       "            <td class=\"param\">max_bin&nbsp;</td>\n",
       "            <td class=\"value\">None</td>\n",
       "        </tr>\n",
       "    \n",
       "\n",
       "        <tr class=\"user-set\">\n",
       "            <td><i class=\"copy-paste-icon\"\n",
       "                 onclick=\"copyToClipboard('max_cat_threshold',\n",
       "                          this.parentElement.nextElementSibling)\"\n",
       "            ></i></td>\n",
       "            <td class=\"param\">max_cat_threshold&nbsp;</td>\n",
       "            <td class=\"value\">None</td>\n",
       "        </tr>\n",
       "    \n",
       "\n",
       "        <tr class=\"user-set\">\n",
       "            <td><i class=\"copy-paste-icon\"\n",
       "                 onclick=\"copyToClipboard('max_cat_to_onehot',\n",
       "                          this.parentElement.nextElementSibling)\"\n",
       "            ></i></td>\n",
       "            <td class=\"param\">max_cat_to_onehot&nbsp;</td>\n",
       "            <td class=\"value\">None</td>\n",
       "        </tr>\n",
       "    \n",
       "\n",
       "        <tr class=\"user-set\">\n",
       "            <td><i class=\"copy-paste-icon\"\n",
       "                 onclick=\"copyToClipboard('max_delta_step',\n",
       "                          this.parentElement.nextElementSibling)\"\n",
       "            ></i></td>\n",
       "            <td class=\"param\">max_delta_step&nbsp;</td>\n",
       "            <td class=\"value\">None</td>\n",
       "        </tr>\n",
       "    \n",
       "\n",
       "        <tr class=\"user-set\">\n",
       "            <td><i class=\"copy-paste-icon\"\n",
       "                 onclick=\"copyToClipboard('max_depth',\n",
       "                          this.parentElement.nextElementSibling)\"\n",
       "            ></i></td>\n",
       "            <td class=\"param\">max_depth&nbsp;</td>\n",
       "            <td class=\"value\">6</td>\n",
       "        </tr>\n",
       "    \n",
       "\n",
       "        <tr class=\"user-set\">\n",
       "            <td><i class=\"copy-paste-icon\"\n",
       "                 onclick=\"copyToClipboard('max_leaves',\n",
       "                          this.parentElement.nextElementSibling)\"\n",
       "            ></i></td>\n",
       "            <td class=\"param\">max_leaves&nbsp;</td>\n",
       "            <td class=\"value\">None</td>\n",
       "        </tr>\n",
       "    \n",
       "\n",
       "        <tr class=\"user-set\">\n",
       "            <td><i class=\"copy-paste-icon\"\n",
       "                 onclick=\"copyToClipboard('min_child_weight',\n",
       "                          this.parentElement.nextElementSibling)\"\n",
       "            ></i></td>\n",
       "            <td class=\"param\">min_child_weight&nbsp;</td>\n",
       "            <td class=\"value\">None</td>\n",
       "        </tr>\n",
       "    \n",
       "\n",
       "        <tr class=\"user-set\">\n",
       "            <td><i class=\"copy-paste-icon\"\n",
       "                 onclick=\"copyToClipboard('missing',\n",
       "                          this.parentElement.nextElementSibling)\"\n",
       "            ></i></td>\n",
       "            <td class=\"param\">missing&nbsp;</td>\n",
       "            <td class=\"value\">nan</td>\n",
       "        </tr>\n",
       "    \n",
       "\n",
       "        <tr class=\"user-set\">\n",
       "            <td><i class=\"copy-paste-icon\"\n",
       "                 onclick=\"copyToClipboard('monotone_constraints',\n",
       "                          this.parentElement.nextElementSibling)\"\n",
       "            ></i></td>\n",
       "            <td class=\"param\">monotone_constraints&nbsp;</td>\n",
       "            <td class=\"value\">None</td>\n",
       "        </tr>\n",
       "    \n",
       "\n",
       "        <tr class=\"user-set\">\n",
       "            <td><i class=\"copy-paste-icon\"\n",
       "                 onclick=\"copyToClipboard('multi_strategy',\n",
       "                          this.parentElement.nextElementSibling)\"\n",
       "            ></i></td>\n",
       "            <td class=\"param\">multi_strategy&nbsp;</td>\n",
       "            <td class=\"value\">None</td>\n",
       "        </tr>\n",
       "    \n",
       "\n",
       "        <tr class=\"user-set\">\n",
       "            <td><i class=\"copy-paste-icon\"\n",
       "                 onclick=\"copyToClipboard('n_estimators',\n",
       "                          this.parentElement.nextElementSibling)\"\n",
       "            ></i></td>\n",
       "            <td class=\"param\">n_estimators&nbsp;</td>\n",
       "            <td class=\"value\">200</td>\n",
       "        </tr>\n",
       "    \n",
       "\n",
       "        <tr class=\"user-set\">\n",
       "            <td><i class=\"copy-paste-icon\"\n",
       "                 onclick=\"copyToClipboard('n_jobs',\n",
       "                          this.parentElement.nextElementSibling)\"\n",
       "            ></i></td>\n",
       "            <td class=\"param\">n_jobs&nbsp;</td>\n",
       "            <td class=\"value\">None</td>\n",
       "        </tr>\n",
       "    \n",
       "\n",
       "        <tr class=\"user-set\">\n",
       "            <td><i class=\"copy-paste-icon\"\n",
       "                 onclick=\"copyToClipboard('num_parallel_tree',\n",
       "                          this.parentElement.nextElementSibling)\"\n",
       "            ></i></td>\n",
       "            <td class=\"param\">num_parallel_tree&nbsp;</td>\n",
       "            <td class=\"value\">None</td>\n",
       "        </tr>\n",
       "    \n",
       "\n",
       "        <tr class=\"user-set\">\n",
       "            <td><i class=\"copy-paste-icon\"\n",
       "                 onclick=\"copyToClipboard('random_state',\n",
       "                          this.parentElement.nextElementSibling)\"\n",
       "            ></i></td>\n",
       "            <td class=\"param\">random_state&nbsp;</td>\n",
       "            <td class=\"value\">42</td>\n",
       "        </tr>\n",
       "    \n",
       "\n",
       "        <tr class=\"user-set\">\n",
       "            <td><i class=\"copy-paste-icon\"\n",
       "                 onclick=\"copyToClipboard('reg_alpha',\n",
       "                          this.parentElement.nextElementSibling)\"\n",
       "            ></i></td>\n",
       "            <td class=\"param\">reg_alpha&nbsp;</td>\n",
       "            <td class=\"value\">None</td>\n",
       "        </tr>\n",
       "    \n",
       "\n",
       "        <tr class=\"user-set\">\n",
       "            <td><i class=\"copy-paste-icon\"\n",
       "                 onclick=\"copyToClipboard('reg_lambda',\n",
       "                          this.parentElement.nextElementSibling)\"\n",
       "            ></i></td>\n",
       "            <td class=\"param\">reg_lambda&nbsp;</td>\n",
       "            <td class=\"value\">None</td>\n",
       "        </tr>\n",
       "    \n",
       "\n",
       "        <tr class=\"user-set\">\n",
       "            <td><i class=\"copy-paste-icon\"\n",
       "                 onclick=\"copyToClipboard('sampling_method',\n",
       "                          this.parentElement.nextElementSibling)\"\n",
       "            ></i></td>\n",
       "            <td class=\"param\">sampling_method&nbsp;</td>\n",
       "            <td class=\"value\">None</td>\n",
       "        </tr>\n",
       "    \n",
       "\n",
       "        <tr class=\"user-set\">\n",
       "            <td><i class=\"copy-paste-icon\"\n",
       "                 onclick=\"copyToClipboard('scale_pos_weight',\n",
       "                          this.parentElement.nextElementSibling)\"\n",
       "            ></i></td>\n",
       "            <td class=\"param\">scale_pos_weight&nbsp;</td>\n",
       "            <td class=\"value\">None</td>\n",
       "        </tr>\n",
       "    \n",
       "\n",
       "        <tr class=\"user-set\">\n",
       "            <td><i class=\"copy-paste-icon\"\n",
       "                 onclick=\"copyToClipboard('subsample',\n",
       "                          this.parentElement.nextElementSibling)\"\n",
       "            ></i></td>\n",
       "            <td class=\"param\">subsample&nbsp;</td>\n",
       "            <td class=\"value\">0.8</td>\n",
       "        </tr>\n",
       "    \n",
       "\n",
       "        <tr class=\"user-set\">\n",
       "            <td><i class=\"copy-paste-icon\"\n",
       "                 onclick=\"copyToClipboard('tree_method',\n",
       "                          this.parentElement.nextElementSibling)\"\n",
       "            ></i></td>\n",
       "            <td class=\"param\">tree_method&nbsp;</td>\n",
       "            <td class=\"value\">None</td>\n",
       "        </tr>\n",
       "    \n",
       "\n",
       "        <tr class=\"user-set\">\n",
       "            <td><i class=\"copy-paste-icon\"\n",
       "                 onclick=\"copyToClipboard('validate_parameters',\n",
       "                          this.parentElement.nextElementSibling)\"\n",
       "            ></i></td>\n",
       "            <td class=\"param\">validate_parameters&nbsp;</td>\n",
       "            <td class=\"value\">None</td>\n",
       "        </tr>\n",
       "    \n",
       "\n",
       "        <tr class=\"user-set\">\n",
       "            <td><i class=\"copy-paste-icon\"\n",
       "                 onclick=\"copyToClipboard('verbosity',\n",
       "                          this.parentElement.nextElementSibling)\"\n",
       "            ></i></td>\n",
       "            <td class=\"param\">verbosity&nbsp;</td>\n",
       "            <td class=\"value\">None</td>\n",
       "        </tr>\n",
       "    \n",
       "                  </tbody>\n",
       "                </table>\n",
       "            </details>\n",
       "        </div>\n",
       "    </div></div></div></div></div><script>function copyToClipboard(text, element) {\n",
       "    // Get the parameter prefix from the closest toggleable content\n",
       "    const toggleableContent = element.closest('.sk-toggleable__content');\n",
       "    const paramPrefix = toggleableContent ? toggleableContent.dataset.paramPrefix : '';\n",
       "    const fullParamName = paramPrefix ? `${paramPrefix}${text}` : text;\n",
       "\n",
       "    const originalStyle = element.style;\n",
       "    const computedStyle = window.getComputedStyle(element);\n",
       "    const originalWidth = computedStyle.width;\n",
       "    const originalHTML = element.innerHTML.replace('Copied!', '');\n",
       "\n",
       "    navigator.clipboard.writeText(fullParamName)\n",
       "        .then(() => {\n",
       "            element.style.width = originalWidth;\n",
       "            element.style.color = 'green';\n",
       "            element.innerHTML = \"Copied!\";\n",
       "\n",
       "            setTimeout(() => {\n",
       "                element.innerHTML = originalHTML;\n",
       "                element.style = originalStyle;\n",
       "            }, 2000);\n",
       "        })\n",
       "        .catch(err => {\n",
       "            console.error('Failed to copy:', err);\n",
       "            element.style.color = 'red';\n",
       "            element.innerHTML = \"Failed!\";\n",
       "            setTimeout(() => {\n",
       "                element.innerHTML = originalHTML;\n",
       "                element.style = originalStyle;\n",
       "            }, 2000);\n",
       "        });\n",
       "    return false;\n",
       "}\n",
       "\n",
       "document.querySelectorAll('.fa-regular.fa-copy').forEach(function(element) {\n",
       "    const toggleableContent = element.closest('.sk-toggleable__content');\n",
       "    const paramPrefix = toggleableContent ? toggleableContent.dataset.paramPrefix : '';\n",
       "    const paramName = element.parentElement.nextElementSibling.textContent.trim();\n",
       "    const fullParamName = paramPrefix ? `${paramPrefix}${paramName}` : paramName;\n",
       "\n",
       "    element.setAttribute('title', fullParamName);\n",
       "});\n",
       "</script></body>"
      ],
      "text/plain": [
       "XGBClassifier(base_score=None, booster=None, callbacks=None,\n",
       "              colsample_bylevel=None, colsample_bynode=None,\n",
       "              colsample_bytree=0.8, device=None, early_stopping_rounds=None,\n",
       "              enable_categorical=False, eval_metric='logloss',\n",
       "              feature_types=None, feature_weights=None, gamma=None,\n",
       "              grow_policy=None, importance_type=None,\n",
       "              interaction_constraints=None, learning_rate=0.1, max_bin=None,\n",
       "              max_cat_threshold=None, max_cat_to_onehot=None,\n",
       "              max_delta_step=None, max_depth=6, max_leaves=None,\n",
       "              min_child_weight=None, missing=nan, monotone_constraints=None,\n",
       "              multi_strategy=None, n_estimators=200, n_jobs=None,\n",
       "              num_parallel_tree=None, ...)"
      ]
     },
     "execution_count": 142,
     "metadata": {},
     "output_type": "execute_result"
    }
   ],
   "source": [
    "xgb_model = XGBClassifier(\n",
    "    n_estimators=200,         # more trees\n",
    "    learning_rate=0.1,        # shrinkage rate\n",
    "    max_depth=6,              # tree depth\n",
    "    subsample=0.8,            # row sampling\n",
    "    colsample_bytree=0.8,     # feature sampling\n",
    "    random_state=42,\n",
    "    eval_metric='logloss'     # prevents warning\n",
    ")\n",
    "\n",
    "xgb_model.fit(X_train, y_train)"
   ]
  },
  {
   "cell_type": "code",
   "execution_count": 143,
   "id": "5b9b8d02",
   "metadata": {},
   "outputs": [
    {
     "name": "stdout",
     "output_type": "stream",
     "text": [
      "Accuracy: 0.8998261067875367\n",
      "Confusion Matrix:\n",
      " [[31565     0]\n",
      " [ 3514     0]]\n",
      "classifier Report:\n",
      "               precision    recall  f1-score   support\n",
      "\n",
      "           0       0.90      1.00      0.95     31565\n",
      "           1       0.00      0.00      0.00      3514\n",
      "\n",
      "    accuracy                           0.90     35079\n",
      "   macro avg       0.45      0.50      0.47     35079\n",
      "weighted avg       0.81      0.90      0.85     35079\n",
      "\n"
     ]
    },
    {
     "name": "stderr",
     "output_type": "stream",
     "text": [
      "c:\\Users\\DELL\\AppData\\Local\\Programs\\Python\\Python312\\Lib\\site-packages\\sklearn\\metrics\\_classification.py:1706: UndefinedMetricWarning:\n",
      "\n",
      "Precision is ill-defined and being set to 0.0 in labels with no predicted samples. Use `zero_division` parameter to control this behavior.\n",
      "\n",
      "c:\\Users\\DELL\\AppData\\Local\\Programs\\Python\\Python312\\Lib\\site-packages\\sklearn\\metrics\\_classification.py:1706: UndefinedMetricWarning:\n",
      "\n",
      "Precision is ill-defined and being set to 0.0 in labels with no predicted samples. Use `zero_division` parameter to control this behavior.\n",
      "\n",
      "c:\\Users\\DELL\\AppData\\Local\\Programs\\Python\\Python312\\Lib\\site-packages\\sklearn\\metrics\\_classification.py:1706: UndefinedMetricWarning:\n",
      "\n",
      "Precision is ill-defined and being set to 0.0 in labels with no predicted samples. Use `zero_division` parameter to control this behavior.\n",
      "\n"
     ]
    }
   ],
   "source": [
    "y_pred = xgb_model.predict(X_test)\n",
    "print(\"Accuracy:\", accuracy_score(y_test, y_pred))\n",
    "print(\"Confusion Matrix:\\n\", confusion_matrix(y_test, y_pred))\n",
    "print(\"classifier Report:\\n\", classification_report(y_test, y_pred))"
   ]
  },
  {
   "cell_type": "code",
   "execution_count": null,
   "id": "2cd2f5b1",
   "metadata": {},
   "outputs": [],
   "source": []
  },
  {
   "cell_type": "code",
   "execution_count": 147,
   "id": "dca809c8",
   "metadata": {},
   "outputs": [
    {
     "data": {
      "image/png": "[encoded data removed]",
      "text/plain": [
       "<Figure size 640x480 with 2 Axes>"
      ]
     },
     "metadata": {},
     "output_type": "display_data"
    }
   ],
   "source": [
    "cm = confusion_matrix(y_test, y_pred)\n",
    "sns.heatmap(cm, annot=True, fmt='d', cmap='Blues')\n",
    "plt.xlabel('Predicted')\n",
    "plt.ylabel('Actual')\n",
    "plt.show()"
   ]
  },
  {
   "cell_type": "code",
   "execution_count": 149,
   "id": "e488812e",
   "metadata": {},
   "outputs": [
    {
     "data": {
      "image/png": "[encoded data removed]",
      "text/plain": [
       "<Figure size 1000x500 with 1 Axes>"
      ]
     },
     "metadata": {},
     "output_type": "display_data"
    }
   ],
   "source": [
    "feat_imp = pd.Series(xgb.feature_importances_, index=X_train.columns)\n",
    "feat_imp.sort_values(ascending=False).plot(kind='bar', figsize=(10,5))\n",
    "plt.title('Feature Importance')\n",
    "plt.show()"
   ]
  },
  {
   "cell_type": "code",
   "execution_count": 150,
   "id": "1d7cec06",
   "metadata": {},
   "outputs": [
    {
     "name": "stdout",
     "output_type": "stream",
     "text": [
      "Model saved successfully!\n"
     ]
    }
   ],
   "source": [
    "from joblib import dump, load #dump is used to save the model and load is used to load the model\n",
    "with open('xgboost.pkl', 'wb') as f:\n",
    "    dump(xgb, f)  #dumping the model onto the file \n",
    "    print(\"Model saved successfully!\")"
   ]
  },
  {
   "cell_type": "code",
   "execution_count": 187,
   "id": "f41f24a4",
   "metadata": {},
   "outputs": [],
   "source": [
    "import numpy as np\n",
    "import plotly.graph_objects as go\n",
    "\n",
    "# ---------- Data Preparation ----------\n",
    "cycles = np.arange(0, 200, 1)\n",
    "\n",
    "# Simulated battery metrics\n",
    "soc = 100 - cycles*0.5 + np.random.uniform(-3, 3, len(cycles))     # State of Charge %\n",
    "soh = 100 - cycles*0.3 + np.random.uniform(-2, 2, len(cycles))     # State of Health %\n",
    "voltage = 4.2 - cycles*0.01 + np.random.uniform(-0.05, 0.05, len(cycles))  # Voltage (V)\n",
    "temp = 25 + np.sin(cycles/10)*5 + np.random.uniform(-2, 2, len(cycles))   # Temperature °C\n"
   ]
  },
  {
   "cell_type": "code",
   "execution_count": 152,
   "id": "26348f13",
   "metadata": {},
   "outputs": [
    {
     "data": {
      "application/vnd.plotly.v1+json": {
       "config": {
        "plotlyServerURL": "https://plot.ly"
       },
       "data": [
        {
         "line": {
          "color": "gold"
         },
         "mode": "lines",
         "name": "SoC (%)",
         "type": "scatter",
         "x": {
          "bdata": "AAABAAIAAwAEAAUABgAHAAgACQAKAAsADAANAA4ADwAQABEAEgATABQAFQAWABcAGAAZABoAGwAcAB0AHgAfACAAIQAiACMAJAAlACYAJwAoACkAKgArACwALQAuAC8AMAAxADIAMwA0ADUANgA3ADgAOQA6ADsAPAA9AD4APwBAAEEAQgBDAEQARQBGAEcASABJAEoASwBMAE0ATgBPAFAAUQBSAFMAVABVAFYAVwBYAFkAWgBbAFwAXQBeAF8AYABhAGIAYwBkAGUAZgBnAGgAaQBqAGsAbABtAG4AbwBwAHEAcgBzAHQAdQB2AHcAeAB5AHoAewB8AH0AfgB/AIAAgQCCAIMAhACFAIYAhwCIAIkAigCLAIwAjQCOAI8AkACRAJIAkwCUAJUAlgCXAJgAmQCaAJsAnACdAJ4AnwCgAKEAogCjAKQApQCmAKcAqACpAKoAqwCsAK0ArgCvALAAsQCyALMAtAC1ALYAtwC4ALkAugC7ALwAvQC+AL8AwADBAMIAwwDEAMUAxgDHAA==",
          "dtype": "i2"
         },
         "y": {
          "bdata": "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",
          "dtype": "f8"
         }
        },
        {
         "line": {
          "color": "lightgreen"
         },
         "mode": "lines",
         "name": "SoH (%)",
         "type": "scatter",
         "x": {
          "bdata": "AAABAAIAAwAEAAUABgAHAAgACQAKAAsADAANAA4ADwAQABEAEgATABQAFQAWABcAGAAZABoAGwAcAB0AHgAfACAAIQAiACMAJAAlACYAJwAoACkAKgArACwALQAuAC8AMAAxADIAMwA0ADUANgA3ADgAOQA6ADsAPAA9AD4APwBAAEEAQgBDAEQARQBGAEcASABJAEoASwBMAE0ATgBPAFAAUQBSAFMAVABVAFYAVwBYAFkAWgBbAFwAXQBeAF8AYABhAGIAYwBkAGUAZgBnAGgAaQBqAGsAbABtAG4AbwBwAHEAcgBzAHQAdQB2AHcAeAB5AHoAewB8AH0AfgB/AIAAgQCCAIMAhACFAIYAhwCIAIkAigCLAIwAjQCOAI8AkACRAJIAkwCUAJUAlgCXAJgAmQCaAJsAnACdAJ4AnwCgAKEAogCjAKQApQCmAKcAqACpAKoAqwCsAK0ArgCvALAAsQCyALMAtAC1ALYAtwC4ALkAugC7ALwAvQC+AL8AwADBAMIAwwDEAMUAxgDHAA==",
          "dtype": "i2"
         },
         "y": {
          "bdata": "/+rfxDmkWECUafhme0pZQCoMOwuUylhAO8+Qy+vCWEDtGcOF+6VYQKGCBVtesVhAvoVvv9GrWEBbFshLInlYQMs+BEFMxFhADJ/LbOZzWECy92n7wyZYQFc8aRx5F1hArOkvuCxpWEAdOtWBid9XQPaq+xlVqVdAxmqSvDNvV0BuCXMYEC1YQMVR0XW/JFhAtmGkmCZFV0DsS2hF02hXQCczFy/lLFdAShByUngKV0ANi1FE979XQL9Qduj11FZACv/1TjSuV0DHXewAsbhWQHEkZDbZaVdATRrsJKAKV0BJNJA9lsRWQAjXMvPWqlZAeF7SneIBV0DTCeusVH1WQEaDC6ffwVZAJnjY4dWKVkBj1pToWW9WQJ1UY5CyxlZAR3bABMpaVkAlA1HNRo1WQIM1TpYlYFZAFwxyFhKdVUA5uFeK6kVWQJdq1JtRpFVAsThOas5AVkCvRdF6Y1FVQLl6qmh3iFVA+7QyGYg5VUBPAyUCjYZVQJilIZeGy1VAwzskaLwyVUDe+ZLe1vlUQNpDZWGMFFVAhTa9Pyd9VUAzO5XNib1UQL6GUdOawFRA4vZ6e9OEVEDjZNdpqRRVQKAUTM76sVRATrgJzyyJVEAx9ZJMXt5UQOq9/9I1aVRAmWzZN0+6VEDaZCO1fb1UQCzOI1pSEVRAO5YFlbK/VEAHu499w9xTQAFutox06lNApuc63dO6U0DFO6CoDNJTQMqtm6tL4VNAEVOLhODYU0CaVPPshRpUQOWofKh/EFRAmWCdU/JRU0Dpgh9i3KVTQFHuojS+D1NA6VR7DH9VU0A8HTFAUR9TQJ17+MqfClNAUR52CvEhU0DlgxUvCU5TQLH2aPS1kVJAva7JTd5NU0DgSQRbthVTQEdxxXaVc1JAcWmhDKAjU0DYvoutnaFSQJgSRkHADFNAPoxoMhksUkBx0cgkVm9SQBC5TeWAHVJAeEt5Ud4NUkCfR13cHERSQO3oeWGPhVJAb8MKLIxUUkDT+2lshyxSQE7oUgMm71FAkTMDjug4UkBgJkX/pLdRQEGKmt0ZBlJATR1hBbPoUUDcPc3pvTZRQL8U+tQ7slFANKC6P7fcUEASWkhbCxlRQNJgziH47VBAv0FWxcEhUUBVLHQ1b0lRQExhHeuaklBA5rNnVzjqUED3jGL4bkNRQKDQkpSIelBA24gJ7CXaUEB4DPeZYLFQQKweMu/5CFBApPwQ8gJtUEAGd/H5cZVQQIZXPowdsE9A/FB/68GaUECJG6p0iitQQEQKdjQZNk9AWfRHV+ZyT0AC8vPj8GBQQIC/FQNZ3U9ASl7EcdPDTkB7R9lun/lOQCASwg7VKU9AxE5GkVMkTkDWMfZ38sVOQHOsTB9nx05AVZUYvykjTkD2zk4XYq1OQJH3+ElC205AjtKidvKrTUAxjIL2fkpOQAAMdffiLU5AnpIIE6elTkBcMFXQEyhOQPUg3oKNJU5A2uFEHuVHTUDFRfVoTIVMQJE8iIDb/U1AVAWwhNQbTEBvX8MNlqRMQM50Eeapr0tAjKXP0aZJTUDbE1CkCi5NQBRq9lztiUxAt6ZFdmWmS0Cdwcc1C09LQKE2wzw8LktAkk+4rizBSkDEalxu0GZLQMd9VXnPe0pAVsZpUveuSkCERTsSRidLQE42k5iANEtAqaxqEgemSUBK+L9ca09KQBdULBOwmkpAJH18DkPbSkCPKBXFXfNJQFfWHVrVyUpAXRZ0MDQ7SUBjJcdpt5NIQGzhANsUXklAs1TrWCHDSEC1jTbsV79JQHIKAC5hakhAUknIl9drSEAZQG4pgjtJQNrOnkEn7khAenjffVJ3SECp3wEnIpxIQKSq+F4k40dAJRcIZh7pRkAYNONW0MVGQAHdTnZYn0dA/Ra3UNidRkB7tYZd82ZGQB0U0Ji+FEhAoASpMc+3R0CIiNsccCdGQNRxrUKKs0VAQpfOFO9uR0DIRLIN5/RFQJxWefgtn0VA6LVh86Z7RkDWq0xu9SpFQHJxvfNMVEVAvG2KAqaZRkAnwC6qZ8dFQDHxJeEvZEVARZJNMO/+REBksmwwWJlFQO79dfqRLkRA4d1/5kavRUApjQS3flJFQAzDa7xwr0RAK/OlmcRiQ0D6lqHzPI1EQA==",
          "dtype": "f8"
         }
        },
        {
         "line": {
          "color": "red"
         },
         "mode": "lines",
         "name": "Voltage (V)",
         "type": "scatter",
         "x": {
          "bdata": "AAABAAIAAwAEAAUABgAHAAgACQAKAAsADAANAA4ADwAQABEAEgATABQAFQAWABcAGAAZABoAGwAcAB0AHgAfACAAIQAiACMAJAAlACYAJwAoACkAKgArACwALQAuAC8AMAAxADIAMwA0ADUANgA3ADgAOQA6ADsAPAA9AD4APwBAAEEAQgBDAEQARQBGAEcASABJAEoASwBMAE0ATgBPAFAAUQBSAFMAVABVAFYAVwBYAFkAWgBbAFwAXQBeAF8AYABhAGIAYwBkAGUAZgBnAGgAaQBqAGsAbABtAG4AbwBwAHEAcgBzAHQAdQB2AHcAeAB5AHoAewB8AH0AfgB/AIAAgQCCAIMAhACFAIYAhwCIAIkAigCLAIwAjQCOAI8AkACRAJIAkwCUAJUAlgCXAJgAmQCaAJsAnACdAJ4AnwCgAKEAogCjAKQApQCmAKcAqACpAKoAqwCsAK0ArgCvALAAsQCyALMAtAC1ALYAtwC4ALkAugC7ALwAvQC+AL8AwADBAMIAwwDEAMUAxgDHAA==",
          "dtype": "i2"
         },
         "y": {
          "bdata": "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",
          "dtype": "f8"
         }
        },
        {
         "line": {
          "color": "orange"
         },
         "mode": "lines",
         "name": "Temperature (°C)",
         "type": "scatter",
         "x": {
          "bdata": "AAABAAIAAwAEAAUABgAHAAgACQAKAAsADAANAA4ADwAQABEAEgATABQAFQAWABcAGAAZABoAGwAcAB0AHgAfACAAIQAiACMAJAAlACYAJwAoACkAKgArACwALQAuAC8AMAAxADIAMwA0ADUANgA3ADgAOQA6ADsAPAA9AD4APwBAAEEAQgBDAEQARQBGAEcASABJAEoASwBMAE0ATgBPAFAAUQBSAFMAVABVAFYAVwBYAFkAWgBbAFwAXQBeAF8AYABhAGIAYwBkAGUAZgBnAGgAaQBqAGsAbABtAG4AbwBwAHEAcgBzAHQAdQB2AHcAeAB5AHoAewB8AH0AfgB/AIAAgQCCAIMAhACFAIYAhwCIAIkAigCLAIwAjQCOAI8AkACRAJIAkwCUAJUAlgCXAJgAmQCaAJsAnACdAJ4AnwCgAKEAogCjAKQApQCmAKcAqACpAKoAqwCsAK0ArgCvALAAsQCyALMAtAC1ALYAtwC4ALkAugC7ALwAvQC+AL8AwADBAMIAwwDEAMUAxgDHAA==",
          "dtype": "i2"
         },
         "y": {
          "bdata": "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",
          "dtype": "f8"
         }
        }
       ],
       "layout": {
        "annotations": [
         {
          "align": "left",
          "bgcolor": "black",
          "bordercolor": "gold",
          "borderwidth": 1,
          "font": {
           "color": "gold",
           "size": 12
          },
          "opacity": 0.8,
          "showarrow": false,
          "text": "⚡ SoC & SoH decrease slowly with cycles.<br>🔴 Voltage gradually drops.<br>🟠 Temperature shows fluctuations.<br>This graph helps track battery aging.",
          "x": 100,
          "xref": "x",
          "y": 95,
          "yref": "y"
         }
        ],
        "template": {
         "data": {
          "bar": [
           {
            "error_x": {
             "color": "#f2f5fa"
            },
            "error_y": {
             "color": "#f2f5fa"
            },
            "marker": {
             "line": {
              "color": "rgb(17,17,17)",
              "width": 0.5
             },
             "pattern": {
              "fillmode": "overlay",
              "size": 10,
              "solidity": 0.2
             }
            },
            "type": "bar"
           }
          ],
          "barpolar": [
           {
            "marker": {
             "line": {
              "color": "rgb(17,17,17)",
              "width": 0.5
             },
             "pattern": {
              "fillmode": "overlay",
              "size": 10,
              "solidity": 0.2
             }
            },
            "type": "barpolar"
           }
          ],
          "carpet": [
           {
            "aaxis": {
             "endlinecolor": "#A2B1C6",
             "gridcolor": "#506784",
             "linecolor": "#506784",
             "minorgridcolor": "#506784",
             "startlinecolor": "#A2B1C6"
            },
            "baxis": {
             "endlinecolor": "#A2B1C6",
             "gridcolor": "#506784",
             "linecolor": "#506784",
             "minorgridcolor": "#506784",
             "startlinecolor": "#A2B1C6"
            },
            "type": "carpet"
           }
          ],
          "choropleth": [
           {
            "colorbar": {
             "outlinewidth": 0,
             "ticks": ""
            },
            "type": "choropleth"
           }
          ],
          "contour": [
           {
            "colorbar": {
             "outlinewidth": 0,
             "ticks": ""
            },
            "colorscale": [
             [
              0,
              "#0d0887"
             ],
             [
              0.1111111111111111,
              "#46039f"
             ],
             [
              0.2222222222222222,
              "#7201a8"
             ],
             [
              0.3333333333333333,
              "#9c179e"
             ],
             [
              0.4444444444444444,
              "#bd3786"
             ],
             [
              0.5555555555555556,
              "#d8576b"
             ],
             [
              0.6666666666666666,
              "#ed7953"
             ],
             [
              0.7777777777777778,
              "#fb9f3a"
             ],
             [
              0.8888888888888888,
              "#fdca26"
             ],
             [
              1,
              "#f0f921"
             ]
            ],
            "type": "contour"
           }
          ],
          "contourcarpet": [
           {
            "colorbar": {
             "outlinewidth": 0,
             "ticks": ""
            },
            "type": "contourcarpet"
           }
          ],
          "heatmap": [
           {
            "colorbar": {
             "outlinewidth": 0,
             "ticks": ""
            },
            "colorscale": [
             [
              0,
              "#0d0887"
             ],
             [
              0.1111111111111111,
              "#46039f"
             ],
             [
              0.2222222222222222,
              "#7201a8"
             ],
             [
              0.3333333333333333,
              "#9c179e"
             ],
             [
              0.4444444444444444,
              "#bd3786"
             ],
             [
              0.5555555555555556,
              "#d8576b"
             ],
             [
              0.6666666666666666,
              "#ed7953"
             ],
             [
              0.7777777777777778,
              "#fb9f3a"
             ],
             [
              0.8888888888888888,
              "#fdca26"
             ],
             [
              1,
              "#f0f921"
             ]
            ],
            "type": "heatmap"
           }
          ],
          "histogram": [
           {
            "marker": {
             "pattern": {
              "fillmode": "overlay",
              "size": 10,
              "solidity": 0.2
             }
            },
            "type": "histogram"
           }
          ],
          "histogram2d": [
           {
            "colorbar": {
             "outlinewidth": 0,
             "ticks": ""
            },
            "colorscale": [
             [
              0,
              "#0d0887"
             ],
             [
              0.1111111111111111,
              "#46039f"
             ],
             [
              0.2222222222222222,
              "#7201a8"
             ],
             [
              0.3333333333333333,
              "#9c179e"
             ],
             [
              0.4444444444444444,
              "#bd3786"
             ],
             [
              0.5555555555555556,
              "#d8576b"
             ],
             [
              0.6666666666666666,
              "#ed7953"
             ],
             [
              0.7777777777777778,
              "#fb9f3a"
             ],
             [
              0.8888888888888888,
              "#fdca26"
             ],
             [
              1,
              "#f0f921"
             ]
            ],
            "type": "histogram2d"
           }
          ],
          "histogram2dcontour": [
           {
            "colorbar": {
             "outlinewidth": 0,
             "ticks": ""
            },
            "colorscale": [
             [
              0,
              "#0d0887"
             ],
             [
              0.1111111111111111,
              "#46039f"
             ],
             [
              0.2222222222222222,
              "#7201a8"
             ],
             [
              0.3333333333333333,
              "#9c179e"
             ],
             [
              0.4444444444444444,
              "#bd3786"
             ],
             [
              0.5555555555555556,
              "#d8576b"
             ],
             [
              0.6666666666666666,
              "#ed7953"
             ],
             [
              0.7777777777777778,
              "#fb9f3a"
             ],
             [
              0.8888888888888888,
              "#fdca26"
             ],
             [
              1,
              "#f0f921"
             ]
            ],
            "type": "histogram2dcontour"
           }
          ],
          "mesh3d": [
           {
            "colorbar": {
             "outlinewidth": 0,
             "ticks": ""
            },
            "type": "mesh3d"
           }
          ],
          "parcoords": [
           {
            "line": {
             "colorbar": {
              "outlinewidth": 0,
              "ticks": ""
             }
            },
            "type": "parcoords"
           }
          ],
          "pie": [
           {
            "automargin": true,
            "type": "pie"
           }
          ],
          "scatter": [
           {
            "marker": {
             "line": {
              "color": "#283442"
             }
            },
            "type": "scatter"
           }
          ],
          "scatter3d": [
           {
            "line": {
             "colorbar": {
              "outlinewidth": 0,
              "ticks": ""
             }
            },
            "marker": {
             "colorbar": {
              "outlinewidth": 0,
              "ticks": ""
             }
            },
            "type": "scatter3d"
           }
          ],
          "scattercarpet": [
           {
            "marker": {
             "colorbar": {
              "outlinewidth": 0,
              "ticks": ""
             }
            },
            "type": "scattercarpet"
           }
          ],
          "scattergeo": [
           {
            "marker": {
             "colorbar": {
              "outlinewidth": 0,
              "ticks": ""
             }
            },
            "type": "scattergeo"
           }
          ],
          "scattergl": [
           {
            "marker": {
             "line": {
              "color": "#283442"
             }
            },
            "type": "scattergl"
           }
          ],
          "scattermap": [
           {
            "marker": {
             "colorbar": {
              "outlinewidth": 0,
              "ticks": ""
             }
            },
            "type": "scattermap"
           }
          ],
          "scattermapbox": [
           {
            "marker": {
             "colorbar": {
              "outlinewidth": 0,
              "ticks": ""
             }
            },
            "type": "scattermapbox"
           }
          ],
          "scatterpolar": [
           {
            "marker": {
             "colorbar": {
              "outlinewidth": 0,
              "ticks": ""
             }
            },
            "type": "scatterpolar"
           }
          ],
          "scatterpolargl": [
           {
            "marker": {
             "colorbar": {
              "outlinewidth": 0,
              "ticks": ""
             }
            },
            "type": "scatterpolargl"
           }
          ],
          "scatterternary": [
           {
            "marker": {
             "colorbar": {
              "outlinewidth": 0,
              "ticks": ""
             }
            },
            "type": "scatterternary"
           }
          ],
          "surface": [
           {
            "colorbar": {
             "outlinewidth": 0,
             "ticks": ""
            },
            "colorscale": [
             [
              0,
              "#0d0887"
             ],
             [
              0.1111111111111111,
              "#46039f"
             ],
             [
              0.2222222222222222,
              "#7201a8"
             ],
             [
              0.3333333333333333,
              "#9c179e"
             ],
             [
              0.4444444444444444,
              "#bd3786"
             ],
             [
              0.5555555555555556,
              "#d8576b"
             ],
             [
              0.6666666666666666,
              "#ed7953"
             ],
             [
              0.7777777777777778,
              "#fb9f3a"
             ],
             [
              0.8888888888888888,
              "#fdca26"
             ],
             [
              1,
              "#f0f921"
             ]
            ],
            "type": "surface"
           }
          ],
          "table": [
           {
            "cells": {
             "fill": {
              "color": "#506784"
             },
             "line": {
              "color": "rgb(17,17,17)"
             }
            },
            "header": {
             "fill": {
              "color": "#2a3f5f"
             },
             "line": {
              "color": "rgb(17,17,17)"
             }
            },
            "type": "table"
           }
          ]
         },
         "layout": {
          "annotationdefaults": {
           "arrowcolor": "#f2f5fa",
           "arrowhead": 0,
           "arrowwidth": 1
          },
          "autotypenumbers": "strict",
          "coloraxis": {
           "colorbar": {
            "outlinewidth": 0,
            "ticks": ""
           }
          },
          "colorscale": {
           "diverging": [
            [
             0,
             "#8e0152"
            ],
            [
             0.1,
             "#c51b7d"
            ],
            [
             0.2,
             "#de77ae"
            ],
            [
             0.3,
             "#f1b6da"
            ],
            [
             0.4,
             "#fde0ef"
            ],
            [
             0.5,
             "#f7f7f7"
            ],
            [
             0.6,
             "#e6f5d0"
            ],
            [
             0.7,
             "#b8e186"
            ],
            [
             0.8,
             "#7fbc41"
            ],
            [
             0.9,
             "#4d9221"
            ],
            [
             1,
             "#276419"
            ]
           ],
           "sequential": [
            [
             0,
             "#0d0887"
            ],
            [
             0.1111111111111111,
             "#46039f"
            ],
            [
             0.2222222222222222,
             "#7201a8"
            ],
            [
             0.3333333333333333,
             "#9c179e"
            ],
            [
             0.4444444444444444,
             "#bd3786"
            ],
            [
             0.5555555555555556,
             "#d8576b"
            ],
            [
             0.6666666666666666,
             "#ed7953"
            ],
            [
             0.7777777777777778,
             "#fb9f3a"
            ],
            [
             0.8888888888888888,
             "#fdca26"
            ],
            [
             1,
             "#f0f921"
            ]
           ],
           "sequentialminus": [
            [
             0,
             "#0d0887"
            ],
            [
             0.1111111111111111,
             "#46039f"
            ],
            [
             0.2222222222222222,
             "#7201a8"
            ],
            [
             0.3333333333333333,
             "#9c179e"
            ],
            [
             0.4444444444444444,
             "#bd3786"
            ],
            [
             0.5555555555555556,
             "#d8576b"
            ],
            [
             0.6666666666666666,
             "#ed7953"
            ],
            [
             0.7777777777777778,
             "#fb9f3a"
            ],
            [
             0.8888888888888888,
             "#fdca26"
            ],
            [
             1,
             "#f0f921"
            ]
           ]
          },
          "colorway": [
           "#636efa",
           "#EF553B",
           "#00cc96",
           "#ab63fa",
           "#FFA15A",
           "#19d3f3",
           "#FF6692",
           "#B6E880",
           "#FF97FF",
           "#FECB52"
          ],
          "font": {
           "color": "#f2f5fa"
          },
          "geo": {
           "bgcolor": "rgb(17,17,17)",
           "lakecolor": "rgb(17,17,17)",
           "landcolor": "rgb(17,17,17)",
           "showlakes": true,
           "showland": true,
           "subunitcolor": "#506784"
          },
          "hoverlabel": {
           "align": "left"
          },
          "hovermode": "closest",
          "mapbox": {
           "style": "dark"
          },
          "paper_bgcolor": "rgb(17,17,17)",
          "plot_bgcolor": "rgb(17,17,17)",
          "polar": {
           "angularaxis": {
            "gridcolor": "#506784",
            "linecolor": "#506784",
            "ticks": ""
           },
           "bgcolor": "rgb(17,17,17)",
           "radialaxis": {
            "gridcolor": "#506784",
            "linecolor": "#506784",
            "ticks": ""
           }
          },
          "scene": {
           "xaxis": {
            "backgroundcolor": "rgb(17,17,17)",
            "gridcolor": "#506784",
            "gridwidth": 2,
            "linecolor": "#506784",
            "showbackground": true,
            "ticks": "",
            "zerolinecolor": "#C8D4E3"
           },
           "yaxis": {
            "backgroundcolor": "rgb(17,17,17)",
            "gridcolor": "#506784",
            "gridwidth": 2,
            "linecolor": "#506784",
            "showbackground": true,
            "ticks": "",
            "zerolinecolor": "#C8D4E3"
           },
           "zaxis": {
            "backgroundcolor": "rgb(17,17,17)",
            "gridcolor": "#506784",
            "gridwidth": 2,
            "linecolor": "#506784",
            "showbackground": true,
            "ticks": "",
            "zerolinecolor": "#C8D4E3"
           }
          },
          "shapedefaults": {
           "line": {
            "color": "#f2f5fa"
           }
          },
          "sliderdefaults": {
           "bgcolor": "#C8D4E3",
           "bordercolor": "rgb(17,17,17)",
           "borderwidth": 1,
           "tickwidth": 0
          },
          "ternary": {
           "aaxis": {
            "gridcolor": "#506784",
            "linecolor": "#506784",
            "ticks": ""
           },
           "baxis": {
            "gridcolor": "#506784",
            "linecolor": "#506784",
            "ticks": ""
           },
           "bgcolor": "rgb(17,17,17)",
           "caxis": {
            "gridcolor": "#506784",
            "linecolor": "#506784",
            "ticks": ""
           }
          },
          "title": {
           "x": 0.05
          },
          "updatemenudefaults": {
           "bgcolor": "#506784",
           "borderwidth": 0
          },
          "xaxis": {
           "automargin": true,
           "gridcolor": "#283442",
           "linecolor": "#506784",
           "ticks": "",
           "title": {
            "standoff": 15
           },
           "zerolinecolor": "#283442",
           "zerolinewidth": 2
          },
          "yaxis": {
           "automargin": true,
           "gridcolor": "#283442",
           "linecolor": "#506784",
           "ticks": "",
           "title": {
            "standoff": 15
           },
           "zerolinecolor": "#283442",
           "zerolinewidth": 2
          }
         }
        },
        "title": {
         "text": "🔋 Battery Trends Over Cycles"
        },
        "xaxis": {
         "title": {
          "text": "Cycles"
         }
        },
        "yaxis": {
         "title": {
          "text": "Value"
         }
        }
       }
      }
     },
     "metadata": {},
     "output_type": "display_data"
    }
   ],
   "source": [
    "fig_trend = go.Figure()\n",
    "\n",
    "# --- Add Traces ---\n",
    "fig_trend.add_trace(go.Scatter(x=cycles, y=soc, mode=\"lines\", name=\"SoC (%)\", line=dict(color=\"gold\")))\n",
    "fig_trend.add_trace(go.Scatter(x=cycles, y=soh, mode=\"lines\", name=\"SoH (%)\", line=dict(color=\"lightgreen\")))\n",
    "fig_trend.add_trace(go.Scatter(x=cycles, y=voltage, mode=\"lines\", name=\"Voltage (V)\", line=dict(color=\"red\")))\n",
    "fig_trend.add_trace(go.Scatter(x=cycles, y=temp, mode=\"lines\", name=\"Temperature (°C)\", line=dict(color=\"orange\")))\n",
    "\n",
    "# --- Layout & Annotations ---\n",
    "fig_trend.update_layout(\n",
    "    title=\"🔋 Battery Trends Over Cycles\",\n",
    "    template=\"plotly_dark\",\n",
    "    xaxis_title=\"Cycles\",\n",
    "    yaxis_title=\"Value\",\n",
    "    annotations=[\n",
    "        dict(\n",
    "            x=100, y=95,  # position of text\n",
    "            xref=\"x\", yref=\"y\",\n",
    "            text=\"⚡ SoC & SoH decrease slowly with cycles.<br>\"\n",
    "                \"🔴 Voltage gradually drops.<br>\"\n",
    "                \"🟠 Temperature shows fluctuations.<br>\"\n",
    "                \"This graph helps track battery aging.\",\n",
    "            showarrow=False,\n",
    "            font=dict(size=12, color=\"gold\"),\n",
    "            align=\"left\",\n",
    "            bordercolor=\"gold\",\n",
    "            borderwidth=1,\n",
    "            bgcolor=\"black\",\n",
    "            opacity=0.8\n",
    "        )\n",
    "    ]\n",
    ")\n",
    "\n",
    "fig_trend.show()\n",
    "\n"
   ]
  },
  {
   "cell_type": "code",
   "execution_count": 154,
   "id": "9a2f303d",
   "metadata": {},
   "outputs": [
    {
     "data": {
      "application/vnd.plotly.v1+json": {
       "config": {
        "plotlyServerURL": "https://plot.ly"
       },
       "data": [
        {
         "line": {
          "color": "gold"
         },
         "mode": "lines",
         "name": "Torque (Nm)",
         "type": "scatter",
         "x": [
          "2020-01-01T00:00:00",
          "2020-01-01T00:15:00",
          "2020-01-01T00:30:00",
          "2020-01-01T00:45:00",
          "2020-01-01T01:00:00",
          "2020-01-01T01:15:00",
          "2020-01-01T01:30:00",
          "2020-01-01T01:45:00",
          "2020-01-01T02:00:00",
          "2020-01-01T02:15:00",
          "2020-01-01T02:30:00",
          "2020-01-01T02:45:00",
          "2020-01-01T03:00:00",
          "2020-01-01T03:15:00",
          "2020-01-01T03:30:00",
          "2020-01-01T03:45:00",
          "2020-01-01T04:00:00",
          "2020-01-01T04:15:00",
          "2020-01-01T04:30:00",
          "2020-01-01T04:45:00",
          "2020-01-01T05:00:00",
          "2020-01-01T05:15:00",
          "2020-01-01T05:30:00",
          "2020-01-01T05:45:00",
          "2020-01-01T06:00:00",
          "2020-01-01T06:15:00",
          "2020-01-01T06:30:00",
          "2020-01-01T06:45:00",
          "2020-01-01T07:00:00",
          "2020-01-01T07:15:00",
          "2020-01-01T07:30:00",
          "2020-01-01T07:45:00",
          "2020-01-01T08:00:00",
          "2020-01-01T08:15:00",
          "2020-01-01T08:30:00",
          "2020-01-01T08:45:00",
          "2020-01-01T09:00:00",
          "2020-01-01T09:15:00",
          "2020-01-01T09:30:00",
          "2020-01-01T09:45:00",
          "2020-01-01T10:00:00",
          "2020-01-01T10:15:00",
          "2020-01-01T10:30:00",
          "2020-01-01T10:45:00",
          "2020-01-01T11:00:00",
          "2020-01-01T11:15:00",
          "2020-01-01T11:30:00",
          "2020-01-01T11:45:00",
          "2020-01-01T12:00:00",
          "2020-01-01T12:15:00",
          "2020-01-01T12:30:00",
          "2020-01-01T12:45:00",
          "2020-01-01T13:00:00",
          "2020-01-01T13:15:00",
          "2020-01-01T13:30:00",
          "2020-01-01T13:45:00",
          "2020-01-01T14:00:00",
          "2020-01-01T14:15:00",
          "2020-01-01T14:30:00",
          "2020-01-01T14:45:00",
          "2020-01-01T15:00:00",
          "2020-01-01T15:15:00",
          "2020-01-01T15:30:00",
          "2020-01-01T15:45:00",
          "2020-01-01T16:00:00",
          "2020-01-01T16:15:00",
          "2020-01-01T16:30:00",
          "2020-01-01T16:45:00",
          "2020-01-01T17:00:00",
          "2020-01-01T17:15:00",
          "2020-01-01T17:30:00",
          "2020-01-01T17:45:00",
          "2020-01-01T18:00:00",
          "2020-01-01T18:15:00",
          "2020-01-01T18:30:00",
          "2020-01-01T18:45:00",
          "2020-01-01T19:00:00",
          "2020-01-01T19:15:00",
          "2020-01-01T19:30:00",
          "2020-01-01T19:45:00",
          "2020-01-01T20:00:00",
          "2020-01-01T20:15:00",
          "2020-01-01T20:30:00",
          "2020-01-01T20:45:00",
          "2020-01-01T21:00:00",
          "2020-01-01T21:15:00",
          "2020-01-01T21:30:00",
          "2020-01-01T21:45:00",
          "2020-01-01T22:00:00",
          "2020-01-01T22:15:00",
          "2020-01-01T22:30:00",
          "2020-01-01T22:45:00",
          "2020-01-01T23:00:00",
          "2020-01-01T23:15:00",
          "2020-01-01T23:30:00",
          "2020-01-01T23:45:00",
          "2020-01-02T00:00:00",
          "2020-01-02T00:15:00",
          "2020-01-02T00:30:00",
          "2020-01-02T00:45:00"
         ],
         "y": {
          "bdata": "DpU21C01ZEA+tfb9T8FnQDFBWcxvVF1Aonw3haNwZ0BXin7u+rBZQKwpuWAVwWRApsItUzSuYUBelfvYGWRmQHUwfn7Vg2VAFwnMUFiAYkAc7TtrXYxkQPSYdYysxWJA9sJe7tukZkA3iVUAeHNiQOaHEmMZCmNAwOnE7VRDX0BObUc9IxBkQNr5h55LSWBAOhKREE+3Y0A/8OKf8D1dQLgzMCma/FxAqXyUw362YUDsrfmL0tVhQFHZOTjms19A2omWRzhKXEAqjiWM8vpZQL58adN7oVlAoO3B/uvJX0DAYf5W7kViQIre/H76k2VAOIiw5ZZvYkDqdGhu9sxnQHaSuCBo4VlAK83BXDqEXUBV340SP7tgQPlNlOD8t2NAwmPmdcEoZ0BZHGVwpeBgQIRdTKggs19A5uvXNheMWkAnDhbPK8RmQEAEEsDuPmFADrqK6/WkY0DKnDuZYMtoQEvqYos0CllAdoGxguGiXED81u65Jz1mQNf6lW9okGZAS9lqPZcdZkAat9V9ZTZjQAXxi6NXvGhAKoA8ZMpzYUAq3QlHOAZkQDnv7MaPlVpAuywUOYufYUA2J1oSAIhlQKzgerft915AcKWbjz9MaEDyTk3vtBVlQG9Z7sA9GGBA1QLg6sscZkDXYIEpQRRbQAi/+DRHr2hAQWXt92w7WkBMR+cQDytoQJzjFctDUl9A0ihPggn5ZUCEX8i/eABZQG72TPYiW19AyC2LNx/dZUBwUJO1eSdjQF1oGpqx31tAcszffJ1rYUBohhwIwjFhQES9q4IemmNARK5Y0YbZZEDGGnQiqAJnQBEH3fUjt2JA4lfZMHhmYUD/Rkknc5lcQPRBEfluj2ZAWd8+CclqZUBBhySGxJthQDTrkL/7+mJA0p1AyZXQZEBA1Hh6wR5dQDyiyd0QrllArZLGBwN4YEB8j4I/3/FjQGsawbUjlWJA92EVwCwoZUAgl4PjAb9mQCFNmREEm2JAnPt2F09bXEAMexp1AiJnQLV7exP4r2NAlhbFyMy/ZUBMr8NI7U5lQLlfRBVHmmhASUUqwvswYEA=",
          "dtype": "f8"
         }
        },
        {
         "line": {
          "color": "cyan"
         },
         "mode": "lines",
         "name": "RPM",
         "type": "scatter",
         "x": [
          "2020-01-01T00:00:00",
          "2020-01-01T00:15:00",
          "2020-01-01T00:30:00",
          "2020-01-01T00:45:00",
          "2020-01-01T01:00:00",
          "2020-01-01T01:15:00",
          "2020-01-01T01:30:00",
          "2020-01-01T01:45:00",
          "2020-01-01T02:00:00",
          "2020-01-01T02:15:00",
          "2020-01-01T02:30:00",
          "2020-01-01T02:45:00",
          "2020-01-01T03:00:00",
          "2020-01-01T03:15:00",
          "2020-01-01T03:30:00",
          "2020-01-01T03:45:00",
          "2020-01-01T04:00:00",
          "2020-01-01T04:15:00",
          "2020-01-01T04:30:00",
          "2020-01-01T04:45:00",
          "2020-01-01T05:00:00",
          "2020-01-01T05:15:00",
          "2020-01-01T05:30:00",
          "2020-01-01T05:45:00",
          "2020-01-01T06:00:00",
          "2020-01-01T06:15:00",
          "2020-01-01T06:30:00",
          "2020-01-01T06:45:00",
          "2020-01-01T07:00:00",
          "2020-01-01T07:15:00",
          "2020-01-01T07:30:00",
          "2020-01-01T07:45:00",
          "2020-01-01T08:00:00",
          "2020-01-01T08:15:00",
          "2020-01-01T08:30:00",
          "2020-01-01T08:45:00",
          "2020-01-01T09:00:00",
          "2020-01-01T09:15:00",
          "2020-01-01T09:30:00",
          "2020-01-01T09:45:00",
          "2020-01-01T10:00:00",
          "2020-01-01T10:15:00",
          "2020-01-01T10:30:00",
          "2020-01-01T10:45:00",
          "2020-01-01T11:00:00",
          "2020-01-01T11:15:00",
          "2020-01-01T11:30:00",
          "2020-01-01T11:45:00",
          "2020-01-01T12:00:00",
          "2020-01-01T12:15:00",
          "2020-01-01T12:30:00",
          "2020-01-01T12:45:00",
          "2020-01-01T13:00:00",
          "2020-01-01T13:15:00",
          "2020-01-01T13:30:00",
          "2020-01-01T13:45:00",
          "2020-01-01T14:00:00",
          "2020-01-01T14:15:00",
          "2020-01-01T14:30:00",
          "2020-01-01T14:45:00",
          "2020-01-01T15:00:00",
          "2020-01-01T15:15:00",
          "2020-01-01T15:30:00",
          "2020-01-01T15:45:00",
          "2020-01-01T16:00:00",
          "2020-01-01T16:15:00",
          "2020-01-01T16:30:00",
          "2020-01-01T16:45:00",
          "2020-01-01T17:00:00",
          "2020-01-01T17:15:00",
          "2020-01-01T17:30:00",
          "2020-01-01T17:45:00",
          "2020-01-01T18:00:00",
          "2020-01-01T18:15:00",
          "2020-01-01T18:30:00",
          "2020-01-01T18:45:00",
          "2020-01-01T19:00:00",
          "2020-01-01T19:15:00",
          "2020-01-01T19:30:00",
          "2020-01-01T19:45:00",
          "2020-01-01T20:00:00",
          "2020-01-01T20:15:00",
          "2020-01-01T20:30:00",
          "2020-01-01T20:45:00",
          "2020-01-01T21:00:00",
          "2020-01-01T21:15:00",
          "2020-01-01T21:30:00",
          "2020-01-01T21:45:00",
          "2020-01-01T22:00:00",
          "2020-01-01T22:15:00",
          "2020-01-01T22:30:00",
          "2020-01-01T22:45:00",
          "2020-01-01T23:00:00",
          "2020-01-01T23:15:00",
          "2020-01-01T23:30:00",
          "2020-01-01T23:45:00",
          "2020-01-02T00:00:00",
          "2020-01-02T00:15:00",
          "2020-01-02T00:30:00",
          "2020-01-02T00:45:00"
         ],
         "y": {
          "bdata": "ZhX3M9dXqEAgpgHZDmKgQBhoCd52FKFAivpLuSJvmkCZG3VCH8CfQKUDgM/HCa5AnINOpNlWnUAoQTkk4yebQLTzV+/TeqVA4kaIdW64m0BdrHl5UOiiQHbk5boOXatASDH7w81smkD0U1UCJtChQHVIpTvwHqZAoIA0B8aZpEAgAobkVqiuQGHH87U4wqdA5WiDba0nqUDIIglWvHmuQOw7h86ghqFAdupbZUckoECFtF1iWa6RQKooL6FzQphAqLK2jEa+mkCyPwy5DTqYQM/gWA+0gKlASI9dQkxfpECl0d+EzXWnQJxfCeHFCqtATn8xjElxmkC7eddXFueeQBBYw14paqhA3TqsvY0EoUDqLfdTQP+QQL+lZze7AaJAHqvydaMZrUBK17MKIWahQGwc26v8Mp9AeesDhyYBr0AnzIFOfuqmQJYV+vf8Y6BAlukWADxolEDKE1i/GEeqQMTbCxlzaKhAutXqqn5rrUAYMUa8Ts+ZQCzyaJoXA5VAJmKLZm/IqEBgkdAGwCiZQLJHXP0+4ZdAZeRjIrCdnkDH4tRq8/SqQGL8tjk4daRAZ7t2SjTGkUD3DWQ4Xq+iQM7y3K7g16dAEKrm6zVupEDXjvuIszqlQPYo7PNTKZpAhDkDnW+uq0BP5SJuZPikQJOIQ+B5h6hAsAT1by/TrkBKS2AjMdmhQJ+SK1FmdqxAcyS2jL7uj0AeJvIz4zCRQEDYs/WtpaVApPgIi2Q5nkAuiSedUUObQKgu12o5p5xAzfKr0NWMnkBIZ0mpr+WoQPywagMtJ6VAWGP8QDdOqkCbH1byLUWrQDWQovGbkatAUw/Dad2HoUD9Us7vo6+hQMlKU2SYha1AErCd4ZRSp0BlW24wm2WTQAgmVykfhaRACseaJgsooEBBk+oknPSuQJttnWjdQ5BApHAv0hUppkB/6K8SvcWoQHwZA5rhKp1AjiU+X9mhrkBmulRCOPWrQFFlhcPqRa1AlWPm4siGkECc9dmfOyulQC6vFIvNb51ALAG3+yu2q0CBh7ESGaWmQLSRIRRDcaRAtE502w7/lEA=",
          "dtype": "f8"
         }
        },
        {
         "line": {
          "color": "red"
         },
         "mode": "lines",
         "name": "Vibration (g)",
         "type": "scatter",
         "x": [
          "2020-01-01T00:00:00",
          "2020-01-01T00:15:00",
          "2020-01-01T00:30:00",
          "2020-01-01T00:45:00",
          "2020-01-01T01:00:00",
          "2020-01-01T01:15:00",
          "2020-01-01T01:30:00",
          "2020-01-01T01:45:00",
          "2020-01-01T02:00:00",
          "2020-01-01T02:15:00",
          "2020-01-01T02:30:00",
          "2020-01-01T02:45:00",
          "2020-01-01T03:00:00",
          "2020-01-01T03:15:00",
          "2020-01-01T03:30:00",
          "2020-01-01T03:45:00",
          "2020-01-01T04:00:00",
          "2020-01-01T04:15:00",
          "2020-01-01T04:30:00",
          "2020-01-01T04:45:00",
          "2020-01-01T05:00:00",
          "2020-01-01T05:15:00",
          "2020-01-01T05:30:00",
          "2020-01-01T05:45:00",
          "2020-01-01T06:00:00",
          "2020-01-01T06:15:00",
          "2020-01-01T06:30:00",
          "2020-01-01T06:45:00",
          "2020-01-01T07:00:00",
          "2020-01-01T07:15:00",
          "2020-01-01T07:30:00",
          "2020-01-01T07:45:00",
          "2020-01-01T08:00:00",
          "2020-01-01T08:15:00",
          "2020-01-01T08:30:00",
          "2020-01-01T08:45:00",
          "2020-01-01T09:00:00",
          "2020-01-01T09:15:00",
          "2020-01-01T09:30:00",
          "2020-01-01T09:45:00",
          "2020-01-01T10:00:00",
          "2020-01-01T10:15:00",
          "2020-01-01T10:30:00",
          "2020-01-01T10:45:00",
          "2020-01-01T11:00:00",
          "2020-01-01T11:15:00",
          "2020-01-01T11:30:00",
          "2020-01-01T11:45:00",
          "2020-01-01T12:00:00",
          "2020-01-01T12:15:00",
          "2020-01-01T12:30:00",
          "2020-01-01T12:45:00",
          "2020-01-01T13:00:00",
          "2020-01-01T13:15:00",
          "2020-01-01T13:30:00",
          "2020-01-01T13:45:00",
          "2020-01-01T14:00:00",
          "2020-01-01T14:15:00",
          "2020-01-01T14:30:00",
          "2020-01-01T14:45:00",
          "2020-01-01T15:00:00",
          "2020-01-01T15:15:00",
          "2020-01-01T15:30:00",
          "2020-01-01T15:45:00",
          "2020-01-01T16:00:00",
          "2020-01-01T16:15:00",
          "2020-01-01T16:30:00",
          "2020-01-01T16:45:00",
          "2020-01-01T17:00:00",
          "2020-01-01T17:15:00",
          "2020-01-01T17:30:00",
          "2020-01-01T17:45:00",
          "2020-01-01T18:00:00",
          "2020-01-01T18:15:00",
          "2020-01-01T18:30:00",
          "2020-01-01T18:45:00",
          "2020-01-01T19:00:00",
          "2020-01-01T19:15:00",
          "2020-01-01T19:30:00",
          "2020-01-01T19:45:00",
          "2020-01-01T20:00:00",
          "2020-01-01T20:15:00",
          "2020-01-01T20:30:00",
          "2020-01-01T20:45:00",
          "2020-01-01T21:00:00",
          "2020-01-01T21:15:00",
          "2020-01-01T21:30:00",
          "2020-01-01T21:45:00",
          "2020-01-01T22:00:00",
          "2020-01-01T22:15:00",
          "2020-01-01T22:30:00",
          "2020-01-01T22:45:00",
          "2020-01-01T23:00:00",
          "2020-01-01T23:15:00",
          "2020-01-01T23:30:00",
          "2020-01-01T23:45:00",
          "2020-01-02T00:00:00",
          "2020-01-02T00:15:00",
          "2020-01-02T00:30:00",
          "2020-01-02T00:45:00"
         ],
         "y": {
          "bdata": "A5IZmifC4j9xDwRXGmblP52JKUXzuu4/s43HAaoM5D9hGDKypg/vP0dUPvjt5O4/vebAPf/s5T/FfPCLKMXhPw8v9ckVn+A/Fn5RdsjX7D/VOPecHw7AP743o+wj6ck/JvgVjQSPyD9lw7DJ7v/oPwKTSRXC9tk/8LEygtCS5T9FxJxFxZbkPyBalTeqn9w/tD0/rleC4j8N5ctorcflP6sGxnqjTO4/vlroITzH4z/RXukMz+TkP4ay2BHzncQ/S07NXrKf7j+km9J2pGjiP1yhtiPURuo/Q3/5nPGXwj+sCJn1+KTePy97z0aoM9U/zM/6qx7H1T+Tzm0Ybv7pP6B1LzfYKuU/NmtPXrW63z8+EGXq+Am8P00XeLVr/e4/CXJ0SgHo7j+n78V+Vu7SP5yVaHUnkME/brA0/UB44j9nvcH7wpnuP4qrZdJda+0/M2mnZ80J5D+YDVHxaOLXP9ThdwffZ9k/Tk/BR1YP7T/N/Yt8Bl3hPyiVuS6T58s/eN+6K5W11D++vYkq6FfWP2Dq4wlXCMs/lNapNCKJ4D8EjRtlD5XtP7F6m/v/deY/SMdOmyQmxT+k6huSst26P7hMT23WT9Y/RPtrYoZK2z8vXBgcBZLpP/bE/AK9DO8/6i2+fU+53D8GHoM7B/rmP/2yHaxp2u8/SVc9wNms6D+Lw0fEsoXlP4h7MzZSy8U/KJob7mYE2T9oSzYsdYHtPwE/rq9Y+tE/OQUvsNJ+6z926N4lDkHnPzBIs5gSgNs/pXS1MLJw4j/CGLoaNNXiP9clVJfGw+c/Ay165KkT4j/cLmDiXiHMP0YAmgK6eek/HgUVuSHN3T+mmtwM5u/uP9A8jhf7utY/asbeiqeN1T+0ldCpKpzZP6cDrmXHruM/NXxjR+X47D/0Tj1Px43QP/oEcYJugtY/OWZLJM/z4z+gdD9e6kjgP67Z/uA4FeA/1zrSP0/W6j+alVwbxc7tP88VC67HD+E/dTz1Rej+5j9hHOHjPkXqP/P78QkDIeI/IKFnpEVa1z9d/x6Nq5PlP03o3qUXDeQ/uQwiCz4q7T8=",
          "dtype": "f8"
         }
        },
        {
         "line": {
          "color": "lightgreen"
         },
         "mode": "lines",
         "name": "Power (kW)",
         "type": "scatter",
         "x": [
          "2020-01-01T00:00:00",
          "2020-01-01T00:15:00",
          "2020-01-01T00:30:00",
          "2020-01-01T00:45:00",
          "2020-01-01T01:00:00",
          "2020-01-01T01:15:00",
          "2020-01-01T01:30:00",
          "2020-01-01T01:45:00",
          "2020-01-01T02:00:00",
          "2020-01-01T02:15:00",
          "2020-01-01T02:30:00",
          "2020-01-01T02:45:00",
          "2020-01-01T03:00:00",
          "2020-01-01T03:15:00",
          "2020-01-01T03:30:00",
          "2020-01-01T03:45:00",
          "2020-01-01T04:00:00",
          "2020-01-01T04:15:00",
          "2020-01-01T04:30:00",
          "2020-01-01T04:45:00",
          "2020-01-01T05:00:00",
          "2020-01-01T05:15:00",
          "2020-01-01T05:30:00",
          "2020-01-01T05:45:00",
          "2020-01-01T06:00:00",
          "2020-01-01T06:15:00",
          "2020-01-01T06:30:00",
          "2020-01-01T06:45:00",
          "2020-01-01T07:00:00",
          "2020-01-01T07:15:00",
          "2020-01-01T07:30:00",
          "2020-01-01T07:45:00",
          "2020-01-01T08:00:00",
          "2020-01-01T08:15:00",
          "2020-01-01T08:30:00",
          "2020-01-01T08:45:00",
          "2020-01-01T09:00:00",
          "2020-01-01T09:15:00",
          "2020-01-01T09:30:00",
          "2020-01-01T09:45:00",
          "2020-01-01T10:00:00",
          "2020-01-01T10:15:00",
          "2020-01-01T10:30:00",
          "2020-01-01T10:45:00",
          "2020-01-01T11:00:00",
          "2020-01-01T11:15:00",
          "2020-01-01T11:30:00",
          "2020-01-01T11:45:00",
          "2020-01-01T12:00:00",
          "2020-01-01T12:15:00",
          "2020-01-01T12:30:00",
          "2020-01-01T12:45:00",
          "2020-01-01T13:00:00",
          "2020-01-01T13:15:00",
          "2020-01-01T13:30:00",
          "2020-01-01T13:45:00",
          "2020-01-01T14:00:00",
          "2020-01-01T14:15:00",
          "2020-01-01T14:30:00",
          "2020-01-01T14:45:00",
          "2020-01-01T15:00:00",
          "2020-01-01T15:15:00",
          "2020-01-01T15:30:00",
          "2020-01-01T15:45:00",
          "2020-01-01T16:00:00",
          "2020-01-01T16:15:00",
          "2020-01-01T16:30:00",
          "2020-01-01T16:45:00",
          "2020-01-01T17:00:00",
          "2020-01-01T17:15:00",
          "2020-01-01T17:30:00",
          "2020-01-01T17:45:00",
          "2020-01-01T18:00:00",
          "2020-01-01T18:15:00",
          "2020-01-01T18:30:00",
          "2020-01-01T18:45:00",
          "2020-01-01T19:00:00",
          "2020-01-01T19:15:00",
          "2020-01-01T19:30:00",
          "2020-01-01T19:45:00",
          "2020-01-01T20:00:00",
          "2020-01-01T20:15:00",
          "2020-01-01T20:30:00",
          "2020-01-01T20:45:00",
          "2020-01-01T21:00:00",
          "2020-01-01T21:15:00",
          "2020-01-01T21:30:00",
          "2020-01-01T21:45:00",
          "2020-01-01T22:00:00",
          "2020-01-01T22:15:00",
          "2020-01-01T22:30:00",
          "2020-01-01T22:45:00",
          "2020-01-01T23:00:00",
          "2020-01-01T23:15:00",
          "2020-01-01T23:30:00",
          "2020-01-01T23:45:00",
          "2020-01-02T00:00:00",
          "2020-01-02T00:15:00",
          "2020-01-02T00:30:00",
          "2020-01-02T00:45:00"
         ],
         "y": {
          "bdata": "lYIvETfuTECBhtFyoVBnQNJ4ghNGRWBAejPgPvssSkDqCBUTJG1ZQDR+UhXN1GNAeFMrKPXQXkDuZdpsw6BoQDBrd4QOWVxAejGGvbK/WEAMTRh5BqhlQNZJjsDzhWBAMnl95ioLY0DqgHEIX1tlQL2OLiva1mJAX6C9qBxXXECznBbACy5RQPEEdPIwIWFAuwxnEq4TZ0BIcwQHXjVcQDe5Jyt7U2dAWC9L+N1hX0BMZqccCuRhQI7SRz1Y3mVAhs6m7RDWYEDs/Bp/nNJPQGQj2nyzpGhAfsCPPie4VUAXYqTybJJjQJk/aMkWcV9AubDaoTd0XkB8utn01KVVQN5vY9xSymNAGtCMcMS6UEA9jMsGLdJoQI8cnQDLGWZAnvXhlaRFYEAMWUVYtWtcQJpXEXsPPldADp7wMkdPX0CY2GUtNL1mQAgB+boP0FZAMlfX2yhFX0DYq93WrUtVQP78Z6mhJFlA4fkKOoCiU0D61L2PltJoQAoy7Q8w92BAmFhzOYP9Y0DArL/8Mi9QQPRHtn26OlpAaW08yqv8ZkC2/BRDN1VPQFXR+5SjtFJAjoPbKAH6YUCkPq8dY+1hQFvbaGR992VAjFscgl3KZ0DU90X2EdNRQC10rhj9OVZAVc2PJqGHXEAt9DjUVxFJQJNeDENvPE5A+Hj09lD+VEAX2c8vlIpeQM7LBEie7lVAQ8CLtRKwZkAIu9gEBalYQBWn9YIwlmdAbH4DlvqGaEDhzaq0q15dQPcQycdvBFVAsBiDsP5vV0DcUvnTZs5kQDdD6z0owFZA5pTJdJjFWkDTTKEHVHJeQDgWOIqICGFAFjiWOEjtaEAL/ryxNjVVQBqU1RfewFlAFYRLW8FbVkCt6MNhsApaQCiuQy65R1BACJDleyz+WUB8R/iMwOVmQOYt+mh2sldAbKA66pJyWkC1VW/aefVnQJPyVRw46GNApgXHELHgX0CUqLZshtJkQHAbFk6GHlFAqKn4fRvrXUBwuyccEe9QQE3sBPS7QlVAdug/+uzRUUDJo7K5ShFaQGjONsu8z1pAxCINyRQDaEA=",
          "dtype": "f8"
         }
        },
        {
         "line": {
          "color": "orange"
         },
         "mode": "lines",
         "name": "Motor Temp (°C)",
         "type": "scatter",
         "x": [
          "2020-01-01T00:00:00",
          "2020-01-01T00:15:00",
          "2020-01-01T00:30:00",
          "2020-01-01T00:45:00",
          "2020-01-01T01:00:00",
          "2020-01-01T01:15:00",
          "2020-01-01T01:30:00",
          "2020-01-01T01:45:00",
          "2020-01-01T02:00:00",
          "2020-01-01T02:15:00",
          "2020-01-01T02:30:00",
          "2020-01-01T02:45:00",
          "2020-01-01T03:00:00",
          "2020-01-01T03:15:00",
          "2020-01-01T03:30:00",
          "2020-01-01T03:45:00",
          "2020-01-01T04:00:00",
          "2020-01-01T04:15:00",
          "2020-01-01T04:30:00",
          "2020-01-01T04:45:00",
          "2020-01-01T05:00:00",
          "2020-01-01T05:15:00",
          "2020-01-01T05:30:00",
          "2020-01-01T05:45:00",
          "2020-01-01T06:00:00",
          "2020-01-01T06:15:00",
          "2020-01-01T06:30:00",
          "2020-01-01T06:45:00",
          "2020-01-01T07:00:00",
          "2020-01-01T07:15:00",
          "2020-01-01T07:30:00",
          "2020-01-01T07:45:00",
          "2020-01-01T08:00:00",
          "2020-01-01T08:15:00",
          "2020-01-01T08:30:00",
          "2020-01-01T08:45:00",
          "2020-01-01T09:00:00",
          "2020-01-01T09:15:00",
          "2020-01-01T09:30:00",
          "2020-01-01T09:45:00",
          "2020-01-01T10:00:00",
          "2020-01-01T10:15:00",
          "2020-01-01T10:30:00",
          "2020-01-01T10:45:00",
          "2020-01-01T11:00:00",
          "2020-01-01T11:15:00",
          "2020-01-01T11:30:00",
          "2020-01-01T11:45:00",
          "2020-01-01T12:00:00",
          "2020-01-01T12:15:00",
          "2020-01-01T12:30:00",
          "2020-01-01T12:45:00",
          "2020-01-01T13:00:00",
          "2020-01-01T13:15:00",
          "2020-01-01T13:30:00",
          "2020-01-01T13:45:00",
          "2020-01-01T14:00:00",
          "2020-01-01T14:15:00",
          "2020-01-01T14:30:00",
          "2020-01-01T14:45:00",
          "2020-01-01T15:00:00",
          "2020-01-01T15:15:00",
          "2020-01-01T15:30:00",
          "2020-01-01T15:45:00",
          "2020-01-01T16:00:00",
          "2020-01-01T16:15:00",
          "2020-01-01T16:30:00",
          "2020-01-01T16:45:00",
          "2020-01-01T17:00:00",
          "2020-01-01T17:15:00",
          "2020-01-01T17:30:00",
          "2020-01-01T17:45:00",
          "2020-01-01T18:00:00",
          "2020-01-01T18:15:00",
          "2020-01-01T18:30:00",
          "2020-01-01T18:45:00",
          "2020-01-01T19:00:00",
          "2020-01-01T19:15:00",
          "2020-01-01T19:30:00",
          "2020-01-01T19:45:00",
          "2020-01-01T20:00:00",
          "2020-01-01T20:15:00",
          "2020-01-01T20:30:00",
          "2020-01-01T20:45:00",
          "2020-01-01T21:00:00",
          "2020-01-01T21:15:00",
          "2020-01-01T21:30:00",
          "2020-01-01T21:45:00",
          "2020-01-01T22:00:00",
          "2020-01-01T22:15:00",
          "2020-01-01T22:30:00",
          "2020-01-01T22:45:00",
          "2020-01-01T23:00:00",
          "2020-01-01T23:15:00",
          "2020-01-01T23:30:00",
          "2020-01-01T23:45:00",
          "2020-01-02T00:00:00",
          "2020-01-02T00:15:00",
          "2020-01-02T00:30:00",
          "2020-01-02T00:45:00"
         ],
         "y": {
          "bdata": "KhAVmWeaSkB9CZBri89PQKxj+gFqJFRAVFlD7fkxVEDWpYkjGWFTQAro/NUiMktAzL8owOgvUED+ktoTwadIQJFaM8fBtUhARfNcPmLlTkD4emW/fjtTQAr9ZtMRlVBAnCX/5GIVVUDGKrV86GJUQCM7hltGykRA3SxC4fAaUUD+92LoUJ1RQA+xs1sKBVZAGZmi47aUREAdqIw1iKNQQOKejMiZHklAZ0RATnFXRUC5OXaZ9ldRQFC2gFBVqFNAGUioxpGvU0C0r/yH2MFEQPjIcft0LE5AEAO4ktwcRUCRwdfWKjJKQERfT75v0khAj9lIIythSUAAvgucW3pMQDkmQbh570pAaF8PtEsHVkAy8k7TZ89MQDIR4R9aLVVAguOzrKqGSECscgBv/YtTQCiJtoaciEVAdrCU/6uRT0Aj9CZORCNEQCltbzHuIFRARRYlKY7hVUBEx5bqr+BEQLw0d/BOrFVAnvifG1WsU0BLponPtvhMQEwKt6tnXFVA2p7I6QtoS0A8XIdwfTtOQIi9YrvzakZAyl3IZTQ2UkBZkHD/cb1EQMj4xGayD1BAwpqDwzaKUkAtBrvX9UNUQLuLBvmfv0dAGNb50xZtU0BmbM/lC/1SQB8fei6g/lBAPgbB2txOUUAgDvXyIUhGQMtn7eCBgVFAk6zr+72JTUBHWsE7QthUQJnBNDXV00tA+OL3rxo1UUCsI86UDqpOQO7uoccJ9FRAfrIzERFZSkAka4HJVfhFQNbSQcSyW1NAzUEw0YlSTkD+LjRgHV1RQLDN9EfkqERAUSpTV8DmVUCYdon5YPhUQHoLi5VgzFFAUz59sf1sRECkWKynDHNNQMoBrB8mPFZABARz1EGEUkBc2hCDUgZIQBTghrbRg09AHTVMj48VVkAGSr3vEK9QQEJdVnGInURADr2bSkW/UUD8GA4qycdKQBVVIjWdeEZAgiQjMp0STkDDJhUfRvtQQEnkL4MPbURAnE5IJfP8UEBKGy6e2WNQQCDeV7+B7FNAGjkWBbiWTkDKXYyXCutQQNkpmgVuRlNAkg/u5d02VUA=",
          "dtype": "f8"
         }
        }
       ],
       "layout": {
        "height": 600,
        "legend": {
         "title": {
          "text": "Parameters"
         }
        },
        "template": {
         "data": {
          "bar": [
           {
            "error_x": {
             "color": "#f2f5fa"
            },
            "error_y": {
             "color": "#f2f5fa"
            },
            "marker": {
             "line": {
              "color": "rgb(17,17,17)",
              "width": 0.5
             },
             "pattern": {
              "fillmode": "overlay",
              "size": 10,
              "solidity": 0.2
             }
            },
            "type": "bar"
           }
          ],
          "barpolar": [
           {
            "marker": {
             "line": {
              "color": "rgb(17,17,17)",
              "width": 0.5
             },
             "pattern": {
              "fillmode": "overlay",
              "size": 10,
              "solidity": 0.2
             }
            },
            "type": "barpolar"
           }
          ],
          "carpet": [
           {
            "aaxis": {
             "endlinecolor": "#A2B1C6",
             "gridcolor": "#506784",
             "linecolor": "#506784",
             "minorgridcolor": "#506784",
             "startlinecolor": "#A2B1C6"
            },
            "baxis": {
             "endlinecolor": "#A2B1C6",
             "gridcolor": "#506784",
             "linecolor": "#506784",
             "minorgridcolor": "#506784",
             "startlinecolor": "#A2B1C6"
            },
            "type": "carpet"
           }
          ],
          "choropleth": [
           {
            "colorbar": {
             "outlinewidth": 0,
             "ticks": ""
            },
            "type": "choropleth"
           }
          ],
          "contour": [
           {
            "colorbar": {
             "outlinewidth": 0,
             "ticks": ""
            },
            "colorscale": [
             [
              0,
              "#0d0887"
             ],
             [
              0.1111111111111111,
              "#46039f"
             ],
             [
              0.2222222222222222,
              "#7201a8"
             ],
             [
              0.3333333333333333,
              "#9c179e"
             ],
             [
              0.4444444444444444,
              "#bd3786"
             ],
             [
              0.5555555555555556,
              "#d8576b"
             ],
             [
              0.6666666666666666,
              "#ed7953"
             ],
             [
              0.7777777777777778,
              "#fb9f3a"
             ],
             [
              0.8888888888888888,
              "#fdca26"
             ],
             [
              1,
              "#f0f921"
             ]
            ],
            "type": "contour"
           }
          ],
          "contourcarpet": [
           {
            "colorbar": {
             "outlinewidth": 0,
             "ticks": ""
            },
            "type": "contourcarpet"
           }
          ],
          "heatmap": [
           {
            "colorbar": {
             "outlinewidth": 0,
             "ticks": ""
            },
            "colorscale": [
             [
              0,
              "#0d0887"
             ],
             [
              0.1111111111111111,
              "#46039f"
             ],
             [
              0.2222222222222222,
              "#7201a8"
             ],
             [
              0.3333333333333333,
              "#9c179e"
             ],
             [
              0.4444444444444444,
              "#bd3786"
             ],
             [
              0.5555555555555556,
              "#d8576b"
             ],
             [
              0.6666666666666666,
              "#ed7953"
             ],
             [
              0.7777777777777778,
              "#fb9f3a"
             ],
             [
              0.8888888888888888,
              "#fdca26"
             ],
             [
              1,
              "#f0f921"
             ]
            ],
            "type": "heatmap"
           }
          ],
          "histogram": [
           {
            "marker": {
             "pattern": {
              "fillmode": "overlay",
              "size": 10,
              "solidity": 0.2
             }
            },
            "type": "histogram"
           }
          ],
          "histogram2d": [
           {
            "colorbar": {
             "outlinewidth": 0,
             "ticks": ""
            },
            "colorscale": [
             [
              0,
              "#0d0887"
             ],
             [
              0.1111111111111111,
              "#46039f"
             ],
             [
              0.2222222222222222,
              "#7201a8"
             ],
             [
              0.3333333333333333,
              "#9c179e"
             ],
             [
              0.4444444444444444,
              "#bd3786"
             ],
             [
              0.5555555555555556,
              "#d8576b"
             ],
             [
              0.6666666666666666,
              "#ed7953"
             ],
             [
              0.7777777777777778,
              "#fb9f3a"
             ],
             [
              0.8888888888888888,
              "#fdca26"
             ],
             [
              1,
              "#f0f921"
             ]
            ],
            "type": "histogram2d"
           }
          ],
          "histogram2dcontour": [
           {
            "colorbar": {
             "outlinewidth": 0,
             "ticks": ""
            },
            "colorscale": [
             [
              0,
              "#0d0887"
             ],
             [
              0.1111111111111111,
              "#46039f"
             ],
             [
              0.2222222222222222,
              "#7201a8"
             ],
             [
              0.3333333333333333,
              "#9c179e"
             ],
             [
              0.4444444444444444,
              "#bd3786"
             ],
             [
              0.5555555555555556,
              "#d8576b"
             ],
             [
              0.6666666666666666,
              "#ed7953"
             ],
             [
              0.7777777777777778,
              "#fb9f3a"
             ],
             [
              0.8888888888888888,
              "#fdca26"
             ],
             [
              1,
              "#f0f921"
             ]
            ],
            "type": "histogram2dcontour"
           }
          ],
          "mesh3d": [
           {
            "colorbar": {
             "outlinewidth": 0,
             "ticks": ""
            },
            "type": "mesh3d"
           }
          ],
          "parcoords": [
           {
            "line": {
             "colorbar": {
              "outlinewidth": 0,
              "ticks": ""
             }
            },
            "type": "parcoords"
           }
          ],
          "pie": [
           {
            "automargin": true,
            "type": "pie"
           }
          ],
          "scatter": [
           {
            "marker": {
             "line": {
              "color": "#283442"
             }
            },
            "type": "scatter"
           }
          ],
          "scatter3d": [
           {
            "line": {
             "colorbar": {
              "outlinewidth": 0,
              "ticks": ""
             }
            },
            "marker": {
             "colorbar": {
              "outlinewidth": 0,
              "ticks": ""
             }
            },
            "type": "scatter3d"
           }
          ],
          "scattercarpet": [
           {
            "marker": {
             "colorbar": {
              "outlinewidth": 0,
              "ticks": ""
             }
            },
            "type": "scattercarpet"
           }
          ],
          "scattergeo": [
           {
            "marker": {
             "colorbar": {
              "outlinewidth": 0,
              "ticks": ""
             }
            },
            "type": "scattergeo"
           }
          ],
          "scattergl": [
           {
            "marker": {
             "line": {
              "color": "#283442"
             }
            },
            "type": "scattergl"
           }
          ],
          "scattermap": [
           {
            "marker": {
             "colorbar": {
              "outlinewidth": 0,
              "ticks": ""
             }
            },
            "type": "scattermap"
           }
          ],
          "scattermapbox": [
           {
            "marker": {
             "colorbar": {
              "outlinewidth": 0,
              "ticks": ""
             }
            },
            "type": "scattermapbox"
           }
          ],
          "scatterpolar": [
           {
            "marker": {
             "colorbar": {
              "outlinewidth": 0,
              "ticks": ""
             }
            },
            "type": "scatterpolar"
           }
          ],
          "scatterpolargl": [
           {
            "marker": {
             "colorbar": {
              "outlinewidth": 0,
              "ticks": ""
             }
            },
            "type": "scatterpolargl"
           }
          ],
          "scatterternary": [
           {
            "marker": {
             "colorbar": {
              "outlinewidth": 0,
              "ticks": ""
             }
            },
            "type": "scatterternary"
           }
          ],
          "surface": [
           {
            "colorbar": {
             "outlinewidth": 0,
             "ticks": ""
            },
            "colorscale": [
             [
              0,
              "#0d0887"
             ],
             [
              0.1111111111111111,
              "#46039f"
             ],
             [
              0.2222222222222222,
              "#7201a8"
             ],
             [
              0.3333333333333333,
              "#9c179e"
             ],
             [
              0.4444444444444444,
              "#bd3786"
             ],
             [
              0.5555555555555556,
              "#d8576b"
             ],
             [
              0.6666666666666666,
              "#ed7953"
             ],
             [
              0.7777777777777778,
              "#fb9f3a"
             ],
             [
              0.8888888888888888,
              "#fdca26"
             ],
             [
              1,
              "#f0f921"
             ]
            ],
            "type": "surface"
           }
          ],
          "table": [
           {
            "cells": {
             "fill": {
              "color": "#506784"
             },
             "line": {
              "color": "rgb(17,17,17)"
             }
            },
            "header": {
             "fill": {
              "color": "#2a3f5f"
             },
             "line": {
              "color": "rgb(17,17,17)"
             }
            },
            "type": "table"
           }
          ]
         },
         "layout": {
          "annotationdefaults": {
           "arrowcolor": "#f2f5fa",
           "arrowhead": 0,
           "arrowwidth": 1
          },
          "autotypenumbers": "strict",
          "coloraxis": {
           "colorbar": {
            "outlinewidth": 0,
            "ticks": ""
           }
          },
          "colorscale": {
           "diverging": [
            [
             0,
             "#8e0152"
            ],
            [
             0.1,
             "#c51b7d"
            ],
            [
             0.2,
             "#de77ae"
            ],
            [
             0.3,
             "#f1b6da"
            ],
            [
             0.4,
             "#fde0ef"
            ],
            [
             0.5,
             "#f7f7f7"
            ],
            [
             0.6,
             "#e6f5d0"
            ],
            [
             0.7,
             "#b8e186"
            ],
            [
             0.8,
             "#7fbc41"
            ],
            [
             0.9,
             "#4d9221"
            ],
            [
             1,
             "#276419"
            ]
           ],
           "sequential": [
            [
             0,
             "#0d0887"
            ],
            [
             0.1111111111111111,
             "#46039f"
            ],
            [
             0.2222222222222222,
             "#7201a8"
            ],
            [
             0.3333333333333333,
             "#9c179e"
            ],
            [
             0.4444444444444444,
             "#bd3786"
            ],
            [
             0.5555555555555556,
             "#d8576b"
            ],
            [
             0.6666666666666666,
             "#ed7953"
            ],
            [
             0.7777777777777778,
             "#fb9f3a"
            ],
            [
             0.8888888888888888,
             "#fdca26"
            ],
            [
             1,
             "#f0f921"
            ]
           ],
           "sequentialminus": [
            [
             0,
             "#0d0887"
            ],
            [
             0.1111111111111111,
             "#46039f"
            ],
            [
             0.2222222222222222,
             "#7201a8"
            ],
            [
             0.3333333333333333,
             "#9c179e"
            ],
            [
             0.4444444444444444,
             "#bd3786"
            ],
            [
             0.5555555555555556,
             "#d8576b"
            ],
            [
             0.6666666666666666,
             "#ed7953"
            ],
            [
             0.7777777777777778,
             "#fb9f3a"
            ],
            [
             0.8888888888888888,
             "#fdca26"
            ],
            [
             1,
             "#f0f921"
            ]
           ]
          },
          "colorway": [
           "#636efa",
           "#EF553B",
           "#00cc96",
           "#ab63fa",
           "#FFA15A",
           "#19d3f3",
           "#FF6692",
           "#B6E880",
           "#FF97FF",
           "#FECB52"
          ],
          "font": {
           "color": "#f2f5fa"
          },
          "geo": {
           "bgcolor": "rgb(17,17,17)",
           "lakecolor": "rgb(17,17,17)",
           "landcolor": "rgb(17,17,17)",
           "showlakes": true,
           "showland": true,
           "subunitcolor": "#506784"
          },
          "hoverlabel": {
           "align": "left"
          },
          "hovermode": "closest",
          "mapbox": {
           "style": "dark"
          },
          "paper_bgcolor": "rgb(17,17,17)",
          "plot_bgcolor": "rgb(17,17,17)",
          "polar": {
           "angularaxis": {
            "gridcolor": "#506784",
            "linecolor": "#506784",
            "ticks": ""
           },
           "bgcolor": "rgb(17,17,17)",
           "radialaxis": {
            "gridcolor": "#506784",
            "linecolor": "#506784",
            "ticks": ""
           }
          },
          "scene": {
           "xaxis": {
            "backgroundcolor": "rgb(17,17,17)",
            "gridcolor": "#506784",
            "gridwidth": 2,
            "linecolor": "#506784",
            "showbackground": true,
            "ticks": "",
            "zerolinecolor": "#C8D4E3"
           },
           "yaxis": {
            "backgroundcolor": "rgb(17,17,17)",
            "gridcolor": "#506784",
            "gridwidth": 2,
            "linecolor": "#506784",
            "showbackground": true,
            "ticks": "",
            "zerolinecolor": "#C8D4E3"
           },
           "zaxis": {
            "backgroundcolor": "rgb(17,17,17)",
            "gridcolor": "#506784",
            "gridwidth": 2,
            "linecolor": "#506784",
            "showbackground": true,
            "ticks": "",
            "zerolinecolor": "#C8D4E3"
           }
          },
          "shapedefaults": {
           "line": {
            "color": "#f2f5fa"
           }
          },
          "sliderdefaults": {
           "bgcolor": "#C8D4E3",
           "bordercolor": "rgb(17,17,17)",
           "borderwidth": 1,
           "tickwidth": 0
          },
          "ternary": {
           "aaxis": {
            "gridcolor": "#506784",
            "linecolor": "#506784",
            "ticks": ""
           },
           "baxis": {
            "gridcolor": "#506784",
            "linecolor": "#506784",
            "ticks": ""
           },
           "bgcolor": "rgb(17,17,17)",
           "caxis": {
            "gridcolor": "#506784",
            "linecolor": "#506784",
            "ticks": ""
           }
          },
          "title": {
           "x": 0.05
          },
          "updatemenudefaults": {
           "bgcolor": "#506784",
           "borderwidth": 0
          },
          "xaxis": {
           "automargin": true,
           "gridcolor": "#283442",
           "linecolor": "#506784",
           "ticks": "",
           "title": {
            "standoff": 15
           },
           "zerolinecolor": "#283442",
           "zerolinewidth": 2
          },
          "yaxis": {
           "automargin": true,
           "gridcolor": "#283442",
           "linecolor": "#506784",
           "ticks": "",
           "title": {
            "standoff": 15
           },
           "zerolinecolor": "#283442",
           "zerolinewidth": 2
          }
         }
        },
        "title": {
         "text": "⚙️ Motor & Drivetrain Monitoring (All in One Graph)"
        },
        "xaxis": {
         "title": {
          "text": "Time (15-minute intervals)"
         }
        },
        "yaxis": {
         "title": {
          "text": "Sensor Values"
         }
        }
       }
      }
     },
     "metadata": {},
     "output_type": "display_data"
    }
   ],
   "source": [
    "import plotly.graph_objects as go\n",
    "import numpy as np\n",
    "import pandas as pd\n",
    "\n",
    "# 1. Create Time Index (100 records, every 15 minutes starting Jan 2020)\n",
    "time_index = pd.date_range(\"2020-01-01\", periods=100, freq=\"15min\")\n",
    "\n",
    "# 2. Create Sample Data (replace with your dataset columns)\n",
    "torque = np.random.uniform(100, 200, size=100)      # Nm\n",
    "rpm = np.random.uniform(1000, 4000, size=100)       # RPM\n",
    "vibration = np.random.uniform(0.1, 1.0, size=100)   # g-force\n",
    "power = np.random.uniform(50, 200, size=100)        # kW\n",
    "motor_temp = np.random.uniform(40, 90, size=100)    # °C\n",
    "\n",
    "# 3. Create One Graph with All Traces\n",
    "fig = go.Figure()\n",
    "\n",
    "fig.add_trace(go.Scatter(x=time_index, y=torque, mode='lines', name=\"Torque (Nm)\", line=dict(color=\"gold\")))\n",
    "fig.add_trace(go.Scatter(x=time_index, y=rpm, mode='lines', name=\"RPM\", line=dict(color=\"cyan\")))\n",
    "fig.add_trace(go.Scatter(x=time_index, y=vibration, mode='lines', name=\"Vibration (g)\", line=dict(color=\"red\")))\n",
    "fig.add_trace(go.Scatter(x=time_index, y=power, mode='lines', name=\"Power (kW)\", line=dict(color=\"lightgreen\")))\n",
    "fig.add_trace(go.Scatter(x=time_index, y=motor_temp, mode='lines', name=\"Motor Temp (°C)\", line=dict(color=\"orange\")))\n",
    "\n",
    "# 4. Layout Settings\n",
    "fig.update_layout(\n",
    "    title=\"⚙️ Motor & Drivetrain Monitoring (All in One Graph)\",\n",
    "    xaxis_title=\"Time (15-minute intervals)\",\n",
    "    yaxis_title=\"Sensor Values\",\n",
    "    template=\"plotly_dark\",\n",
    "    height=600,\n",
    "    legend=dict(title=\"Parameters\")\n",
    ")\n",
    "\n",
    "# 5. Show Graph\n",
    "fig.show()\n"
   ]
  },
  {
   "cell_type": "code",
   "execution_count": 156,
   "id": "33cceacf",
   "metadata": {},
   "outputs": [
    {
     "data": {
      "application/vnd.plotly.v1+json": {
       "config": {
        "plotlyServerURL": "https://plot.ly"
       },
       "data": [
        {
         "marker": {
          "color": [
           "firebrick",
           "royalblue",
           "green"
          ]
         },
         "type": "bar",
         "x": [
          "Brake Pad Wear (mm)",
          "Brake Pressure (psi)",
          "Regen Braking Efficiency (%)"
         ],
         "y": [
          7.5,
          120,
          85
         ]
        }
       ],
       "layout": {
        "template": {
         "data": {
          "bar": [
           {
            "error_x": {
             "color": "#2a3f5f"
            },
            "error_y": {
             "color": "#2a3f5f"
            },
            "marker": {
             "line": {
              "color": "white",
              "width": 0.5
             },
             "pattern": {
              "fillmode": "overlay",
              "size": 10,
              "solidity": 0.2
             }
            },
            "type": "bar"
           }
          ],
          "barpolar": [
           {
            "marker": {
             "line": {
              "color": "white",
              "width": 0.5
             },
             "pattern": {
              "fillmode": "overlay",
              "size": 10,
              "solidity": 0.2
             }
            },
            "type": "barpolar"
           }
          ],
          "carpet": [
           {
            "aaxis": {
             "endlinecolor": "#2a3f5f",
             "gridcolor": "#C8D4E3",
             "linecolor": "#C8D4E3",
             "minorgridcolor": "#C8D4E3",
             "startlinecolor": "#2a3f5f"
            },
            "baxis": {
             "endlinecolor": "#2a3f5f",
             "gridcolor": "#C8D4E3",
             "linecolor": "#C8D4E3",
             "minorgridcolor": "#C8D4E3",
             "startlinecolor": "#2a3f5f"
            },
            "type": "carpet"
           }
          ],
          "choropleth": [
           {
            "colorbar": {
             "outlinewidth": 0,
             "ticks": ""
            },
            "type": "choropleth"
           }
          ],
          "contour": [
           {
            "colorbar": {
             "outlinewidth": 0,
             "ticks": ""
            },
            "colorscale": [
             [
              0,
              "#0d0887"
             ],
             [
              0.1111111111111111,
              "#46039f"
             ],
             [
              0.2222222222222222,
              "#7201a8"
             ],
             [
              0.3333333333333333,
              "#9c179e"
             ],
             [
              0.4444444444444444,
              "#bd3786"
             ],
             [
              0.5555555555555556,
              "#d8576b"
             ],
             [
              0.6666666666666666,
              "#ed7953"
             ],
             [
              0.7777777777777778,
              "#fb9f3a"
             ],
             [
              0.8888888888888888,
              "#fdca26"
             ],
             [
              1,
              "#f0f921"
             ]
            ],
            "type": "contour"
           }
          ],
          "contourcarpet": [
           {
            "colorbar": {
             "outlinewidth": 0,
             "ticks": ""
            },
            "type": "contourcarpet"
           }
          ],
          "heatmap": [
           {
            "colorbar": {
             "outlinewidth": 0,
             "ticks": ""
            },
            "colorscale": [
             [
              0,
              "#0d0887"
             ],
             [
              0.1111111111111111,
              "#46039f"
             ],
             [
              0.2222222222222222,
              "#7201a8"
             ],
             [
              0.3333333333333333,
              "#9c179e"
             ],
             [
              0.4444444444444444,
              "#bd3786"
             ],
             [
              0.5555555555555556,
              "#d8576b"
             ],
             [
              0.6666666666666666,
              "#ed7953"
             ],
             [
              0.7777777777777778,
              "#fb9f3a"
             ],
             [
              0.8888888888888888,
              "#fdca26"
             ],
             [
              1,
              "#f0f921"
             ]
            ],
            "type": "heatmap"
           }
          ],
          "histogram": [
           {
            "marker": {
             "pattern": {
              "fillmode": "overlay",
              "size": 10,
              "solidity": 0.2
             }
            },
            "type": "histogram"
           }
          ],
          "histogram2d": [
           {
            "colorbar": {
             "outlinewidth": 0,
             "ticks": ""
            },
            "colorscale": [
             [
              0,
              "#0d0887"
             ],
             [
              0.1111111111111111,
              "#46039f"
             ],
             [
              0.2222222222222222,
              "#7201a8"
             ],
             [
              0.3333333333333333,
              "#9c179e"
             ],
             [
              0.4444444444444444,
              "#bd3786"
             ],
             [
              0.5555555555555556,
              "#d8576b"
             ],
             [
              0.6666666666666666,
              "#ed7953"
             ],
             [
              0.7777777777777778,
              "#fb9f3a"
             ],
             [
              0.8888888888888888,
              "#fdca26"
             ],
             [
              1,
              "#f0f921"
             ]
            ],
            "type": "histogram2d"
           }
          ],
          "histogram2dcontour": [
           {
            "colorbar": {
             "outlinewidth": 0,
             "ticks": ""
            },
            "colorscale": [
             [
              0,
              "#0d0887"
             ],
             [
              0.1111111111111111,
              "#46039f"
             ],
             [
              0.2222222222222222,
              "#7201a8"
             ],
             [
              0.3333333333333333,
              "#9c179e"
             ],
             [
              0.4444444444444444,
              "#bd3786"
             ],
             [
              0.5555555555555556,
              "#d8576b"
             ],
             [
              0.6666666666666666,
              "#ed7953"
             ],
             [
              0.7777777777777778,
              "#fb9f3a"
             ],
             [
              0.8888888888888888,
              "#fdca26"
             ],
             [
              1,
              "#f0f921"
             ]
            ],
            "type": "histogram2dcontour"
           }
          ],
          "mesh3d": [
           {
            "colorbar": {
             "outlinewidth": 0,
             "ticks": ""
            },
            "type": "mesh3d"
           }
          ],
          "parcoords": [
           {
            "line": {
             "colorbar": {
              "outlinewidth": 0,
              "ticks": ""
             }
            },
            "type": "parcoords"
           }
          ],
          "pie": [
           {
            "automargin": true,
            "type": "pie"
           }
          ],
          "scatter": [
           {
            "fillpattern": {
             "fillmode": "overlay",
             "size": 10,
             "solidity": 0.2
            },
            "type": "scatter"
           }
          ],
          "scatter3d": [
           {
            "line": {
             "colorbar": {
              "outlinewidth": 0,
              "ticks": ""
             }
            },
            "marker": {
             "colorbar": {
              "outlinewidth": 0,
              "ticks": ""
             }
            },
            "type": "scatter3d"
           }
          ],
          "scattercarpet": [
           {
            "marker": {
             "colorbar": {
              "outlinewidth": 0,
              "ticks": ""
             }
            },
            "type": "scattercarpet"
           }
          ],
          "scattergeo": [
           {
            "marker": {
             "colorbar": {
              "outlinewidth": 0,
              "ticks": ""
             }
            },
            "type": "scattergeo"
           }
          ],
          "scattergl": [
           {
            "marker": {
             "colorbar": {
              "outlinewidth": 0,
              "ticks": ""
             }
            },
            "type": "scattergl"
           }
          ],
          "scattermap": [
           {
            "marker": {
             "colorbar": {
              "outlinewidth": 0,
              "ticks": ""
             }
            },
            "type": "scattermap"
           }
          ],
          "scattermapbox": [
           {
            "marker": {
             "colorbar": {
              "outlinewidth": 0,
              "ticks": ""
             }
            },
            "type": "scattermapbox"
           }
          ],
          "scatterpolar": [
           {
            "marker": {
             "colorbar": {
              "outlinewidth": 0,
              "ticks": ""
             }
            },
            "type": "scatterpolar"
           }
          ],
          "scatterpolargl": [
           {
            "marker": {
             "colorbar": {
              "outlinewidth": 0,
              "ticks": ""
             }
            },
            "type": "scatterpolargl"
           }
          ],
          "scatterternary": [
           {
            "marker": {
             "colorbar": {
              "outlinewidth": 0,
              "ticks": ""
             }
            },
            "type": "scatterternary"
           }
          ],
          "surface": [
           {
            "colorbar": {
             "outlinewidth": 0,
             "ticks": ""
            },
            "colorscale": [
             [
              0,
              "#0d0887"
             ],
             [
              0.1111111111111111,
              "#46039f"
             ],
             [
              0.2222222222222222,
              "#7201a8"
             ],
             [
              0.3333333333333333,
              "#9c179e"
             ],
             [
              0.4444444444444444,
              "#bd3786"
             ],
             [
              0.5555555555555556,
              "#d8576b"
             ],
             [
              0.6666666666666666,
              "#ed7953"
             ],
             [
              0.7777777777777778,
              "#fb9f3a"
             ],
             [
              0.8888888888888888,
              "#fdca26"
             ],
             [
              1,
              "#f0f921"
             ]
            ],
            "type": "surface"
           }
          ],
          "table": [
           {
            "cells": {
             "fill": {
              "color": "#EBF0F8"
             },
             "line": {
              "color": "white"
             }
            },
            "header": {
             "fill": {
              "color": "#C8D4E3"
             },
             "line": {
              "color": "white"
             }
            },
            "type": "table"
           }
          ]
         },
         "layout": {
          "annotationdefaults": {
           "arrowcolor": "#2a3f5f",
           "arrowhead": 0,
           "arrowwidth": 1
          },
          "autotypenumbers": "strict",
          "coloraxis": {
           "colorbar": {
            "outlinewidth": 0,
            "ticks": ""
           }
          },
          "colorscale": {
           "diverging": [
            [
             0,
             "#8e0152"
            ],
            [
             0.1,
             "#c51b7d"
            ],
            [
             0.2,
             "#de77ae"
            ],
            [
             0.3,
             "#f1b6da"
            ],
            [
             0.4,
             "#fde0ef"
            ],
            [
             0.5,
             "#f7f7f7"
            ],
            [
             0.6,
             "#e6f5d0"
            ],
            [
             0.7,
             "#b8e186"
            ],
            [
             0.8,
             "#7fbc41"
            ],
            [
             0.9,
             "#4d9221"
            ],
            [
             1,
             "#276419"
            ]
           ],
           "sequential": [
            [
             0,
             "#0d0887"
            ],
            [
             0.1111111111111111,
             "#46039f"
            ],
            [
             0.2222222222222222,
             "#7201a8"
            ],
            [
             0.3333333333333333,
             "#9c179e"
            ],
            [
             0.4444444444444444,
             "#bd3786"
            ],
            [
             0.5555555555555556,
             "#d8576b"
            ],
            [
             0.6666666666666666,
             "#ed7953"
            ],
            [
             0.7777777777777778,
             "#fb9f3a"
            ],
            [
             0.8888888888888888,
             "#fdca26"
            ],
            [
             1,
             "#f0f921"
            ]
           ],
           "sequentialminus": [
            [
             0,
             "#0d0887"
            ],
            [
             0.1111111111111111,
             "#46039f"
            ],
            [
             0.2222222222222222,
             "#7201a8"
            ],
            [
             0.3333333333333333,
             "#9c179e"
            ],
            [
             0.4444444444444444,
             "#bd3786"
            ],
            [
             0.5555555555555556,
             "#d8576b"
            ],
            [
             0.6666666666666666,
             "#ed7953"
            ],
            [
             0.7777777777777778,
             "#fb9f3a"
            ],
            [
             0.8888888888888888,
             "#fdca26"
            ],
            [
             1,
             "#f0f921"
            ]
           ]
          },
          "colorway": [
           "#636efa",
           "#EF553B",
           "#00cc96",
           "#ab63fa",
           "#FFA15A",
           "#19d3f3",
           "#FF6692",
           "#B6E880",
           "#FF97FF",
           "#FECB52"
          ],
          "font": {
           "color": "#2a3f5f"
          },
          "geo": {
           "bgcolor": "white",
           "lakecolor": "white",
           "landcolor": "white",
           "showlakes": true,
           "showland": true,
           "subunitcolor": "#C8D4E3"
          },
          "hoverlabel": {
           "align": "left"
          },
          "hovermode": "closest",
          "mapbox": {
           "style": "light"
          },
          "paper_bgcolor": "white",
          "plot_bgcolor": "white",
          "polar": {
           "angularaxis": {
            "gridcolor": "#EBF0F8",
            "linecolor": "#EBF0F8",
            "ticks": ""
           },
           "bgcolor": "white",
           "radialaxis": {
            "gridcolor": "#EBF0F8",
            "linecolor": "#EBF0F8",
            "ticks": ""
           }
          },
          "scene": {
           "xaxis": {
            "backgroundcolor": "white",
            "gridcolor": "#DFE8F3",
            "gridwidth": 2,
            "linecolor": "#EBF0F8",
            "showbackground": true,
            "ticks": "",
            "zerolinecolor": "#EBF0F8"
           },
           "yaxis": {
            "backgroundcolor": "white",
            "gridcolor": "#DFE8F3",
            "gridwidth": 2,
            "linecolor": "#EBF0F8",
            "showbackground": true,
            "ticks": "",
            "zerolinecolor": "#EBF0F8"
           },
           "zaxis": {
            "backgroundcolor": "white",
            "gridcolor": "#DFE8F3",
            "gridwidth": 2,
            "linecolor": "#EBF0F8",
            "showbackground": true,
            "ticks": "",
            "zerolinecolor": "#EBF0F8"
           }
          },
          "shapedefaults": {
           "line": {
            "color": "#2a3f5f"
           }
          },
          "ternary": {
           "aaxis": {
            "gridcolor": "#DFE8F3",
            "linecolor": "#A2B1C6",
            "ticks": ""
           },
           "baxis": {
            "gridcolor": "#DFE8F3",
            "linecolor": "#A2B1C6",
            "ticks": ""
           },
           "bgcolor": "white",
           "caxis": {
            "gridcolor": "#DFE8F3",
            "linecolor": "#A2B1C6",
            "ticks": ""
           }
          },
          "title": {
           "x": 0.05
          },
          "xaxis": {
           "automargin": true,
           "gridcolor": "#EBF0F8",
           "linecolor": "#EBF0F8",
           "ticks": "",
           "title": {
            "standoff": 15
           },
           "zerolinecolor": "#EBF0F8",
           "zerolinewidth": 2
          },
          "yaxis": {
           "automargin": true,
           "gridcolor": "#EBF0F8",
           "linecolor": "#EBF0F8",
           "ticks": "",
           "title": {
            "standoff": 15
           },
           "zerolinecolor": "#EBF0F8",
           "zerolinewidth": 2
          }
         }
        },
        "title": {
         "text": "Brake System Monitoring"
        },
        "xaxis": {
         "title": {
          "text": "Brake Parameters"
         }
        },
        "yaxis": {
         "title": {
          "text": "Value"
         }
        }
       }
      }
     },
     "metadata": {},
     "output_type": "display_data"
    }
   ],
   "source": [
    "import plotly.graph_objects as go\n",
    "\n",
    "# Example brake system values (replace with your actual data)\n",
    "brake_pad_wear = 7.5          # Thickness of brake pads in millimeters (mm)\n",
    "brake_pressure = 120          # Hydraulic brake pressure in pounds per square inch (psi)\n",
    "regen_braking_efficiency = 85 # Regenerative braking efficiency in percentage (%)\n",
    "\n",
    "# Create a bar chart with three bars representing the brake parameters\n",
    "fig = go.Figure(\n",
    "    data=[go.Bar(\n",
    "        x=[\"Brake Pad Wear (mm)\", \"Brake Pressure (psi)\", \"Regen Braking Efficiency (%)\"],  # Categories on x-axis\n",
    "        y=[brake_pad_wear, brake_pressure, regen_braking_efficiency],                        # Corresponding values on y-axis\n",
    "        marker_color=['firebrick', 'royalblue', 'green']                                    # Colors for each bar\n",
    "    )],\n",
    "    layout_title_text=\"Brake System Monitoring\"\n",
    ")\n",
    "\n",
    "# Update layout to add axis titles and improve appearance\n",
    "fig.update_layout(\n",
    "    yaxis_title=\"Value\",\n",
    "    xaxis_title=\"Brake Parameters\",\n",
    "    template=\"plotly_white\"  # Clean white background style\n",
    ")\n",
    "\n",
    "# Display the interactive bar chart\n",
    "fig.show()"
   ]
  },
  {
   "cell_type": "code",
   "execution_count": 172,
   "id": "04a5d5e3",
   "metadata": {},
   "outputs": [
    {
     "data": {
      "application/vnd.plotly.v1+json": {
       "config": {
        "plotlyServerURL": "https://plot.ly"
       },
       "data": [
        {
         "line": {
          "color": "yellow"
         },
         "mode": "lines",
         "name": "Tire Pressure (PSI)",
         "type": "scatter",
         "x": {
          "bdata": "AQIDBAUGBwgJCgsMDQ4PEBESExQVFhcYGRobHB0eHyAhIiMkJSYnKCkqKywtLi8wMTIzNDU2Nzg5Ojs8PT4/QEFCQ0RFRkdISUpLTE1OT1BRUlNUVVZXWFlaW1xdXl9gYWJjZA==",
          "dtype": "i1"
         },
         "xaxis": "x",
         "y": {
          "bdata": "3Cfxxr8zQUB5d4PTEeU+QDkmkd9j40BADzkfxSFqQEAbF2YDJKo/QOaIgTtyZUFAeVqjboQaQUDs+Xhjg20/QILHSDdvAz9AAKk1BILLP0AAIs+1G6k/QJ9CLjx9zD5AFuFT2/BXQUB+xrd5FDhBQJZzm5rmL0FAoWAavqcjQED7qT8WWPlAQPcJ2v9BzT9A9ROggcgmQUB+aGTxH0RBQNzwSA+DWEBAFsqVVcMwQEAUBZhq7VRAQB+/buPLMD9ApGeiQJR1PkB59l3xQe8/QLLQZcnO9UBAQkOyNVK0QEADb0aWKBpBQPYZfY/wIEBAC/pIcRGfPkAjBw/rek5AQK24HhaMMj5AkDxLe8ETQEDsOOlG0AE/QPKjJZRRHEFAR4zacAalPkC8AmiYxC9AQAJf3+r57D9AOKbX5AsdQUApwmKXcGdAQM76ppH4L0BAvSuXbpB9QEBvmt7/Iyk/QNI2tnqvTUBA5c/vTAzAP0BzvJs6aos+QJa6UyGP+kBAfKy0cdHNP0DDlh6gAWU/QJ7h+Ka6AD5AdOiET6UwPkA1GXdlXEI/QNcKNXzMpT9AFOelEXG/QEB0qriun9c/QEIaPKPG/UBA0eoFUMl3QECNQNzPucA/QNps+v53yT5AzKlhusABPkAaVrziYuo/QGguGg5NBEBAz3j44cfRP0Aoj/HgiQFBQERo6o1Pej5AFnErKROTPkBml8dB1So/QBw3VPfJSEBAgid7r5PQQEBVKmtEWEJBQLemt6LhVT9AvKOjSpWjPkB1nB+05UVAQFbC53B6fz9AcCH3LBN2QUCqDy6Y/zI+QAME2ntY9D5AFNboEEfiQEDdMhs0kO4/QFD1nBnVZ0BAGDTnn+MJQUBtRgveyqpAQLqBlcxFgkBAFEwl/F20QECRf26wO1I+QFihHN0ufT5Aru220dSEQEAdoJ4719Y/QI1OJNBBfUFAsZQaxjgNQUCEk3k68lBBQK3nIjb+5j5A1n+cz9OPQECJURnfriM+QFtXvrd91kBAlGzlMAs2PkDAjC4xaa9AQIhd8wXVDz9AYEJGu1x6QEA=",
          "dtype": "f8"
         },
         "yaxis": "y"
        },
        {
         "line": {
          "color": "blue"
         },
         "mode": "lines",
         "name": "Tire Temperature (°C)",
         "type": "scatter",
         "x": {
          "bdata": "AQIDBAUGBwgJCgsMDQ4PEBESExQVFhcYGRobHB0eHyAhIiMkJSYnKCkqKywtLi8wMTIzNDU2Nzg5Ojs8PT4/QEFCQ0RFRkdISUpLTE1OT1BRUlNUVVZXWFlaW1xdXl9gYWJjZA==",
          "dtype": "i1"
         },
         "xaxis": "x",
         "y": {
          "bdata": "te3Qiv2EPkAoEezQs3I5QNbefI/5WkNAprK4QZH8QEAXQ5bOB75DQBpOvTctIDpA4txFHVLNQUBLw30M2BU6QAy7HjN/4DtAtVyIEhlYRED/r/9czZI9QMBeKADR3TpAs47ChQ/WO0BxT5EGItQ7QCzq1mww8ERALpKovUBmQkCHB8/aaWxEQCg+yTb2JD5ASKJbum7DQkBOLy4UNH1FQKPxBhLt1kFA2DVjRRQ1RUBwOgvhZFw9QMjZBRVVK0ZA6WniiQaYOkD6pYH5bxxEQB7oueXMCD1AhAd3DHdWO0B4gwY8GxdCQOxWPXInVz9AcmC+WU1zPUCeC9PWJ+RAQNrmzd5bYkZAwNWQkKfTQkDBOaJ6cpI+QPD4LN7oW0ZAbrAbWlWVPkAeKmDhTrJDQF97L5ZDRD5AakNFeTk+REDYzI1vmfBCQIqpYSshOkJAmqVEWMUWQUB22X2EW9s9QEhBKTwimEJABPfnaFQ+RUCQud6hSKA5QJ9gpnCi00NAiERbCJpMRUCi5F6TO6tCQFqS0TIqKz5AM6HoscYDQEDwwDi68PxDQIxLabQQK0BAPfqrpVUpOUCtXGzwQBw7QHCwdVTxtD5ATrsgw4NuQEDwLLvZqyRAQOTvqHh0kERAmGGI7IBuPUA+lT3vZppAQNCiwbxrpERA/jhhDjNvRECgs9PpwBo9QNVWquMGJEBAyW14xVIgPEC8+0XbT806QNje6Qu8CkJAI80038xjP0Bx4GxdC6NBQPjfkaEMYUJA07IcKtqPQkCupcfiW+hFQCLl3GxnsT1AnGmCLRl7RUC0fgtKswY6QEbyFmWPmzlA3TAAfOQsO0CNLpMe2O9CQIWl2yiNzUFACF47GRI+PECV0QH5RfU7QFY4pMpWy0FA0qIWGw4XRkDE+5Xfk6c8QOXnTDu+Lj5Al9vV7mJpO0DiGqdDLnJCQLTTlIWHxEVAVhLFNKPCPUAH/cD/ZTlBQPbx70Z+k0VA+MNicDSVQ0Af7qDyachBQJ6lYBWg5EJAgcpPBfPOQ0A6bmuj58hDQDWcBJmKWUFA99zvNiihPkA=",
          "dtype": "f8"
         },
         "yaxis": "y"
        },
        {
         "line": {
          "color": "lightgreen"
         },
         "mode": "lines",
         "name": "Suspension Load",
         "type": "scatter",
         "x": {
          "bdata": "AQIDBAUGBwgJCgsMDQ4PEBESExQVFhcYGRobHB0eHyAhIiMkJSYnKCkqKywtLi8wMTIzNDU2Nzg5Ojs8PT4/QEFCQ0RFRkdISUpLTE1OT1BRUlNUVVZXWFlaW1xdXl9gYWJjZA==",
          "dtype": "i1"
         },
         "xaxis": "x",
         "y": {
          "bdata": "aAD6VqNdcECsDZ67WLl9QNaAtRQrL2tAWzOWefPRckAk7fmbPXB5QLy5HNJUwHdA9CgPBHOfdEBzM++wouhsQHa2hiN4O25AtKlVTk+PeUDAOF1mvpF1QNplLfDX3XJAEZt+SgKHc0ByGU5VsYl0QLAmKvmrTnlAUPzNpIzEd0BQCm34oqRrQPnOIpbJ525Amm/7p1Wla0Bk92uxEExqQL0L2tfSDHtAjrtETpp0fEB0NvtRp010QEJmV45vqn5AyBtE20SxfEDDdFQk2aF8QBKgzTB8YnNAFRFFy91kfkC2a4v+3Ip6QEhiw0G5IXNArywu3GUqfUATz21jeidpQFq9SxKjN3dAS4D6U9RAdkDleDX1LhFsQI1DgKdPq3xAlIHJrjbIcUCoFUb6eo5zQNKxAYS8aHVA1goKhUnRe0A0ryras6d3QGgDmJz+EndA+1O3kGlLc0AQllKGfL5xQFjdGCT6dnVA5p05XYVLcUCFeb+np91yQAbrvHDOwXRAMvi23M1QfEBvwiNyc/J9QMql5THCDnxAmutFz1tbdkBocoeNedd5QDaUyFYAyXJAieWtLSUcdUAcdJGwWSJ+QLqLona/J3NAzKG1mal8b0A+J2EtDVp1QCOhx5RwvHhAUFHlcYm+bUAJx09yLJRtQKZBMEi8MXJAOo4+N7eEfUATMkw2GSZ5QAf2/LBIqXBAAMO1g73Qd0B1mTG1JuF4QOwyNpepTnZAbNLhKgm9ekAQBd2Jfu1pQLAhQtlcFXBA6xR8mZWefkCRTwbqJtV1QFCCvsSK3mtA9BQONENHckBhZvbQAxFpQKoJbjgwXXdAlESs3349f0BduzZDepB3QErea51Z8HdAl0wzdhalckAluI+XwfFwQPJ+tMsmB3ZAOIXyPflefUBNuD9QnF1pQG9kd/RSLndAuj+FZ9qIdECZrZYhqSV4QHTNL2zMP3xAMvzqKGnrdECOTyCa4JRwQErlYKq2j3NA0k8MDUulbkDbbxBPCC9sQP5+r9s0jHNARgy1YFo7eEAmrJwPnG1xQBu69bFIq31AQiNVW/dqeUA=",
          "dtype": "f8"
         },
         "yaxis": "y"
        },
        {
         "cells": {
          "align": "left",
          "fill": {
           "color": "black"
          },
          "font": {
           "color": "white",
           "size": 12
          },
          "values": [
           [
            "• Tire Pressure shows variations indicating normal inflations.<br>• Tire Temperature increases with driving intensity or friction.<br>• Suspension Load fluctuates depending on vehicle weight distribution and road conditions."
           ]
          ]
         },
         "domain": {
          "x": [
           0,
           1
          ],
          "y": [
           0,
           0.255
          ]
         },
         "header": {
          "fill": {
           "color": "black"
          },
          "font": {
           "color": "white",
           "size": 14
          },
          "values": [
           "Explanation"
          ]
         },
         "type": "table"
        }
       ],
       "layout": {
        "height": 600,
        "legend": {
         "title": {
          "text": "Metrics"
         }
        },
        "template": {
         "data": {
          "bar": [
           {
            "error_x": {
             "color": "#f2f5fa"
            },
            "error_y": {
             "color": "#f2f5fa"
            },
            "marker": {
             "line": {
              "color": "rgb(17,17,17)",
              "width": 0.5
             },
             "pattern": {
              "fillmode": "overlay",
              "size": 10,
              "solidity": 0.2
             }
            },
            "type": "bar"
           }
          ],
          "barpolar": [
           {
            "marker": {
             "line": {
              "color": "rgb(17,17,17)",
              "width": 0.5
             },
             "pattern": {
              "fillmode": "overlay",
              "size": 10,
              "solidity": 0.2
             }
            },
            "type": "barpolar"
           }
          ],
          "carpet": [
           {
            "aaxis": {
             "endlinecolor": "#A2B1C6",
             "gridcolor": "#506784",
             "linecolor": "#506784",
             "minorgridcolor": "#506784",
             "startlinecolor": "#A2B1C6"
            },
            "baxis": {
             "endlinecolor": "#A2B1C6",
             "gridcolor": "#506784",
             "linecolor": "#506784",
             "minorgridcolor": "#506784",
             "startlinecolor": "#A2B1C6"
            },
            "type": "carpet"
           }
          ],
          "choropleth": [
           {
            "colorbar": {
             "outlinewidth": 0,
             "ticks": ""
            },
            "type": "choropleth"
           }
          ],
          "contour": [
           {
            "colorbar": {
             "outlinewidth": 0,
             "ticks": ""
            },
            "colorscale": [
             [
              0,
              "#0d0887"
             ],
             [
              0.1111111111111111,
              "#46039f"
             ],
             [
              0.2222222222222222,
              "#7201a8"
             ],
             [
              0.3333333333333333,
              "#9c179e"
             ],
             [
              0.4444444444444444,
              "#bd3786"
             ],
             [
              0.5555555555555556,
              "#d8576b"
             ],
             [
              0.6666666666666666,
              "#ed7953"
             ],
             [
              0.7777777777777778,
              "#fb9f3a"
             ],
             [
              0.8888888888888888,
              "#fdca26"
             ],
             [
              1,
              "#f0f921"
             ]
            ],
            "type": "contour"
           }
          ],
          "contourcarpet": [
           {
            "colorbar": {
             "outlinewidth": 0,
             "ticks": ""
            },
            "type": "contourcarpet"
           }
          ],
          "heatmap": [
           {
            "colorbar": {
             "outlinewidth": 0,
             "ticks": ""
            },
            "colorscale": [
             [
              0,
              "#0d0887"
             ],
             [
              0.1111111111111111,
              "#46039f"
             ],
             [
              0.2222222222222222,
              "#7201a8"
             ],
             [
              0.3333333333333333,
              "#9c179e"
             ],
             [
              0.4444444444444444,
              "#bd3786"
             ],
             [
              0.5555555555555556,
              "#d8576b"
             ],
             [
              0.6666666666666666,
              "#ed7953"
             ],
             [
              0.7777777777777778,
              "#fb9f3a"
             ],
             [
              0.8888888888888888,
              "#fdca26"
             ],
             [
              1,
              "#f0f921"
             ]
            ],
            "type": "heatmap"
           }
          ],
          "histogram": [
           {
            "marker": {
             "pattern": {
              "fillmode": "overlay",
              "size": 10,
              "solidity": 0.2
             }
            },
            "type": "histogram"
           }
          ],
          "histogram2d": [
           {
            "colorbar": {
             "outlinewidth": 0,
             "ticks": ""
            },
            "colorscale": [
             [
              0,
              "#0d0887"
             ],
             [
              0.1111111111111111,
              "#46039f"
             ],
             [
              0.2222222222222222,
              "#7201a8"
             ],
             [
              0.3333333333333333,
              "#9c179e"
             ],
             [
              0.4444444444444444,
              "#bd3786"
             ],
             [
              0.5555555555555556,
              "#d8576b"
             ],
             [
              0.6666666666666666,
              "#ed7953"
             ],
             [
              0.7777777777777778,
              "#fb9f3a"
             ],
             [
              0.8888888888888888,
              "#fdca26"
             ],
             [
              1,
              "#f0f921"
             ]
            ],
            "type": "histogram2d"
           }
          ],
          "histogram2dcontour": [
           {
            "colorbar": {
             "outlinewidth": 0,
             "ticks": ""
            },
            "colorscale": [
             [
              0,
              "#0d0887"
             ],
             [
              0.1111111111111111,
              "#46039f"
             ],
             [
              0.2222222222222222,
              "#7201a8"
             ],
             [
              0.3333333333333333,
              "#9c179e"
             ],
             [
              0.4444444444444444,
              "#bd3786"
             ],
             [
              0.5555555555555556,
              "#d8576b"
             ],
             [
              0.6666666666666666,
              "#ed7953"
             ],
             [
              0.7777777777777778,
              "#fb9f3a"
             ],
             [
              0.8888888888888888,
              "#fdca26"
             ],
             [
              1,
              "#f0f921"
             ]
            ],
            "type": "histogram2dcontour"
           }
          ],
          "mesh3d": [
           {
            "colorbar": {
             "outlinewidth": 0,
             "ticks": ""
            },
            "type": "mesh3d"
           }
          ],
          "parcoords": [
           {
            "line": {
             "colorbar": {
              "outlinewidth": 0,
              "ticks": ""
             }
            },
            "type": "parcoords"
           }
          ],
          "pie": [
           {
            "automargin": true,
            "type": "pie"
           }
          ],
          "scatter": [
           {
            "marker": {
             "line": {
              "color": "#283442"
             }
            },
            "type": "scatter"
           }
          ],
          "scatter3d": [
           {
            "line": {
             "colorbar": {
              "outlinewidth": 0,
              "ticks": ""
             }
            },
            "marker": {
             "colorbar": {
              "outlinewidth": 0,
              "ticks": ""
             }
            },
            "type": "scatter3d"
           }
          ],
          "scattercarpet": [
           {
            "marker": {
             "colorbar": {
              "outlinewidth": 0,
              "ticks": ""
             }
            },
            "type": "scattercarpet"
           }
          ],
          "scattergeo": [
           {
            "marker": {
             "colorbar": {
              "outlinewidth": 0,
              "ticks": ""
             }
            },
            "type": "scattergeo"
           }
          ],
          "scattergl": [
           {
            "marker": {
             "line": {
              "color": "#283442"
             }
            },
            "type": "scattergl"
           }
          ],
          "scattermap": [
           {
            "marker": {
             "colorbar": {
              "outlinewidth": 0,
              "ticks": ""
             }
            },
            "type": "scattermap"
           }
          ],
          "scattermapbox": [
           {
            "marker": {
             "colorbar": {
              "outlinewidth": 0,
              "ticks": ""
             }
            },
            "type": "scattermapbox"
           }
          ],
          "scatterpolar": [
           {
            "marker": {
             "colorbar": {
              "outlinewidth": 0,
              "ticks": ""
             }
            },
            "type": "scatterpolar"
           }
          ],
          "scatterpolargl": [
           {
            "marker": {
             "colorbar": {
              "outlinewidth": 0,
              "ticks": ""
             }
            },
            "type": "scatterpolargl"
           }
          ],
          "scatterternary": [
           {
            "marker": {
             "colorbar": {
              "outlinewidth": 0,
              "ticks": ""
             }
            },
            "type": "scatterternary"
           }
          ],
          "surface": [
           {
            "colorbar": {
             "outlinewidth": 0,
             "ticks": ""
            },
            "colorscale": [
             [
              0,
              "#0d0887"
             ],
             [
              0.1111111111111111,
              "#46039f"
             ],
             [
              0.2222222222222222,
              "#7201a8"
             ],
             [
              0.3333333333333333,
              "#9c179e"
             ],
             [
              0.4444444444444444,
              "#bd3786"
             ],
             [
              0.5555555555555556,
              "#d8576b"
             ],
             [
              0.6666666666666666,
              "#ed7953"
             ],
             [
              0.7777777777777778,
              "#fb9f3a"
             ],
             [
              0.8888888888888888,
              "#fdca26"
             ],
             [
              1,
              "#f0f921"
             ]
            ],
            "type": "surface"
           }
          ],
          "table": [
           {
            "cells": {
             "fill": {
              "color": "#506784"
             },
             "line": {
              "color": "rgb(17,17,17)"
             }
            },
            "header": {
             "fill": {
              "color": "#2a3f5f"
             },
             "line": {
              "color": "rgb(17,17,17)"
             }
            },
            "type": "table"
           }
          ]
         },
         "layout": {
          "annotationdefaults": {
           "arrowcolor": "#f2f5fa",
           "arrowhead": 0,
           "arrowwidth": 1
          },
          "autotypenumbers": "strict",
          "coloraxis": {
           "colorbar": {
            "outlinewidth": 0,
            "ticks": ""
           }
          },
          "colorscale": {
           "diverging": [
            [
             0,
             "#8e0152"
            ],
            [
             0.1,
             "#c51b7d"
            ],
            [
             0.2,
             "#de77ae"
            ],
            [
             0.3,
             "#f1b6da"
            ],
            [
             0.4,
             "#fde0ef"
            ],
            [
             0.5,
             "#f7f7f7"
            ],
            [
             0.6,
             "#e6f5d0"
            ],
            [
             0.7,
             "#b8e186"
            ],
            [
             0.8,
             "#7fbc41"
            ],
            [
             0.9,
             "#4d9221"
            ],
            [
             1,
             "#276419"
            ]
           ],
           "sequential": [
            [
             0,
             "#0d0887"
            ],
            [
             0.1111111111111111,
             "#46039f"
            ],
            [
             0.2222222222222222,
             "#7201a8"
            ],
            [
             0.3333333333333333,
             "#9c179e"
            ],
            [
             0.4444444444444444,
             "#bd3786"
            ],
            [
             0.5555555555555556,
             "#d8576b"
            ],
            [
             0.6666666666666666,
             "#ed7953"
            ],
            [
             0.7777777777777778,
             "#fb9f3a"
            ],
            [
             0.8888888888888888,
             "#fdca26"
            ],
            [
             1,
             "#f0f921"
            ]
           ],
           "sequentialminus": [
            [
             0,
             "#0d0887"
            ],
            [
             0.1111111111111111,
             "#46039f"
            ],
            [
             0.2222222222222222,
             "#7201a8"
            ],
            [
             0.3333333333333333,
             "#9c179e"
            ],
            [
             0.4444444444444444,
             "#bd3786"
            ],
            [
             0.5555555555555556,
             "#d8576b"
            ],
            [
             0.6666666666666666,
             "#ed7953"
            ],
            [
             0.7777777777777778,
             "#fb9f3a"
            ],
            [
             0.8888888888888888,
             "#fdca26"
            ],
            [
             1,
             "#f0f921"
            ]
           ]
          },
          "colorway": [
           "#636efa",
           "#EF553B",
           "#00cc96",
           "#ab63fa",
           "#FFA15A",
           "#19d3f3",
           "#FF6692",
           "#B6E880",
           "#FF97FF",
           "#FECB52"
          ],
          "font": {
           "color": "#f2f5fa"
          },
          "geo": {
           "bgcolor": "rgb(17,17,17)",
           "lakecolor": "rgb(17,17,17)",
           "landcolor": "rgb(17,17,17)",
           "showlakes": true,
           "showland": true,
           "subunitcolor": "#506784"
          },
          "hoverlabel": {
           "align": "left"
          },
          "hovermode": "closest",
          "mapbox": {
           "style": "dark"
          },
          "paper_bgcolor": "rgb(17,17,17)",
          "plot_bgcolor": "rgb(17,17,17)",
          "polar": {
           "angularaxis": {
            "gridcolor": "#506784",
            "linecolor": "#506784",
            "ticks": ""
           },
           "bgcolor": "rgb(17,17,17)",
           "radialaxis": {
            "gridcolor": "#506784",
            "linecolor": "#506784",
            "ticks": ""
           }
          },
          "scene": {
           "xaxis": {
            "backgroundcolor": "rgb(17,17,17)",
            "gridcolor": "#506784",
            "gridwidth": 2,
            "linecolor": "#506784",
            "showbackground": true,
            "ticks": "",
            "zerolinecolor": "#C8D4E3"
           },
           "yaxis": {
            "backgroundcolor": "rgb(17,17,17)",
            "gridcolor": "#506784",
            "gridwidth": 2,
            "linecolor": "#506784",
            "showbackground": true,
            "ticks": "",
            "zerolinecolor": "#C8D4E3"
           },
           "zaxis": {
            "backgroundcolor": "rgb(17,17,17)",
            "gridcolor": "#506784",
            "gridwidth": 2,
            "linecolor": "#506784",
            "showbackground": true,
            "ticks": "",
            "zerolinecolor": "#C8D4E3"
           }
          },
          "shapedefaults": {
           "line": {
            "color": "#f2f5fa"
           }
          },
          "sliderdefaults": {
           "bgcolor": "#C8D4E3",
           "bordercolor": "rgb(17,17,17)",
           "borderwidth": 1,
           "tickwidth": 0
          },
          "ternary": {
           "aaxis": {
            "gridcolor": "#506784",
            "linecolor": "#506784",
            "ticks": ""
           },
           "baxis": {
            "gridcolor": "#506784",
            "linecolor": "#506784",
            "ticks": ""
           },
           "bgcolor": "rgb(17,17,17)",
           "caxis": {
            "gridcolor": "#506784",
            "linecolor": "#506784",
            "ticks": ""
           }
          },
          "title": {
           "x": 0.05
          },
          "updatemenudefaults": {
           "bgcolor": "#506784",
           "borderwidth": 0
          },
          "xaxis": {
           "automargin": true,
           "gridcolor": "#283442",
           "linecolor": "#506784",
           "ticks": "",
           "title": {
            "standoff": 15
           },
           "zerolinecolor": "#283442",
           "zerolinewidth": 2
          },
          "yaxis": {
           "automargin": true,
           "gridcolor": "#283442",
           "linecolor": "#506784",
           "ticks": "",
           "title": {
            "standoff": 15
           },
           "zerolinecolor": "#283442",
           "zerolinewidth": 2
          }
         }
        },
        "title": {
         "text": "Tire & Suspension Monitoring Over Cycles"
        },
        "width": 900,
        "xaxis": {
         "anchor": "y",
         "domain": [
          0,
          1
         ],
         "title": {
          "text": "Braking / Driving Cycles"
         }
        },
        "yaxis": {
         "anchor": "x",
         "domain": [
          0.405,
          1
         ],
         "title": {
          "text": "Metric Values"
         }
        }
       }
      }
     },
     "metadata": {},
     "output_type": "display_data"
    }
   ],
   "source": [
    "import plotly.graph_objects as go\n",
    "from plotly.subplots import make_subplots\n",
    "import numpy as np\n",
    "\n",
    "# Sample data\n",
    "cycles = np.arange(1, 101)\n",
    "tire_pressure = np.random.uniform(30, 35, 100)\n",
    "tire_temperature = np.random.uniform(25, 45, 100)\n",
    "suspension_load = np.random.uniform(200, 500, 100)\n",
    "\n",
    "# Create subplots: 2 rows (graph + explanation)\n",
    "fig = make_subplots(\n",
    "    rows=2, cols=1,\n",
    "    row_heights=[0.7, 0.3],      # Graph 70%, explanation 30%\n",
    "    vertical_spacing=0.15,       # Add more space between graph and table\n",
    "    specs=[[{}], [{\"type\": \"table\"}]]\n",
    ")\n",
    "\n",
    "# Add graph traces\n",
    "fig.add_trace(go.Scatter(x=cycles, y=tire_pressure, mode=\"lines\", name=\"Tire Pressure (PSI)\", line=dict(color=\"yellow\")), row=1, col=1)\n",
    "fig.add_trace(go.Scatter(x=cycles, y=tire_temperature, mode=\"lines\", name=\"Tire Temperature (°C)\", line=dict(color=\"blue\")), row=1, col=1)\n",
    "fig.add_trace(go.Scatter(x=cycles, y=suspension_load, mode=\"lines\", name=\"Suspension Load\", line=dict(color=\"lightgreen\")), row=1, col=1)\n",
    "\n",
    "# Add explanation table\n",
    "fig.add_trace(go.Table(\n",
    "    header=dict(values=[\"Explanation\"], fill_color='black', font=dict(color='white', size=14)),\n",
    "    cells=dict(values=[[ \n",
    "        \"• Tire Pressure shows variations indicating normal inflations.<br>\"\n",
    "        \"• Tire Temperature increases with driving intensity or friction.<br>\"\n",
    "        \"• Suspension Load fluctuates depending on vehicle weight distribution and road conditions.\"\n",
    "    ]],\n",
    "    fill_color='black', font=dict(color='white', size=12), align='left')\n",
    "), row=2, col=1)\n",
    "\n",
    "# Update layout\n",
    "fig.update_layout(\n",
    "    title=\"Tire & Suspension Monitoring Over Cycles\",\n",
    "    template=\"plotly_dark\",\n",
    "    xaxis_title=\"Braking / Driving Cycles\",\n",
    "    yaxis_title=\"Metric Values\",\n",
    "    width=900,\n",
    "    height=600,\n",
    "    legend_title=\"Metrics\"\n",
    ")\n",
    "\n",
    "fig.show()\n"
   ]
  },
  {
   "cell_type": "code",
   "execution_count": 173,
   "id": "d40d8c5d",
   "metadata": {},
   "outputs": [
    {
     "data": {
      "application/vnd.plotly.v1+json": {
       "config": {
        "plotlyServerURL": "https://plot.ly"
       },
       "data": [
        {
         "line": {
          "color": "orange"
         },
         "mode": "lines",
         "name": "Ambient Temp (°C)",
         "type": "scatter",
         "x": {
          "bdata": "AQIDBAUGBwgJCgsMDQ4PEBESExQVFhcYGRobHB0eHyAhIiMkJSYnKCkqKywtLi8wMTIzNDU2Nzg5Ojs8PT4/QEFCQ0RFRkdISUpLTE1OT1BRUlNUVVZXWFlaW1xdXl9gYWJjZA==",
          "dtype": "i1"
         },
         "xaxis": "x",
         "y": {
          "bdata": "vIztxOy5PECRa4UHj9U8QKANoM8/ES5A9/c6NphCP0BIcYv9E61AQI4xhqaixi5AbPUp5kP3OkBMRbdkEYg8QHozYRPD7DJAi2pCRKTDP0AIn1fAQYQ7QGj7ii9IgDNAxCkDtwEsQUBMHD5kO1EzQDDZPJxekjxAqT2az1B6OEB9sfPhN3c9QHR8wtaG9DBA2MEED4QGQUDeNsrc+xYzQMi1B6NdaDNAZMwzSKAUOkDkUQ5iov41QEZBuTi01zdAJHCUe+N7L0AYhHG9m7IzQEuWp1N9eD5AJvMsuauFQEC6etONZ6szQAdkOwCMdz5APiPkBGooL0AqSEcE+skvQDjv7wo13DZAYeLQGE71MUDxkwoloVIyQNLqD9RFjDtAeAAGieYUQEBgaXHxT5Q+QFQIHCrZujVAigZBiY1AQEBA6LvssNM/QLzHWMH2ezlALOnZRXyEOEBkjIPcUyswQLYMJDiwAjJALmn0yVC1MEDqwwBBE4k5QLekGpxjiDxAbHLs9ClgO0CJjcESljpAQOw3NmqOLDxA8gf7dhqYP0BYkxEZ+s4xQO+deZDWbjJAhHCaqyKvQEDvyFCFFhg2QPTnoJ8IVzNA3KSsseWeQEBFhHuzdzNBQOhwI25hwTtABvXWK0vENkAAYzH6iMQ8QOa1cwpQny5AFCTdSe3kMUD472xl0V82QKn/aUz9pD9AzF7e8RgWNUCoYZDYTSgwQIo2wOUfkzZAFKyKpDjTM0Dql8zhBh8wQDvuugB++jZAYPP9C0cHNkCbn2S9Qq09QAyGwdKbQzBAqLNmPsKUNkAL3I53Qtk1QFvWvui57ztAMrOqwRNhQEBFNOWTG9wxQLv99R04Uz9AVHOQqMgxO0CAesH3cSsvQEPVXVR4Vj5AJqBqdfbAOUC0/H21ov8+QB8VD4JnLTdAhlNm0l9PPEBbw+il4PkyQB0nYYU+1jJAiSdbviTONUCC53kPiWM5QMjrtP6dVD1AyHHUagpWPEAKHO++SG0/QGUSKPcmhzdAmOEULBOgQEDNyL9R8C4xQLtb9B57vjJAOWrfTKKsPEA=",
          "dtype": "f8"
         },
         "yaxis": "y"
        },
        {
         "line": {
          "color": "lightblue"
         },
         "mode": "lines",
         "name": "Ambient Humidity (%)",
         "type": "scatter",
         "x": {
          "bdata": "AQIDBAUGBwgJCgsMDQ4PEBESExQVFhcYGRobHB0eHyAhIiMkJSYnKCkqKywtLi8wMTIzNDU2Nzg5Ojs8PT4/QEFCQ0RFRkdISUpLTE1OT1BRUlNUVVZXWFlaW1xdXl9gYWJjZA==",
          "dtype": "i1"
         },
         "xaxis": "x",
         "y": {
          "bdata": "9yG1KCVYRUCZXKEmYR1DQJpwBK3HlFJAcH1m8sO1QEDqEJchteRTQBCs8ylJSFJAqzUjv2xaUkB5DU97w7dOQPZFvIsTn0RAC5cEmuR5UUDEP5LYUlhAQNJE+seJjU1A9gtuJZ/6SUDBmdlGTeFQQHt2Y2o7MD9AcvqMXm2rSEDKoat3Z+1KQPC/4loZz0JA6KXUjTVeSUCkIwdSh+FSQEqZG1BCt0pAAmPjFl5LRUBdIZXD8U5MQFyrrD5khUBA+kmZlFFbRkDQzAI4o0tRQLIZv05ADE9AdG7KjwEzP0AuWhbWND9NQGRd4Pz5bkRApMXGP2ayU0BmDApjzEtRQLHpOKGcMkJAytnOCX6jSECupIc+zj9LQLRT3dAtj0NAhpkvVbVNUEB2S/x6aQRSQApnD5YlOT5APYr5MqFUQkBJ+wKEKRZGQIH0NhknzVNAOvbjefocSUD8ke7QnEFDQM48dv3uBUJAt3oj+FbEUkBiuTf0x6BRQDhXcR2Ge05AN6dSXQ1+TEAutIdc5DZRQOZ5itcp9EZACmHJ3hH/TkCYUBzJ57VQQCwEgt8mZE1A8kG+buI3Q0D85o415dJTQF/bdmfTo1FAJNENLwNES0APdbsiz39OQOjCZUA+AFFARTQE9/F2SkCznbr+K71QQDQCroheKVFAWob9tKV5SkBUpvVMt7FDQLi17ZS18U1AYguU1XLbTEAENtfaKINLQPmcacnsdkBAdsnPxDM4UUC1r0aau3dMQMmw4lYrxElANK4CtaevUUAw+bngD+xDQLq3trzCykVA1tnXyUD+TkAs1psWX8BIQOMEM7mkk0ZAg4mBv4pdRUBwbyRSrSRLQFQvSM63MVFADNFZBguRUUBLqOSy0mFRQITI35YQklJAHGNSar9EQECaKjgNGMdTQIviFYJaqUlAsoG64hXTQ0BivASqEqBTQPTg4FuV0FFAN567iB0fU0D7UnQQLxRMQAFcih/G2FBAZjcm4ZH8S0CMFwQRe3xMQC0CDZfNZFNAQfN+Cr66UEDztjzCYCtNQIAMDnWB0UhA8PExZ7IbQ0A=",
          "dtype": "f8"
         },
         "yaxis": "y"
        },
        {
         "line": {
          "color": "lightgreen"
         },
         "mode": "lines",
         "name": "Load Weight (kg)",
         "type": "scatter",
         "x": {
          "bdata": "AQIDBAUGBwgJCgsMDQ4PEBESExQVFhcYGRobHB0eHyAhIiMkJSYnKCkqKywtLi8wMTIzNDU2Nzg5Ojs8PT4/QEFCQ0RFRkdISUpLTE1OT1BRUlNUVVZXWFlaW1xdXl9gYWJjZA==",
          "dtype": "i1"
         },
         "xaxis": "x",
         "y": {
          "bdata": "xs8Adb7uTECv4jiIqLpiQKDpiExvpnVAHryMDa/xV0DG66zSyW5QQEaYRN14cENAGGb2uv5xekBVqRUFEyZeQO5ydQA3G1lANRthcaltaED9ixS946tzQAXjmfsTUnJABudAMEPdfECMIUvsxk91QMK8DrzFj3FA/OTlC8k8dkDhsB+0yb10QCgJCJnT+3dAxuq1FmnjcUB/lFuMUzp5QJ85Slx1IHxArarwi9DDdUC+IETw6llmQO4gYNqmf2FAJukKPnzpc0A3MgzgbrtzQMGqa7Ya6SdAP0+rB+BYd0ATv8zL+7tbQKp0DaK9PjtAfrWJ6F8mU0DTw3RCP4Z0QDhdUABwWHBAtgOvfoB3ekCRV0wOLZBKQFTycRQi7HlAKX3w21dXdEAGZtnSvt1aQNHxbbM+B3dA84Lbkqoqd0DlAM31GQBLQKUrUCMmp2BAav+/Uuv2c0B2s9jRMclnQHLuQqb16XdAJMY061bAcECAbl4C+sd6QHyLhzyqwUtAfzzXY/ntdkAoSkFRPQptQPKHcq0gO3BA0gpZn7rAYUALl2+tAtFgQAikDNu4uVdAuktv6odVZ0BVCRptnN9dQDJ1qmZMt1dAp6ltB14OfkA2JavmoPZrQL5khYn6MHVAspF0215iZ0CxTlqWWc5xQNqartY7M29AiivsU4Elc0CVZzZ91JV2QNQ5qg1Gv3RA+qltvdPQd0CheKm1vUlSQA0TvTT+gUdAk8XwE2QuZUBsggvrPh1uQEV47/zhDFxAMG9e1sspeECghOKScnx2QIh+6p+hjHxAAGMafK7HdkDQF0rjTMlKQKLEMmb1x3RA7KwZDPPAaUBsA40g1jlgQBMqWYOcz3JA1XLo7ArjYkCuUEfB2ZZwQPDqaa/R/3FAyePlComIcEBO4ymVf18VQP1cqZfSy2VAbsGdt7KzeEBoyPSOVK5lQBmgWm4S1m9AGyeY/xyqZUD5SyrwnOdYQN88g24c+FhAXXXpbeBmd0BwAwQMn59zQNNc9dF0IH1A01JMFhNQakC3Kki/ieRzQAynRhqiSG1A1Eb7hgGfbUA=",
          "dtype": "f8"
         },
         "yaxis": "y"
        },
        {
         "line": {
          "color": "gold"
         },
         "mode": "lines",
         "name": "Driving Speed (km/h)",
         "type": "scatter",
         "x": {
          "bdata": "AQIDBAUGBwgJCgsMDQ4PEBESExQVFhcYGRobHB0eHyAhIiMkJSYnKCkqKywtLi8wMTIzNDU2Nzg5Ojs8PT4/QEFCQ0RFRkdISUpLTE1OT1BRUlNUVVZXWFlaW1xdXl9gYWJjZA==",
          "dtype": "i1"
         },
         "xaxis": "x",
         "y": {
          "bdata": "lPd/G2SfWUCm+awTF0JLQFlU8i5S2FtAqGR76H6dUkDay47zd4AkQGMVDtDeUCBA+32cUyx4XUBNx+AAKfZHQElWZA+vn1FAKI/OeinlSUC6OW5wTBEzQHyb5onlIS5APhtlmwaGOUAY5VuQ/ihSQFFVZsFgZVBA7t02Sh63Q0CurWJtITQVQMceNSMScUNArIKqZfDlR0B/jdCrVbFWQJLvpYXgH1ZARAYrH6iROkDz9mvQJFI7QLaDiN4j1lJAuBLrcKSNU0DdhyvyRNVQQCQBD4iF3ypARgK1VqkkQUCcV4OZYW8OQPeZfgUL2VZAckUrQvIxWEDrNTR/Sp1bQBs640yIGSVAROBBK7cvW0C1smV2gY1bQGmVL8xh7l1AAHrmJy9WV0Ahd8z7O4Q/QNclPZw/vz9A/HVdcIGlVECY3JvKWGRUQIiK4ghUz1NA5K7VwO8vRUDQ3NUQFjBPQNpd2lMAF0JAAhYuSlrnUUCgyf94DCxXQDzqGsj89VRAK73TJkjzSUCwJo0H1HtPQKpS044sLFdAvQ5fyj3xO0DMeIP/So46QPShRL9lGU1AmpDGse+lTUA+p66bqYgGQC0W2A5ZdVFATuiCJoIQSUA7vkGcmEpRQCs/Y4fYcVtAEpb1mbH8Q0Csjlssb+EpQBav+w1ByDhAvrP0wWhkQkCxxkdJc+dZQK4V9/vjeFBAWsIF8zraXUA5peZ9FxpBQK1MXVmTfiBAbE8l8T8SQkCJLncLIcddQEEO42cAS1ZALGJ90atzW0CdVYRVaNhRQCG0ISWVhUBAqfEOcgiiXECwDeqrr387QNQ2ieur00dAo56bzG+aQUCUdbD3w01TQG7jvx+hFElAti9nTpe2XEDF1LNEyQVdQPD0RrNlQidAPnJnIJnZW0DdAGkBnPBXQKBR7WLAXlVAt5pBhmTERUC4Z+3l/2JUQKqj+Q/rUVhAe0UKfKnpWEAsi/lTWyxYQNpOu/WPM0NAEo6ZX5kzNkDM42LXMVBQQGA03cfSgT5A1rzSqq+MV0C4bg9GDHEVQD/niHlGhklASUkjWo5bV0A=",
          "dtype": "f8"
         },
         "yaxis": "y"
        },
        {
         "cells": {
          "align": "left",
          "fill": {
           "color": "black"
          },
          "font": {
           "color": "white",
           "size": 12
          },
          "values": [
           [
            "• Ambient Temperature shows external conditions affecting battery & motor performance.<br>• Ambient Humidity affects traction and system cooling.<br>• Load Weight impacts energy consumption and suspension stress.<br>• Driving Speed influences battery drain and braking requirements."
           ]
          ]
         },
         "domain": {
          "x": [
           0,
           1
          ],
          "y": [
           0,
           0.255
          ]
         },
         "header": {
          "fill": {
           "color": "black"
          },
          "font": {
           "color": "white",
           "size": 14
          },
          "values": [
           "Explanation"
          ]
         },
         "type": "table"
        }
       ],
       "layout": {
        "height": 600,
        "legend": {
         "title": {
          "text": "Metrics"
         }
        },
        "template": {
         "data": {
          "bar": [
           {
            "error_x": {
             "color": "#f2f5fa"
            },
            "error_y": {
             "color": "#f2f5fa"
            },
            "marker": {
             "line": {
              "color": "rgb(17,17,17)",
              "width": 0.5
             },
             "pattern": {
              "fillmode": "overlay",
              "size": 10,
              "solidity": 0.2
             }
            },
            "type": "bar"
           }
          ],
          "barpolar": [
           {
            "marker": {
             "line": {
              "color": "rgb(17,17,17)",
              "width": 0.5
             },
             "pattern": {
              "fillmode": "overlay",
              "size": 10,
              "solidity": 0.2
             }
            },
            "type": "barpolar"
           }
          ],
          "carpet": [
           {
            "aaxis": {
             "endlinecolor": "#A2B1C6",
             "gridcolor": "#506784",
             "linecolor": "#506784",
             "minorgridcolor": "#506784",
             "startlinecolor": "#A2B1C6"
            },
            "baxis": {
             "endlinecolor": "#A2B1C6",
             "gridcolor": "#506784",
             "linecolor": "#506784",
             "minorgridcolor": "#506784",
             "startlinecolor": "#A2B1C6"
            },
            "type": "carpet"
           }
          ],
          "choropleth": [
           {
            "colorbar": {
             "outlinewidth": 0,
             "ticks": ""
            },
            "type": "choropleth"
           }
          ],
          "contour": [
           {
            "colorbar": {
             "outlinewidth": 0,
             "ticks": ""
            },
            "colorscale": [
             [
              0,
              "#0d0887"
             ],
             [
              0.1111111111111111,
              "#46039f"
             ],
             [
              0.2222222222222222,
              "#7201a8"
             ],
             [
              0.3333333333333333,
              "#9c179e"
             ],
             [
              0.4444444444444444,
              "#bd3786"
             ],
             [
              0.5555555555555556,
              "#d8576b"
             ],
             [
              0.6666666666666666,
              "#ed7953"
             ],
             [
              0.7777777777777778,
              "#fb9f3a"
             ],
             [
              0.8888888888888888,
              "#fdca26"
             ],
             [
              1,
              "#f0f921"
             ]
            ],
            "type": "contour"
           }
          ],
          "contourcarpet": [
           {
            "colorbar": {
             "outlinewidth": 0,
             "ticks": ""
            },
            "type": "contourcarpet"
           }
          ],
          "heatmap": [
           {
            "colorbar": {
             "outlinewidth": 0,
             "ticks": ""
            },
            "colorscale": [
             [
              0,
              "#0d0887"
             ],
             [
              0.1111111111111111,
              "#46039f"
             ],
             [
              0.2222222222222222,
              "#7201a8"
             ],
             [
              0.3333333333333333,
              "#9c179e"
             ],
             [
              0.4444444444444444,
              "#bd3786"
             ],
             [
              0.5555555555555556,
              "#d8576b"
             ],
             [
              0.6666666666666666,
              "#ed7953"
             ],
             [
              0.7777777777777778,
              "#fb9f3a"
             ],
             [
              0.8888888888888888,
              "#fdca26"
             ],
             [
              1,
              "#f0f921"
             ]
            ],
            "type": "heatmap"
           }
          ],
          "histogram": [
           {
            "marker": {
             "pattern": {
              "fillmode": "overlay",
              "size": 10,
              "solidity": 0.2
             }
            },
            "type": "histogram"
           }
          ],
          "histogram2d": [
           {
            "colorbar": {
             "outlinewidth": 0,
             "ticks": ""
            },
            "colorscale": [
             [
              0,
              "#0d0887"
             ],
             [
              0.1111111111111111,
              "#46039f"
             ],
             [
              0.2222222222222222,
              "#7201a8"
             ],
             [
              0.3333333333333333,
              "#9c179e"
             ],
             [
              0.4444444444444444,
              "#bd3786"
             ],
             [
              0.5555555555555556,
              "#d8576b"
             ],
             [
              0.6666666666666666,
              "#ed7953"
             ],
             [
              0.7777777777777778,
              "#fb9f3a"
             ],
             [
              0.8888888888888888,
              "#fdca26"
             ],
             [
              1,
              "#f0f921"
             ]
            ],
            "type": "histogram2d"
           }
          ],
          "histogram2dcontour": [
           {
            "colorbar": {
             "outlinewidth": 0,
             "ticks": ""
            },
            "colorscale": [
             [
              0,
              "#0d0887"
             ],
             [
              0.1111111111111111,
              "#46039f"
             ],
             [
              0.2222222222222222,
              "#7201a8"
             ],
             [
              0.3333333333333333,
              "#9c179e"
             ],
             [
              0.4444444444444444,
              "#bd3786"
             ],
             [
              0.5555555555555556,
              "#d8576b"
             ],
             [
              0.6666666666666666,
              "#ed7953"
             ],
             [
              0.7777777777777778,
              "#fb9f3a"
             ],
             [
              0.8888888888888888,
              "#fdca26"
             ],
             [
              1,
              "#f0f921"
             ]
            ],
            "type": "histogram2dcontour"
           }
          ],
          "mesh3d": [
           {
            "colorbar": {
             "outlinewidth": 0,
             "ticks": ""
            },
            "type": "mesh3d"
           }
          ],
          "parcoords": [
           {
            "line": {
             "colorbar": {
              "outlinewidth": 0,
              "ticks": ""
             }
            },
            "type": "parcoords"
           }
          ],
          "pie": [
           {
            "automargin": true,
            "type": "pie"
           }
          ],
          "scatter": [
           {
            "marker": {
             "line": {
              "color": "#283442"
             }
            },
            "type": "scatter"
           }
          ],
          "scatter3d": [
           {
            "line": {
             "colorbar": {
              "outlinewidth": 0,
              "ticks": ""
             }
            },
            "marker": {
             "colorbar": {
              "outlinewidth": 0,
              "ticks": ""
             }
            },
            "type": "scatter3d"
           }
          ],
          "scattercarpet": [
           {
            "marker": {
             "colorbar": {
              "outlinewidth": 0,
              "ticks": ""
             }
            },
            "type": "scattercarpet"
           }
          ],
          "scattergeo": [
           {
            "marker": {
             "colorbar": {
              "outlinewidth": 0,
              "ticks": ""
             }
            },
            "type": "scattergeo"
           }
          ],
          "scattergl": [
           {
            "marker": {
             "line": {
              "color": "#283442"
             }
            },
            "type": "scattergl"
           }
          ],
          "scattermap": [
           {
            "marker": {
             "colorbar": {
              "outlinewidth": 0,
              "ticks": ""
             }
            },
            "type": "scattermap"
           }
          ],
          "scattermapbox": [
           {
            "marker": {
             "colorbar": {
              "outlinewidth": 0,
              "ticks": ""
             }
            },
            "type": "scattermapbox"
           }
          ],
          "scatterpolar": [
           {
            "marker": {
             "colorbar": {
              "outlinewidth": 0,
              "ticks": ""
             }
            },
            "type": "scatterpolar"
           }
          ],
          "scatterpolargl": [
           {
            "marker": {
             "colorbar": {
              "outlinewidth": 0,
              "ticks": ""
             }
            },
            "type": "scatterpolargl"
           }
          ],
          "scatterternary": [
           {
            "marker": {
             "colorbar": {
              "outlinewidth": 0,
              "ticks": ""
             }
            },
            "type": "scatterternary"
           }
          ],
          "surface": [
           {
            "colorbar": {
             "outlinewidth": 0,
             "ticks": ""
            },
            "colorscale": [
             [
              0,
              "#0d0887"
             ],
             [
              0.1111111111111111,
              "#46039f"
             ],
             [
              0.2222222222222222,
              "#7201a8"
             ],
             [
              0.3333333333333333,
              "#9c179e"
             ],
             [
              0.4444444444444444,
              "#bd3786"
             ],
             [
              0.5555555555555556,
              "#d8576b"
             ],
             [
              0.6666666666666666,
              "#ed7953"
             ],
             [
              0.7777777777777778,
              "#fb9f3a"
             ],
             [
              0.8888888888888888,
              "#fdca26"
             ],
             [
              1,
              "#f0f921"
             ]
            ],
            "type": "surface"
           }
          ],
          "table": [
           {
            "cells": {
             "fill": {
              "color": "#506784"
             },
             "line": {
              "color": "rgb(17,17,17)"
             }
            },
            "header": {
             "fill": {
              "color": "#2a3f5f"
             },
             "line": {
              "color": "rgb(17,17,17)"
             }
            },
            "type": "table"
           }
          ]
         },
         "layout": {
          "annotationdefaults": {
           "arrowcolor": "#f2f5fa",
           "arrowhead": 0,
           "arrowwidth": 1
          },
          "autotypenumbers": "strict",
          "coloraxis": {
           "colorbar": {
            "outlinewidth": 0,
            "ticks": ""
           }
          },
          "colorscale": {
           "diverging": [
            [
             0,
             "#8e0152"
            ],
            [
             0.1,
             "#c51b7d"
            ],
            [
             0.2,
             "#de77ae"
            ],
            [
             0.3,
             "#f1b6da"
            ],
            [
             0.4,
             "#fde0ef"
            ],
            [
             0.5,
             "#f7f7f7"
            ],
            [
             0.6,
             "#e6f5d0"
            ],
            [
             0.7,
             "#b8e186"
            ],
            [
             0.8,
             "#7fbc41"
            ],
            [
             0.9,
             "#4d9221"
            ],
            [
             1,
             "#276419"
            ]
           ],
           "sequential": [
            [
             0,
             "#0d0887"
            ],
            [
             0.1111111111111111,
             "#46039f"
            ],
            [
             0.2222222222222222,
             "#7201a8"
            ],
            [
             0.3333333333333333,
             "#9c179e"
            ],
            [
             0.4444444444444444,
             "#bd3786"
            ],
            [
             0.5555555555555556,
             "#d8576b"
            ],
            [
             0.6666666666666666,
             "#ed7953"
            ],
            [
             0.7777777777777778,
             "#fb9f3a"
            ],
            [
             0.8888888888888888,
             "#fdca26"
            ],
            [
             1,
             "#f0f921"
            ]
           ],
           "sequentialminus": [
            [
             0,
             "#0d0887"
            ],
            [
             0.1111111111111111,
             "#46039f"
            ],
            [
             0.2222222222222222,
             "#7201a8"
            ],
            [
             0.3333333333333333,
             "#9c179e"
            ],
            [
             0.4444444444444444,
             "#bd3786"
            ],
            [
             0.5555555555555556,
             "#d8576b"
            ],
            [
             0.6666666666666666,
             "#ed7953"
            ],
            [
             0.7777777777777778,
             "#fb9f3a"
            ],
            [
             0.8888888888888888,
             "#fdca26"
            ],
            [
             1,
             "#f0f921"
            ]
           ]
          },
          "colorway": [
           "#636efa",
           "#EF553B",
           "#00cc96",
           "#ab63fa",
           "#FFA15A",
           "#19d3f3",
           "#FF6692",
           "#B6E880",
           "#FF97FF",
           "#FECB52"
          ],
          "font": {
           "color": "#f2f5fa"
          },
          "geo": {
           "bgcolor": "rgb(17,17,17)",
           "lakecolor": "rgb(17,17,17)",
           "landcolor": "rgb(17,17,17)",
           "showlakes": true,
           "showland": true,
           "subunitcolor": "#506784"
          },
          "hoverlabel": {
           "align": "left"
          },
          "hovermode": "closest",
          "mapbox": {
           "style": "dark"
          },
          "paper_bgcolor": "rgb(17,17,17)",
          "plot_bgcolor": "rgb(17,17,17)",
          "polar": {
           "angularaxis": {
            "gridcolor": "#506784",
            "linecolor": "#506784",
            "ticks": ""
           },
           "bgcolor": "rgb(17,17,17)",
           "radialaxis": {
            "gridcolor": "#506784",
            "linecolor": "#506784",
            "ticks": ""
           }
          },
          "scene": {
           "xaxis": {
            "backgroundcolor": "rgb(17,17,17)",
            "gridcolor": "#506784",
            "gridwidth": 2,
            "linecolor": "#506784",
            "showbackground": true,
            "ticks": "",
            "zerolinecolor": "#C8D4E3"
           },
           "yaxis": {
            "backgroundcolor": "rgb(17,17,17)",
            "gridcolor": "#506784",
            "gridwidth": 2,
            "linecolor": "#506784",
            "showbackground": true,
            "ticks": "",
            "zerolinecolor": "#C8D4E3"
           },
           "zaxis": {
            "backgroundcolor": "rgb(17,17,17)",
            "gridcolor": "#506784",
            "gridwidth": 2,
            "linecolor": "#506784",
            "showbackground": true,
            "ticks": "",
            "zerolinecolor": "#C8D4E3"
           }
          },
          "shapedefaults": {
           "line": {
            "color": "#f2f5fa"
           }
          },
          "sliderdefaults": {
           "bgcolor": "#C8D4E3",
           "bordercolor": "rgb(17,17,17)",
           "borderwidth": 1,
           "tickwidth": 0
          },
          "ternary": {
           "aaxis": {
            "gridcolor": "#506784",
            "linecolor": "#506784",
            "ticks": ""
           },
           "baxis": {
            "gridcolor": "#506784",
            "linecolor": "#506784",
            "ticks": ""
           },
           "bgcolor": "rgb(17,17,17)",
           "caxis": {
            "gridcolor": "#506784",
            "linecolor": "#506784",
            "ticks": ""
           }
          },
          "title": {
           "x": 0.05
          },
          "updatemenudefaults": {
           "bgcolor": "#506784",
           "borderwidth": 0
          },
          "xaxis": {
           "automargin": true,
           "gridcolor": "#283442",
           "linecolor": "#506784",
           "ticks": "",
           "title": {
            "standoff": 15
           },
           "zerolinecolor": "#283442",
           "zerolinewidth": 2
          },
          "yaxis": {
           "automargin": true,
           "gridcolor": "#283442",
           "linecolor": "#506784",
           "ticks": "",
           "title": {
            "standoff": 15
           },
           "zerolinecolor": "#283442",
           "zerolinewidth": 2
          }
         }
        },
        "title": {
         "text": "Environmental & Usage Monitoring Over Cycles"
        },
        "width": 900,
        "xaxis": {
         "anchor": "y",
         "domain": [
          0,
          1
         ],
         "title": {
          "text": "Driving / Operation Cycles"
         }
        },
        "yaxis": {
         "anchor": "x",
         "domain": [
          0.405,
          1
         ],
         "title": {
          "text": "Metric Values"
         }
        }
       }
      }
     },
     "metadata": {},
     "output_type": "display_data"
    }
   ],
   "source": [
    "import plotly.graph_objects as go\n",
    "from plotly.subplots import make_subplots\n",
    "import numpy as np\n",
    "\n",
    "# Sample data\n",
    "cycles = np.arange(1, 101)\n",
    "ambient_temp = np.random.uniform(15, 35, 100)     # °C\n",
    "ambient_humidity = np.random.uniform(30, 80, 100) # %\n",
    "load_weight = np.random.uniform(0, 500, 100)      # kg\n",
    "driving_speed = np.random.uniform(0, 120, 100)    # km/h\n",
    "\n",
    "# Create subplots: 2 rows (graph + explanation)\n",
    "fig = make_subplots(\n",
    "    rows=2, cols=1,\n",
    "    row_heights=[0.7, 0.3],\n",
    "    vertical_spacing=0.15,\n",
    "    specs=[[{}], [{\"type\": \"table\"}]]\n",
    ")\n",
    "\n",
    "# Add line traces\n",
    "fig.add_trace(go.Scatter(x=cycles, y=ambient_temp, mode=\"lines\", name=\"Ambient Temp (°C)\", line=dict(color=\"orange\")), row=1, col=1)\n",
    "fig.add_trace(go.Scatter(x=cycles, y=ambient_humidity, mode=\"lines\", name=\"Ambient Humidity (%)\", line=dict(color=\"lightblue\")), row=1, col=1)\n",
    "fig.add_trace(go.Scatter(x=cycles, y=load_weight, mode=\"lines\", name=\"Load Weight (kg)\", line=dict(color=\"lightgreen\")), row=1, col=1)\n",
    "fig.add_trace(go.Scatter(x=cycles, y=driving_speed, mode=\"lines\", name=\"Driving Speed (km/h)\", line=dict(color=\"gold\")), row=1, col=1)\n",
    "\n",
    "# Add explanation table\n",
    "fig.add_trace(go.Table(\n",
    "    header=dict(values=[\"Explanation\"], fill_color='black', font=dict(color='white', size=14)),\n",
    "    cells=dict(values=[[ \n",
    "        \"• Ambient Temperature shows external conditions affecting battery & motor performance.<br>\"\n",
    "        \"• Ambient Humidity affects traction and system cooling.<br>\"\n",
    "        \"• Load Weight impacts energy consumption and suspension stress.<br>\"\n",
    "        \"• Driving Speed influences battery drain and braking requirements.\"\n",
    "    ]],\n",
    "    fill_color='black', font=dict(color='white', size=12), align='left')\n",
    "), row=2, col=1)\n",
    "\n",
    "# Update layout\n",
    "fig.update_layout(\n",
    "    title=\"Environmental & Usage Monitoring Over Cycles\",\n",
    "    template=\"plotly_dark\",\n",
    "    xaxis_title=\"Driving / Operation Cycles\",\n",
    "    yaxis_title=\"Metric Values\",\n",
    "    width=900,\n",
    "    height=600,\n",
    "    legend_title=\"Metrics\"\n",
    ")\n",
    "\n",
    "fig.show()\n"
   ]
  },
  {
   "cell_type": "code",
   "execution_count": 175,
   "id": "353c4f5b",
   "metadata": {},
   "outputs": [
    {
     "data": {
      "application/vnd.plotly.v1+json": {
       "config": {
        "plotlyServerURL": "https://plot.ly"
       },
       "data": [
        {
         "line": {
          "color": "gold"
         },
         "mode": "lines",
         "name": "Distance Traveled",
         "type": "scatter",
         "x": {
          "bdata": "AQIDBAUGBwgJCgsMDQ4PEBESExQVFhcYGRobHB0eHyAhIiMkJSYnKCkqKywtLi8wMTIzNDU2Nzg5Ojs8PT4/QEFCQ0RFRkdISUpLTE1OT1BRUlNUVVZXWFlaW1xdXl9gYWJjZA==",
          "dtype": "i1"
         },
         "xaxis": "x",
         "y": {
          "bdata": "iAVpawK6AECEtuwhpkgPQC2J43whdBdAqKt3Xb+wIECL9vMUcgklQGsIuP1bmidAipSL+lJaLEDrBLstP20wQBxsRaDWVjJAFM1+wo+2NEBZaD/9PSM2QMLp+uhtEDhAQT7Vo4WSOEBw8xSzojU6QHi4oxIqKDxA7lfONERsPUDmsIT9o6g/QKkPI2Z/kEBAe9RDr9QYQUDc4yQdfeVBQLkUxf5MDUNAEerL9gH8Q0DapkVdOi9FQHu0jIrR4UVA7hI4p2PKRkB4kLkOQqtHQI5c4zt5KEhAYerluxUnSUBrBg+jfXhJQBJvofm4S0pAvdcJXUu5SkDy2p2lgilLQPnCEuNYZExAYD1l1cgGTUArjbMWzstNQKrxW/wStk5AlqbA+qJ1T0BHs0cCuzdQQCKLofcPW1BA4mCjH67RUECP0YbZMxtRQCivOdrCq1FAfl4NCx7eUUAQPA8rCgJSQBz45WnXKVJAwBmLYK6MUkAr2ESlO8hSQBpOs8WjSFNAfeCMP79vU0DuxR8fzq1TQCqOoXoTOFRAIwdsDOtdVEAiJZmLu+JUQJ1M3twJEVVAYnfWY+mcVUA5DVPiRCFWQGhSExNFXVZAq3du6LiwVkA/nCbNWAtXQKI7AhLAXVdA3TCQJ8OYV0CmGkjltdVXQFPMJZ4eTlhAVQB214SBWEAlFXD6nMVYQIbfXzWu7VhAT5K0LpkpWUBeJNAXcE5ZQK27s0HTx1lAWk3DlpcbWkBlaPoF72taQPE8xWoYylpAolrdhIoLW0B7pR7uqVlbQPFle7FOxVtAI0cv5AsCXECKvjOoLV1cQDE79LjExlxA8RxdyXH4XEDpttWTvD9dQN2oKHhrpl1AKj5088f5XUCj/ISpbXVeQDGJUZ0Js15Adm8BSkoPX0A0/6NTYphfQFgIeZeoyl9AAtt2y5ouYEDLOKt4OltgQL8FvCzwiWBA4wfo5aLCYECGNZ9MUPVgQDHI8m0AOmFAry9AV/JVYUBD08ayQm5hQEYplKEfj2FAL6YezvveYUBxQ4mZT/VhQD2QroVCJ2JAy+eXl8FoYkA=",
          "dtype": "f8"
         },
         "yaxis": "y"
        },
        {
         "line": {
          "color": "orange"
         },
         "mode": "lines",
         "name": "Idle Time",
         "type": "scatter",
         "x": {
          "bdata": "AQIDBAUGBwgJCgsMDQ4PEBESExQVFhcYGRobHB0eHyAhIiMkJSYnKCkqKywtLi8wMTIzNDU2Nzg5Ojs8PT4/QEFCQ0RFRkdISUpLTE1OT1BRUlNUVVZXWFlaW1xdXl9gYWJjZA==",
          "dtype": "i1"
         },
         "xaxis": "x2",
         "y": {
          "bdata": "CtMppVb6OEAJ/VeKBbk8QPnYXb3h2j1AfYFYyVORMEDMDO/E+OQcQDjd2P+bMS9Ag5pRJ7oUNkCsxGGsnZksQDh0G0SvViBAbaKLp6ypOEAY7CIzmt84QJS5YM75hDBAmdw0F/sLMkAd69KC4s8uQE+Th4/QdjdAVbzks8KcOkAgTqh1MeeuP4pEmpB0NT1A/HEOzLGlJED+SV2RmPInQGojZyydDyZA3h/w9bVUOUBqfYVFkRo2QEQhx4IkeBVAjFL9J1F8KEBQ5IPu+PC0P9jG4gnpFzhAMn1VRolaHEBDx7eii+wDQNRZaae00jNAwYAg9Z1KGkDQudcGYXgwQJlw5/M2WBNAdZzuOgi0N0CP4iqCjnU9QNov1uJPzAlAQymIgQw+OUD+xpXiKmMtQKT4Ffxdrfg/E6x330hHL0BocqsGVuosQGCM3EYNvjpAyQhQ+GpsJEBHregyirk2QKR8EZrhwA9AtosX82hPJ0CK8gGfRi4wQIo3+H5dyBVA40f2zH67F0DU1fAz33AdQNjK3jytSDZAQOOsmQJOPEDAiFzba4QOQN0U8cEtcDBA3FOrKAenEUCzQNoI9Qr6P4aUOSx88PI/QDCy6gC8KUCEeyQk9YQpQC4+dXf/7DNAJFO8EVplJ0A2H+Ru45AbQELW5AXgHAdA9rAz2X0iMUAQ2PW/oxQaQKyheiwIoSZANjjyh0HU4D++R6JxkuIdQHd18pqzhzNA4EjSWZaNDUAVEwGYNdczQIapITEI0DlA/ywh3MAUOkBcAf1SM+MSQH6cNcM6CixApIX9tj/WOkCG8sxN1eU1QNcvVu7Y/TlAVqgzOq02J0AkymKj1fAtQIDgS9Z52jpAiQihjaa9KUDz+LxR4xo0QHaTndm2eSlAVAR8YX09NUCkA7ULkWUyQARdfpcHfypAhrB9K314MEBUQ7aTyPExQC8LQMAqXzpANgwi6F5ONED1LAZlomk1QKYtGkYJGT1ACvfIaiM9AEDN7VsZfYMWQB01h8FbFiNAm59AFcxhPEDdQzXcNW0bQKXoPCPt8zBAeINbbT5DDEA=",
          "dtype": "f8"
         },
         "yaxis": "y2"
        },
        {
         "line": {
          "color": "lightgreen"
         },
         "mode": "lines",
         "name": "Route Roughness",
         "type": "scatter",
         "x": {
          "bdata": "AQIDBAUGBwgJCgsMDQ4PEBESExQVFhcYGRobHB0eHyAhIiMkJSYnKCkqKywtLi8wMTIzNDU2Nzg5Ojs8PT4/QEFCQ0RFRkdISUpLTE1OT1BRUlNUVVZXWFlaW1xdXl9gYWJjZA==",
          "dtype": "i1"
         },
         "xaxis": "x3",
         "y": {
          "bdata": "rO9Oq0OnBUB6998ZuhYGQNyi38yxVhxAGX9boqNp8T/aJ6BuhUceQHSbDDqgSAhAPN4QtLxWHUDNKNfwK1MNQFhwl8pYDhFAgNEiJgci9D+IuCafPhjxP5lezd91rBVA4OLaLpl7GUBMTwUyWHvtP46mbAslT/Y/UFyYmmvD1D+0arCgQvz5P6Q6jjtjzgFAYav4uMygG0C4/ERHYt7kPzf9V+sKfxtAo8sBa5Y3EEDswBJvYt/2P6gFd36GpSNARUk5/LYrFEBSBG/d5IgHQDZJHND7wuE/gHFQqU4lCUCBPFFDjX8YQIz5X+JtqQNALQQoTwjFFkBQ4sTSIkMGQJS9x9Npc9w/IDrLkNKGEEDAbcBflYcMQI7mjJnUqwNA4xsK66soFUAqH5O2eSsPQLeEB4a4/yJAsqaP32LZGECbdGAx/6YMQDmGNpCdJQFA4Ky6Sd6aGkD+DGEdD2ciQPgRmmSjFRlAkzkSAH2WIECVDVZogF4bQNHM2L2R8SJAZ/P+ttFJEEAbe+HftOgeQPCuQXcQXhRAuEQplq6s3z/A1c1YxfnAP/e/+adDARFAuvUlRCNmGkBWMYiU9EMhQHy8SX764NQ/H3mG5j3WIkAprltM+bEhQL9r24rreCFA4UZGRfC0GUASC2UclKoSQONCPPFyFCBAyIfolXJ+AEC54KylIWIHQDK0MH+Eofs/pfuCuKr1I0AtWGvRvr/+P7pR9XywBxxAjS8Pu557EkCwr693GU/VP5ghRuIbAeo/eVmKWKyWIkCRHKL7HcgdQKfM+uMj1xVAYO7p0tbBAECgtbM+j0WwP5BDI2bv5x5AxiFqLOD7CECu/gcTjR8BQFnLkVHhkfs/jy/zmAktIEDu9PPsR9MYQO/Y+oLrphlA2PvvHz2CIkBMjqfXAtYhQCxSrEzsNxtAFK4yOnU4I0CugBkXH1ECQFDYpX1CF8k/SQYKgiNvIkCSKIXbbyUFQIzsaIVJdiNA4mug5lHsAUDEtVQ+2kYGQI1vWxJiMCJA9L1OXstAIECWtoMKSirvP/6QiFnTBBdAU2yDe4E9+T8=",
          "dtype": "f8"
         },
         "yaxis": "y3"
        }
       ],
       "layout": {
        "annotations": [
         {
          "font": {
           "size": 16
          },
          "showarrow": false,
          "text": "Distance Traveled (km)",
          "x": 0.5,
          "xanchor": "center",
          "xref": "paper",
          "y": 1,
          "yanchor": "bottom",
          "yref": "paper"
         },
         {
          "font": {
           "size": 16
          },
          "showarrow": false,
          "text": "Idle Time (minutes)",
          "x": 0.5,
          "xanchor": "center",
          "xref": "paper",
          "y": 0.6399999999999999,
          "yanchor": "bottom",
          "yref": "paper"
         },
         {
          "font": {
           "size": 16
          },
          "showarrow": false,
          "text": "Route Roughness",
          "x": 0.5,
          "xanchor": "center",
          "xref": "paper",
          "y": 0.27999999999999997,
          "yanchor": "bottom",
          "yref": "paper"
         },
         {
          "align": "left",
          "bgcolor": "black",
          "bordercolor": "white",
          "borderwidth": 1,
          "font": {
           "color": "white",
           "size": 12
          },
          "opacity": 0.9,
          "showarrow": false,
          "text": "<b>Explanation:</b><br>• Distance Traveled shows cumulative distance over cycles.<br>• Idle Time indicates duration the vehicle is stationary.<br>• Route Roughness reflects road conditions affecting vehicle wear.",
          "x": 0,
          "xref": "paper",
          "y": 1.15,
          "yref": "paper"
         }
        ],
        "height": 700,
        "showlegend": false,
        "template": {
         "data": {
          "bar": [
           {
            "error_x": {
             "color": "#f2f5fa"
            },
            "error_y": {
             "color": "#f2f5fa"
            },
            "marker": {
             "line": {
              "color": "rgb(17,17,17)",
              "width": 0.5
             },
             "pattern": {
              "fillmode": "overlay",
              "size": 10,
              "solidity": 0.2
             }
            },
            "type": "bar"
           }
          ],
          "barpolar": [
           {
            "marker": {
             "line": {
              "color": "rgb(17,17,17)",
              "width": 0.5
             },
             "pattern": {
              "fillmode": "overlay",
              "size": 10,
              "solidity": 0.2
             }
            },
            "type": "barpolar"
           }
          ],
          "carpet": [
           {
            "aaxis": {
             "endlinecolor": "#A2B1C6",
             "gridcolor": "#506784",
             "linecolor": "#506784",
             "minorgridcolor": "#506784",
             "startlinecolor": "#A2B1C6"
            },
            "baxis": {
             "endlinecolor": "#A2B1C6",
             "gridcolor": "#506784",
             "linecolor": "#506784",
             "minorgridcolor": "#506784",
             "startlinecolor": "#A2B1C6"
            },
            "type": "carpet"
           }
          ],
          "choropleth": [
           {
            "colorbar": {
             "outlinewidth": 0,
             "ticks": ""
            },
            "type": "choropleth"
           }
          ],
          "contour": [
           {
            "colorbar": {
             "outlinewidth": 0,
             "ticks": ""
            },
            "colorscale": [
             [
              0,
              "#0d0887"
             ],
             [
              0.1111111111111111,
              "#46039f"
             ],
             [
              0.2222222222222222,
              "#7201a8"
             ],
             [
              0.3333333333333333,
              "#9c179e"
             ],
             [
              0.4444444444444444,
              "#bd3786"
             ],
             [
              0.5555555555555556,
              "#d8576b"
             ],
             [
              0.6666666666666666,
              "#ed7953"
             ],
             [
              0.7777777777777778,
              "#fb9f3a"
             ],
             [
              0.8888888888888888,
              "#fdca26"
             ],
             [
              1,
              "#f0f921"
             ]
            ],
            "type": "contour"
           }
          ],
          "contourcarpet": [
           {
            "colorbar": {
             "outlinewidth": 0,
             "ticks": ""
            },
            "type": "contourcarpet"
           }
          ],
          "heatmap": [
           {
            "colorbar": {
             "outlinewidth": 0,
             "ticks": ""
            },
            "colorscale": [
             [
              0,
              "#0d0887"
             ],
             [
              0.1111111111111111,
              "#46039f"
             ],
             [
              0.2222222222222222,
              "#7201a8"
             ],
             [
              0.3333333333333333,
              "#9c179e"
             ],
             [
              0.4444444444444444,
              "#bd3786"
             ],
             [
              0.5555555555555556,
              "#d8576b"
             ],
             [
              0.6666666666666666,
              "#ed7953"
             ],
             [
              0.7777777777777778,
              "#fb9f3a"
             ],
             [
              0.8888888888888888,
              "#fdca26"
             ],
             [
              1,
              "#f0f921"
             ]
            ],
            "type": "heatmap"
           }
          ],
          "histogram": [
           {
            "marker": {
             "pattern": {
              "fillmode": "overlay",
              "size": 10,
              "solidity": 0.2
             }
            },
            "type": "histogram"
           }
          ],
          "histogram2d": [
           {
            "colorbar": {
             "outlinewidth": 0,
             "ticks": ""
            },
            "colorscale": [
             [
              0,
              "#0d0887"
             ],
             [
              0.1111111111111111,
              "#46039f"
             ],
             [
              0.2222222222222222,
              "#7201a8"
             ],
             [
              0.3333333333333333,
              "#9c179e"
             ],
             [
              0.4444444444444444,
              "#bd3786"
             ],
             [
              0.5555555555555556,
              "#d8576b"
             ],
             [
              0.6666666666666666,
              "#ed7953"
             ],
             [
              0.7777777777777778,
              "#fb9f3a"
             ],
             [
              0.8888888888888888,
              "#fdca26"
             ],
             [
              1,
              "#f0f921"
             ]
            ],
            "type": "histogram2d"
           }
          ],
          "histogram2dcontour": [
           {
            "colorbar": {
             "outlinewidth": 0,
             "ticks": ""
            },
            "colorscale": [
             [
              0,
              "#0d0887"
             ],
             [
              0.1111111111111111,
              "#46039f"
             ],
             [
              0.2222222222222222,
              "#7201a8"
             ],
             [
              0.3333333333333333,
              "#9c179e"
             ],
             [
              0.4444444444444444,
              "#bd3786"
             ],
             [
              0.5555555555555556,
              "#d8576b"
             ],
             [
              0.6666666666666666,
              "#ed7953"
             ],
             [
              0.7777777777777778,
              "#fb9f3a"
             ],
             [
              0.8888888888888888,
              "#fdca26"
             ],
             [
              1,
              "#f0f921"
             ]
            ],
            "type": "histogram2dcontour"
           }
          ],
          "mesh3d": [
           {
            "colorbar": {
             "outlinewidth": 0,
             "ticks": ""
            },
            "type": "mesh3d"
           }
          ],
          "parcoords": [
           {
            "line": {
             "colorbar": {
              "outlinewidth": 0,
              "ticks": ""
             }
            },
            "type": "parcoords"
           }
          ],
          "pie": [
           {
            "automargin": true,
            "type": "pie"
           }
          ],
          "scatter": [
           {
            "marker": {
             "line": {
              "color": "#283442"
             }
            },
            "type": "scatter"
           }
          ],
          "scatter3d": [
           {
            "line": {
             "colorbar": {
              "outlinewidth": 0,
              "ticks": ""
             }
            },
            "marker": {
             "colorbar": {
              "outlinewidth": 0,
              "ticks": ""
             }
            },
            "type": "scatter3d"
           }
          ],
          "scattercarpet": [
           {
            "marker": {
             "colorbar": {
              "outlinewidth": 0,
              "ticks": ""
             }
            },
            "type": "scattercarpet"
           }
          ],
          "scattergeo": [
           {
            "marker": {
             "colorbar": {
              "outlinewidth": 0,
              "ticks": ""
             }
            },
            "type": "scattergeo"
           }
          ],
          "scattergl": [
           {
            "marker": {
             "line": {
              "color": "#283442"
             }
            },
            "type": "scattergl"
           }
          ],
          "scattermap": [
           {
            "marker": {
             "colorbar": {
              "outlinewidth": 0,
              "ticks": ""
             }
            },
            "type": "scattermap"
           }
          ],
          "scattermapbox": [
           {
            "marker": {
             "colorbar": {
              "outlinewidth": 0,
              "ticks": ""
             }
            },
            "type": "scattermapbox"
           }
          ],
          "scatterpolar": [
           {
            "marker": {
             "colorbar": {
              "outlinewidth": 0,
              "ticks": ""
             }
            },
            "type": "scatterpolar"
           }
          ],
          "scatterpolargl": [
           {
            "marker": {
             "colorbar": {
              "outlinewidth": 0,
              "ticks": ""
             }
            },
            "type": "scatterpolargl"
           }
          ],
          "scatterternary": [
           {
            "marker": {
             "colorbar": {
              "outlinewidth": 0,
              "ticks": ""
             }
            },
            "type": "scatterternary"
           }
          ],
          "surface": [
           {
            "colorbar": {
             "outlinewidth": 0,
             "ticks": ""
            },
            "colorscale": [
             [
              0,
              "#0d0887"
             ],
             [
              0.1111111111111111,
              "#46039f"
             ],
             [
              0.2222222222222222,
              "#7201a8"
             ],
             [
              0.3333333333333333,
              "#9c179e"
             ],
             [
              0.4444444444444444,
              "#bd3786"
             ],
             [
              0.5555555555555556,
              "#d8576b"
             ],
             [
              0.6666666666666666,
              "#ed7953"
             ],
             [
              0.7777777777777778,
              "#fb9f3a"
             ],
             [
              0.8888888888888888,
              "#fdca26"
             ],
             [
              1,
              "#f0f921"
             ]
            ],
            "type": "surface"
           }
          ],
          "table": [
           {
            "cells": {
             "fill": {
              "color": "#506784"
             },
             "line": {
              "color": "rgb(17,17,17)"
             }
            },
            "header": {
             "fill": {
              "color": "#2a3f5f"
             },
             "line": {
              "color": "rgb(17,17,17)"
             }
            },
            "type": "table"
           }
          ]
         },
         "layout": {
          "annotationdefaults": {
           "arrowcolor": "#f2f5fa",
           "arrowhead": 0,
           "arrowwidth": 1
          },
          "autotypenumbers": "strict",
          "coloraxis": {
           "colorbar": {
            "outlinewidth": 0,
            "ticks": ""
           }
          },
          "colorscale": {
           "diverging": [
            [
             0,
             "#8e0152"
            ],
            [
             0.1,
             "#c51b7d"
            ],
            [
             0.2,
             "#de77ae"
            ],
            [
             0.3,
             "#f1b6da"
            ],
            [
             0.4,
             "#fde0ef"
            ],
            [
             0.5,
             "#f7f7f7"
            ],
            [
             0.6,
             "#e6f5d0"
            ],
            [
             0.7,
             "#b8e186"
            ],
            [
             0.8,
             "#7fbc41"
            ],
            [
             0.9,
             "#4d9221"
            ],
            [
             1,
             "#276419"
            ]
           ],
           "sequential": [
            [
             0,
             "#0d0887"
            ],
            [
             0.1111111111111111,
             "#46039f"
            ],
            [
             0.2222222222222222,
             "#7201a8"
            ],
            [
             0.3333333333333333,
             "#9c179e"
            ],
            [
             0.4444444444444444,
             "#bd3786"
            ],
            [
             0.5555555555555556,
             "#d8576b"
            ],
            [
             0.6666666666666666,
             "#ed7953"
            ],
            [
             0.7777777777777778,
             "#fb9f3a"
            ],
            [
             0.8888888888888888,
             "#fdca26"
            ],
            [
             1,
             "#f0f921"
            ]
           ],
           "sequentialminus": [
            [
             0,
             "#0d0887"
            ],
            [
             0.1111111111111111,
             "#46039f"
            ],
            [
             0.2222222222222222,
             "#7201a8"
            ],
            [
             0.3333333333333333,
             "#9c179e"
            ],
            [
             0.4444444444444444,
             "#bd3786"
            ],
            [
             0.5555555555555556,
             "#d8576b"
            ],
            [
             0.6666666666666666,
             "#ed7953"
            ],
            [
             0.7777777777777778,
             "#fb9f3a"
            ],
            [
             0.8888888888888888,
             "#fdca26"
            ],
            [
             1,
             "#f0f921"
            ]
           ]
          },
          "colorway": [
           "#636efa",
           "#EF553B",
           "#00cc96",
           "#ab63fa",
           "#FFA15A",
           "#19d3f3",
           "#FF6692",
           "#B6E880",
           "#FF97FF",
           "#FECB52"
          ],
          "font": {
           "color": "#f2f5fa"
          },
          "geo": {
           "bgcolor": "rgb(17,17,17)",
           "lakecolor": "rgb(17,17,17)",
           "landcolor": "rgb(17,17,17)",
           "showlakes": true,
           "showland": true,
           "subunitcolor": "#506784"
          },
          "hoverlabel": {
           "align": "left"
          },
          "hovermode": "closest",
          "mapbox": {
           "style": "dark"
          },
          "paper_bgcolor": "rgb(17,17,17)",
          "plot_bgcolor": "rgb(17,17,17)",
          "polar": {
           "angularaxis": {
            "gridcolor": "#506784",
            "linecolor": "#506784",
            "ticks": ""
           },
           "bgcolor": "rgb(17,17,17)",
           "radialaxis": {
            "gridcolor": "#506784",
            "linecolor": "#506784",
            "ticks": ""
           }
          },
          "scene": {
           "xaxis": {
            "backgroundcolor": "rgb(17,17,17)",
            "gridcolor": "#506784",
            "gridwidth": 2,
            "linecolor": "#506784",
            "showbackground": true,
            "ticks": "",
            "zerolinecolor": "#C8D4E3"
           },
           "yaxis": {
            "backgroundcolor": "rgb(17,17,17)",
            "gridcolor": "#506784",
            "gridwidth": 2,
            "linecolor": "#506784",
            "showbackground": true,
            "ticks": "",
            "zerolinecolor": "#C8D4E3"
           },
           "zaxis": {
            "backgroundcolor": "rgb(17,17,17)",
            "gridcolor": "#506784",
            "gridwidth": 2,
            "linecolor": "#506784",
            "showbackground": true,
            "ticks": "",
            "zerolinecolor": "#C8D4E3"
           }
          },
          "shapedefaults": {
           "line": {
            "color": "#f2f5fa"
           }
          },
          "sliderdefaults": {
           "bgcolor": "#C8D4E3",
           "bordercolor": "rgb(17,17,17)",
           "borderwidth": 1,
           "tickwidth": 0
          },
          "ternary": {
           "aaxis": {
            "gridcolor": "#506784",
            "linecolor": "#506784",
            "ticks": ""
           },
           "baxis": {
            "gridcolor": "#506784",
            "linecolor": "#506784",
            "ticks": ""
           },
           "bgcolor": "rgb(17,17,17)",
           "caxis": {
            "gridcolor": "#506784",
            "linecolor": "#506784",
            "ticks": ""
           }
          },
          "title": {
           "x": 0.05
          },
          "updatemenudefaults": {
           "bgcolor": "#506784",
           "borderwidth": 0
          },
          "xaxis": {
           "automargin": true,
           "gridcolor": "#283442",
           "linecolor": "#506784",
           "ticks": "",
           "title": {
            "standoff": 15
           },
           "zerolinecolor": "#283442",
           "zerolinewidth": 2
          },
          "yaxis": {
           "automargin": true,
           "gridcolor": "#283442",
           "linecolor": "#506784",
           "ticks": "",
           "title": {
            "standoff": 15
           },
           "zerolinecolor": "#283442",
           "zerolinewidth": 2
          }
         }
        },
        "title": {
         "text": "Telematics and Fleet Data Over Driving Cycles"
        },
        "width": 900,
        "xaxis": {
         "anchor": "y",
         "domain": [
          0,
          1
         ],
         "matches": "x3",
         "showticklabels": false
        },
        "xaxis2": {
         "anchor": "y2",
         "domain": [
          0,
          1
         ],
         "matches": "x3",
         "showticklabels": false
        },
        "xaxis3": {
         "anchor": "y3",
         "domain": [
          0,
          1
         ],
         "title": {
          "text": "Driving / Braking Cycles"
         }
        },
        "yaxis": {
         "anchor": "x",
         "domain": [
          0.72,
          1
         ]
        },
        "yaxis2": {
         "anchor": "x2",
         "domain": [
          0.36,
          0.6399999999999999
         ]
        },
        "yaxis3": {
         "anchor": "x3",
         "domain": [
          0,
          0.27999999999999997
         ]
        }
       }
      }
     },
     "metadata": {},
     "output_type": "display_data"
    }
   ],
   "source": [
    "import plotly.graph_objects as go\n",
    "from plotly.subplots import make_subplots\n",
    "import numpy as np\n",
    "\n",
    "# Sample data\n",
    "cycles = np.arange(1, 101)\n",
    "distance_traveled = np.cumsum(np.random.uniform(0.5, 2.5, 100))  # km, cumulative\n",
    "idle_time = np.random.uniform(0, 30, 100)                        # minutes\n",
    "route_roughness = np.random.uniform(0, 10, 100)                  # arbitrary units\n",
    "\n",
    "# Create subplots: 3 rows, 1 column\n",
    "fig = make_subplots(rows=3, cols=1, shared_xaxes=True,\n",
    "                    vertical_spacing=0.08,\n",
    "                    subplot_titles=(\"Distance Traveled (km)\", \n",
    "                                    \"Idle Time (minutes)\",\n",
    "                                    \"Route Roughness\"))\n",
    "\n",
    "# Add traces\n",
    "fig.add_trace(go.Scatter(x=cycles, y=distance_traveled, mode=\"lines\", name=\"Distance Traveled\", line=dict(color=\"gold\")), row=1, col=1)\n",
    "fig.add_trace(go.Scatter(x=cycles, y=idle_time, mode=\"lines\", name=\"Idle Time\", line=dict(color=\"orange\")), row=2, col=1)\n",
    "fig.add_trace(go.Scatter(x=cycles, y=route_roughness, mode=\"lines\", name=\"Route Roughness\", line=dict(color=\"lightgreen\")), row=3, col=1)\n",
    "\n",
    "# Layout settings\n",
    "fig.update_layout(\n",
    "    template=\"plotly_dark\",\n",
    "    height=700,\n",
    "    width=900,\n",
    "    title_text=\"Telematics and Fleet Data Over Driving Cycles\",\n",
    "    showlegend=False\n",
    ")\n",
    "\n",
    "# Add explanation block on top\n",
    "fig.add_annotation(\n",
    "    x=0, y=1.15, xref='paper', yref='paper',\n",
    "    text=(\n",
    "        \"<b>Explanation:</b><br>\"\n",
    "        \"• Distance Traveled shows cumulative distance over cycles.<br>\"\n",
    "        \"• Idle Time indicates duration the vehicle is stationary.<br>\"\n",
    "        \"• Route Roughness reflects road conditions affecting vehicle wear.\"\n",
    "    ),\n",
    "    showarrow=False,\n",
    "    font=dict(size=12, color=\"white\"),\n",
    "    align=\"left\",\n",
    "    bordercolor=\"white\",\n",
    "    borderwidth=1,\n",
    "    bgcolor=\"black\",\n",
    "    opacity=0.9\n",
    ")\n",
    "\n",
    "fig.update_xaxes(title_text=\"Driving / Braking Cycles\", row=3, col=1)\n",
    "fig.show()\n"
   ]
  },
  {
   "cell_type": "code",
   "execution_count": 177,
   "id": "15ed9177",
   "metadata": {},
   "outputs": [
    {
     "data": {
      "application/vnd.plotly.v1+json": {
       "config": {
        "plotlyServerURL": "https://plot.ly"
       },
       "data": [
        {
         "line": {
          "color": "gold",
          "width": 2
         },
         "mode": "lines",
         "name": "Distance Traveled (km)",
         "type": "scatter",
         "x": {
          "bdata": "AQIDBAUGBwgJCgsMDQ4PEBESExQVFhcYGRobHB0eHyAhIiMkJSYnKCkqKywtLi8wMTIzNDU2Nzg5Ojs8PT4/QEFCQ0RFRkdISUpLTE1OT1BRUlNUVVZXWFlaW1xdXl9gYWJjZA==",
          "dtype": "i1"
         },
         "y": {
          "bdata": "uFCDJrk/7D9+pc9ZuIj/P45AjIehUgxAm1YiinQVFUABMEHnWnEdQD67PQewmSJAX5mWDT5MJECiyqvTFkYoQBaeSWj2uylA7npjPL5nLkAX6L+oCBUxQJQGMl5VzjFAclfMTKn6M0CuwiIGA9Y1QAfR3c2AwjdAPqvvFBE8OUDCU/IArfE6QCLwX7beTDxAOhg7U2/vPUAOdYtq5wFAQA0FOS0LdUBAJo9H5kWVQUAyRgKCnCNCQAPhMm1jiUJANuDcO9VrQ0BT0n/zFDJEQLMT0uO2vERA9C60r4adRUAFCmVzZpRGQE+wR8cuGkdAS9ra8wp4R0C9+wdPrjpIQGRkKKQfw0hAeciYmGFWSUCObuZX1hRKQLsvDUwGEEtAWMvettpTS0A+pAIrRw5MQHyKyjfkbUxAbCFIW1GITUCZkOgV0gpOQOELy9o+sk5AKX08zGL+TkCF9vcEkWRPQBXdqlAGpU9AztVoy5ggUECk0qFpXahQQHjWTYUQElFAIv62kJKdUUC0vp77B9RRQPPsYxy7SlJArh8eXzPKUkCer7OXOxZTQM/pJObcRFNAekUgZt3DU0D2u/PxnCZUQHFX5Bm9glRA5CveheMNVUBsiiYS+2xVQCchptO8slVAkb4HcIkyVkDNm07KE3VWQB2Y9hxxuFZAV7tJ7yjzVkAUGwW7ZCBXQG5MesL+pldAsOe4za4gWEAGP+ruu3FYQOQkbjmI7lhAB4pxU5KJWUAMRSNcQOVZQL3+lX7AQ1pAMhzdwXinWkC02Llml+laQDYDkf9VKVtAIfqNY9mHW0CNFhtT8edbQITULoT4LFxAq4Edv4GXXEDOEqQJKxpdQPxDgSZvkl1AfDPOmUPFXUDUxot+fTdeQK2PPIHtV15AvQt6ZDGqXkDlX2FaNAVfQFFYaCgJi19AOx2KCdgNYEAL4B/9zktgQE7GvLhsjWBAHX8xSAzZYEB58zsaDwhhQCv62Qn2KWFAH4o/baZRYUAPkPH/FH1hQGgKx9pQoWFASGU06MDEYUBuoyVMpRNiQM+py5QnY2JArGSpUE2cYkA=",
          "dtype": "f8"
         }
        },
        {
         "line": {
          "color": "orange",
          "dash": "dash",
          "width": 2
         },
         "mode": "lines",
         "name": "Idle Time (minutes)",
         "type": "scatter",
         "x": {
          "bdata": "AQIDBAUGBwgJCgsMDQ4PEBESExQVFhcYGRobHB0eHyAhIiMkJSYnKCkqKywtLi8wMTIzNDU2Nzg5Ojs8PT4/QEFCQ0RFRkdISUpLTE1OT1BRUlNUVVZXWFlaW1xdXl9gYWJjZA==",
          "dtype": "i1"
         },
         "y": {
          "bdata": "ELL2djdLOEC2Jyh5ZKI1QLSDQDmedjRA9nCMTLuUEUBwpxALGGgQQFqvgwlAkzpAPL1pEJRk2z9XatUqlmQ0QA79wFvAJDhANGVWd5KJNUBFTOWmQFQRQLOIlBgSNzNARh/P+wajDUCHGxxCHrwrQDX8hCAdpTNAU/hVhuxPJkDVvVpj5QgvQNwNBWecaDxAtQQJwpWfIkCiUFLjTQAVQLK7dp8ZOjtAD9sC48b+LEAO75mQCcgtQFgo41dcmzxA4IvBl4YRIEAi4ofU8uQ3QH75Y2L/zTBADq/pH1azNEAkf00CFj0sQEpl41sSCCdAftCTb4dJEUDU/EBlAKA9QNg8l4jn0DVANA7wDd5NK0DTrA5nN5MtQAA+ToYzMX8/eMoFQVds7D9C94VJMDo4QPKTkAlVKfY/j8BeusAmN0DrJ13PomY1QAPboTI1YTRAwtHp5s1VMEAEURoC9tYkQIXE+bWNLT1AcrBo53ZSO0DkRI8zenUsQMWcLL/mDBVAr9A+PjkmHEB8CGm1OunaP3wngu0SKzpAo/kYgQnOJUDcCziSMSYtQEdCkm5Sli9AV8yZf0PLN0B1N1E4MnQyQNxAbFqfoABAF2szszGgJkBmfi/gSGArQJKzNnINjDVAU9MNcnKFN0CoVQuVL9PDP2Xsmky+9TFAsJyGxiSO7D8VdC67SxA5QAaAG1cCzhxAmRsfR+X8I0CUQa3Y9fMbQCsg+P5+CDpA3h8qjIMKIkAlrXLjfUM2QMGUNnSZYzJA12CtdLPhOUCmMvLkOLsXQHy0CQGGCC9AFtm3UZYCOUAL35iUZFEyQHCk7w57h9c/LtRcKn1tHkAxVnM7yoc0QF/QBRwBWTJAz19Oj/zkOkBW7raJ+sM7QNz9PG5sAjhAEoE712MJFkCw2O4j3FEmQE054xXJ8DxAoqRj3JAHLUBUsvBqOAokQCMTFO4j3DxA+2vTwE78NEASGHa8reQ0QJICVnrrvShANIGy+WlxBkDU3GLbPoE9QIaX9IEqWgRAVR5S+aP6M0DQgOjlToj4PxgAed4DgNs/mGiKROoU0z8=",
          "dtype": "f8"
         }
        },
        {
         "line": {
          "color": "lightgreen",
          "dash": "dot",
          "width": 2
         },
         "mode": "lines",
         "name": "Route Roughness",
         "type": "scatter",
         "x": {
          "bdata": "AQIDBAUGBwgJCgsMDQ4PEBESExQVFhcYGRobHB0eHyAhIiMkJSYnKCkqKywtLi8wMTIzNDU2Nzg5Ojs8PT4/QEFCQ0RFRkdISUpLTE1OT1BRUlNUVVZXWFlaW1xdXl9gYWJjZA==",
          "dtype": "i1"
         },
         "y": {
          "bdata": "IvGwvUPZIkDESSP8iXwSQFz9ucvIFBhAzMVZVX+c9j9I1jR0YoITQAR6TvGLwBRA06AvgkZs+D9ForR9MVISQFgYIAD5uiFAYiUQvwYCF0AbFXQspsD9P276Fdw+GyNA017S3mDbIUDzVjlVRooiQA9KLm2XPB9AW2a0q1J0FkAwjz/+3AcfQJ7iPKzLxhhAYAXBNtYnrT9gG7116pryPxk4sVj9hvE/WCkyGY8nFkDSf9uhU9QbQMwKlC18ySJA7cU4EkkGIkBn5q4V0+kXQCjKOjA62RZAdHnf1Vbc5T/0fWfUNNkeQE8spRDXRgVAlkFTVLtbIkAAiC45SrIBQLIiOmpX2htAGHMAEov38T8oMjxAW8ETQP5ll+1B1vc/iDHFpYzaIEASwcXHbo8YQGiQpnN4iyNAnYKlWV2Q9j+aZbTVPB8hQPJBuf9VXx1A5M4/hx76DkBQTVXoMurGP5RjRTBRcB1AmlJkXUdo7z8tulRCyi0gQEsmPzOU8B9AuGpC1xdCAUASO97Fc1EjQA5XX85Qtx9AdyY3UwAvGEB0CvLW5mUdQACHg1SIuxJA/JMldAe27T/K2NNxKnoZQHb6Hx8uphBA2cZkosCTI0AayR12OUXkP2211BeSrvk/SO+TWcoBIkD9MIvMzXoTQOaLXfzT5v4/haBb2WoDCUDkm6rZfWroPwJI8vc/WxlA8VnM+M9mIkBbmuvo084WQFMGXO3krRlAApIwK6JsB0D9RevmNVYcQCxhW/+qTSJAnPZlO5Kt3T+CtKZe6WEBQGp+4DKKuyJAxQoAd3YZIEAIdTNOeXvmP/iSe7FyogJAai4YMSw3DUBVqxmDE4sJQMLz1BbcZ+A/ptFJzI1Q+z9e6NSA75YGQPBke69agPg/GF3Tfo2MIEBZ2pr2BdEUQNYXZL09twFAcbGlu1n0IEAsq6UCOm0eQM4avuT15g5ASipvuv3SIEBUlQwveX8ZQPCjHnU58BhAjdAbhnyg8D9XikdQBFQQQPRbt+FD2uY/xZhIrFgJEEC2supb+wXjPxGHxtc83P4//FkCcVdBEkA=",
          "dtype": "f8"
         }
        }
       ],
       "layout": {
        "annotations": [
         {
          "align": "left",
          "bgcolor": "black",
          "bordercolor": "white",
          "borderwidth": 1,
          "font": {
           "color": "white",
           "size": 12
          },
          "opacity": 0.9,
          "showarrow": false,
          "text": "<b>Explanation:</b><br>• Distance Traveled shows cumulative distance covered.<br>• Idle Time indicates duration the vehicle is stationary.<br>• Route Roughness reflects road surface conditions affecting wear.",
          "x": 0,
          "xref": "paper",
          "y": 1.15,
          "yref": "paper"
         }
        ],
        "height": 500,
        "legend": {
         "title": {
          "text": "Metrics"
         }
        },
        "template": {
         "data": {
          "bar": [
           {
            "error_x": {
             "color": "#f2f5fa"
            },
            "error_y": {
             "color": "#f2f5fa"
            },
            "marker": {
             "line": {
              "color": "rgb(17,17,17)",
              "width": 0.5
             },
             "pattern": {
              "fillmode": "overlay",
              "size": 10,
              "solidity": 0.2
             }
            },
            "type": "bar"
           }
          ],
          "barpolar": [
           {
            "marker": {
             "line": {
              "color": "rgb(17,17,17)",
              "width": 0.5
             },
             "pattern": {
              "fillmode": "overlay",
              "size": 10,
              "solidity": 0.2
             }
            },
            "type": "barpolar"
           }
          ],
          "carpet": [
           {
            "aaxis": {
             "endlinecolor": "#A2B1C6",
             "gridcolor": "#506784",
             "linecolor": "#506784",
             "minorgridcolor": "#506784",
             "startlinecolor": "#A2B1C6"
            },
            "baxis": {
             "endlinecolor": "#A2B1C6",
             "gridcolor": "#506784",
             "linecolor": "#506784",
             "minorgridcolor": "#506784",
             "startlinecolor": "#A2B1C6"
            },
            "type": "carpet"
           }
          ],
          "choropleth": [
           {
            "colorbar": {
             "outlinewidth": 0,
             "ticks": ""
            },
            "type": "choropleth"
           }
          ],
          "contour": [
           {
            "colorbar": {
             "outlinewidth": 0,
             "ticks": ""
            },
            "colorscale": [
             [
              0,
              "#0d0887"
             ],
             [
              0.1111111111111111,
              "#46039f"
             ],
             [
              0.2222222222222222,
              "#7201a8"
             ],
             [
              0.3333333333333333,
              "#9c179e"
             ],
             [
              0.4444444444444444,
              "#bd3786"
             ],
             [
              0.5555555555555556,
              "#d8576b"
             ],
             [
              0.6666666666666666,
              "#ed7953"
             ],
             [
              0.7777777777777778,
              "#fb9f3a"
             ],
             [
              0.8888888888888888,
              "#fdca26"
             ],
             [
              1,
              "#f0f921"
             ]
            ],
            "type": "contour"
           }
          ],
          "contourcarpet": [
           {
            "colorbar": {
             "outlinewidth": 0,
             "ticks": ""
            },
            "type": "contourcarpet"
           }
          ],
          "heatmap": [
           {
            "colorbar": {
             "outlinewidth": 0,
             "ticks": ""
            },
            "colorscale": [
             [
              0,
              "#0d0887"
             ],
             [
              0.1111111111111111,
              "#46039f"
             ],
             [
              0.2222222222222222,
              "#7201a8"
             ],
             [
              0.3333333333333333,
              "#9c179e"
             ],
             [
              0.4444444444444444,
              "#bd3786"
             ],
             [
              0.5555555555555556,
              "#d8576b"
             ],
             [
              0.6666666666666666,
              "#ed7953"
             ],
             [
              0.7777777777777778,
              "#fb9f3a"
             ],
             [
              0.8888888888888888,
              "#fdca26"
             ],
             [
              1,
              "#f0f921"
             ]
            ],
            "type": "heatmap"
           }
          ],
          "histogram": [
           {
            "marker": {
             "pattern": {
              "fillmode": "overlay",
              "size": 10,
              "solidity": 0.2
             }
            },
            "type": "histogram"
           }
          ],
          "histogram2d": [
           {
            "colorbar": {
             "outlinewidth": 0,
             "ticks": ""
            },
            "colorscale": [
             [
              0,
              "#0d0887"
             ],
             [
              0.1111111111111111,
              "#46039f"
             ],
             [
              0.2222222222222222,
              "#7201a8"
             ],
             [
              0.3333333333333333,
              "#9c179e"
             ],
             [
              0.4444444444444444,
              "#bd3786"
             ],
             [
              0.5555555555555556,
              "#d8576b"
             ],
             [
              0.6666666666666666,
              "#ed7953"
             ],
             [
              0.7777777777777778,
              "#fb9f3a"
             ],
             [
              0.8888888888888888,
              "#fdca26"
             ],
             [
              1,
              "#f0f921"
             ]
            ],
            "type": "histogram2d"
           }
          ],
          "histogram2dcontour": [
           {
            "colorbar": {
             "outlinewidth": 0,
             "ticks": ""
            },
            "colorscale": [
             [
              0,
              "#0d0887"
             ],
             [
              0.1111111111111111,
              "#46039f"
             ],
             [
              0.2222222222222222,
              "#7201a8"
             ],
             [
              0.3333333333333333,
              "#9c179e"
             ],
             [
              0.4444444444444444,
              "#bd3786"
             ],
             [
              0.5555555555555556,
              "#d8576b"
             ],
             [
              0.6666666666666666,
              "#ed7953"
             ],
             [
              0.7777777777777778,
              "#fb9f3a"
             ],
             [
              0.8888888888888888,
              "#fdca26"
             ],
             [
              1,
              "#f0f921"
             ]
            ],
            "type": "histogram2dcontour"
           }
          ],
          "mesh3d": [
           {
            "colorbar": {
             "outlinewidth": 0,
             "ticks": ""
            },
            "type": "mesh3d"
           }
          ],
          "parcoords": [
           {
            "line": {
             "colorbar": {
              "outlinewidth": 0,
              "ticks": ""
             }
            },
            "type": "parcoords"
           }
          ],
          "pie": [
           {
            "automargin": true,
            "type": "pie"
           }
          ],
          "scatter": [
           {
            "marker": {
             "line": {
              "color": "#283442"
             }
            },
            "type": "scatter"
           }
          ],
          "scatter3d": [
           {
            "line": {
             "colorbar": {
              "outlinewidth": 0,
              "ticks": ""
             }
            },
            "marker": {
             "colorbar": {
              "outlinewidth": 0,
              "ticks": ""
             }
            },
            "type": "scatter3d"
           }
          ],
          "scattercarpet": [
           {
            "marker": {
             "colorbar": {
              "outlinewidth": 0,
              "ticks": ""
             }
            },
            "type": "scattercarpet"
           }
          ],
          "scattergeo": [
           {
            "marker": {
             "colorbar": {
              "outlinewidth": 0,
              "ticks": ""
             }
            },
            "type": "scattergeo"
           }
          ],
          "scattergl": [
           {
            "marker": {
             "line": {
              "color": "#283442"
             }
            },
            "type": "scattergl"
           }
          ],
          "scattermap": [
           {
            "marker": {
             "colorbar": {
              "outlinewidth": 0,
              "ticks": ""
             }
            },
            "type": "scattermap"
           }
          ],
          "scattermapbox": [
           {
            "marker": {
             "colorbar": {
              "outlinewidth": 0,
              "ticks": ""
             }
            },
            "type": "scattermapbox"
           }
          ],
          "scatterpolar": [
           {
            "marker": {
             "colorbar": {
              "outlinewidth": 0,
              "ticks": ""
             }
            },
            "type": "scatterpolar"
           }
          ],
          "scatterpolargl": [
           {
            "marker": {
             "colorbar": {
              "outlinewidth": 0,
              "ticks": ""
             }
            },
            "type": "scatterpolargl"
           }
          ],
          "scatterternary": [
           {
            "marker": {
             "colorbar": {
              "outlinewidth": 0,
              "ticks": ""
             }
            },
            "type": "scatterternary"
           }
          ],
          "surface": [
           {
            "colorbar": {
             "outlinewidth": 0,
             "ticks": ""
            },
            "colorscale": [
             [
              0,
              "#0d0887"
             ],
             [
              0.1111111111111111,
              "#46039f"
             ],
             [
              0.2222222222222222,
              "#7201a8"
             ],
             [
              0.3333333333333333,
              "#9c179e"
             ],
             [
              0.4444444444444444,
              "#bd3786"
             ],
             [
              0.5555555555555556,
              "#d8576b"
             ],
             [
              0.6666666666666666,
              "#ed7953"
             ],
             [
              0.7777777777777778,
              "#fb9f3a"
             ],
             [
              0.8888888888888888,
              "#fdca26"
             ],
             [
              1,
              "#f0f921"
             ]
            ],
            "type": "surface"
           }
          ],
          "table": [
           {
            "cells": {
             "fill": {
              "color": "#506784"
             },
             "line": {
              "color": "rgb(17,17,17)"
             }
            },
            "header": {
             "fill": {
              "color": "#2a3f5f"
             },
             "line": {
              "color": "rgb(17,17,17)"
             }
            },
            "type": "table"
           }
          ]
         },
         "layout": {
          "annotationdefaults": {
           "arrowcolor": "#f2f5fa",
           "arrowhead": 0,
           "arrowwidth": 1
          },
          "autotypenumbers": "strict",
          "coloraxis": {
           "colorbar": {
            "outlinewidth": 0,
            "ticks": ""
           }
          },
          "colorscale": {
           "diverging": [
            [
             0,
             "#8e0152"
            ],
            [
             0.1,
             "#c51b7d"
            ],
            [
             0.2,
             "#de77ae"
            ],
            [
             0.3,
             "#f1b6da"
            ],
            [
             0.4,
             "#fde0ef"
            ],
            [
             0.5,
             "#f7f7f7"
            ],
            [
             0.6,
             "#e6f5d0"
            ],
            [
             0.7,
             "#b8e186"
            ],
            [
             0.8,
             "#7fbc41"
            ],
            [
             0.9,
             "#4d9221"
            ],
            [
             1,
             "#276419"
            ]
           ],
           "sequential": [
            [
             0,
             "#0d0887"
            ],
            [
             0.1111111111111111,
             "#46039f"
            ],
            [
             0.2222222222222222,
             "#7201a8"
            ],
            [
             0.3333333333333333,
             "#9c179e"
            ],
            [
             0.4444444444444444,
             "#bd3786"
            ],
            [
             0.5555555555555556,
             "#d8576b"
            ],
            [
             0.6666666666666666,
             "#ed7953"
            ],
            [
             0.7777777777777778,
             "#fb9f3a"
            ],
            [
             0.8888888888888888,
             "#fdca26"
            ],
            [
             1,
             "#f0f921"
            ]
           ],
           "sequentialminus": [
            [
             0,
             "#0d0887"
            ],
            [
             0.1111111111111111,
             "#46039f"
            ],
            [
             0.2222222222222222,
             "#7201a8"
            ],
            [
             0.3333333333333333,
             "#9c179e"
            ],
            [
             0.4444444444444444,
             "#bd3786"
            ],
            [
             0.5555555555555556,
             "#d8576b"
            ],
            [
             0.6666666666666666,
             "#ed7953"
            ],
            [
             0.7777777777777778,
             "#fb9f3a"
            ],
            [
             0.8888888888888888,
             "#fdca26"
            ],
            [
             1,
             "#f0f921"
            ]
           ]
          },
          "colorway": [
           "#636efa",
           "#EF553B",
           "#00cc96",
           "#ab63fa",
           "#FFA15A",
           "#19d3f3",
           "#FF6692",
           "#B6E880",
           "#FF97FF",
           "#FECB52"
          ],
          "font": {
           "color": "#f2f5fa"
          },
          "geo": {
           "bgcolor": "rgb(17,17,17)",
           "lakecolor": "rgb(17,17,17)",
           "landcolor": "rgb(17,17,17)",
           "showlakes": true,
           "showland": true,
           "subunitcolor": "#506784"
          },
          "hoverlabel": {
           "align": "left"
          },
          "hovermode": "closest",
          "mapbox": {
           "style": "dark"
          },
          "paper_bgcolor": "rgb(17,17,17)",
          "plot_bgcolor": "rgb(17,17,17)",
          "polar": {
           "angularaxis": {
            "gridcolor": "#506784",
            "linecolor": "#506784",
            "ticks": ""
           },
           "bgcolor": "rgb(17,17,17)",
           "radialaxis": {
            "gridcolor": "#506784",
            "linecolor": "#506784",
            "ticks": ""
           }
          },
          "scene": {
           "xaxis": {
            "backgroundcolor": "rgb(17,17,17)",
            "gridcolor": "#506784",
            "gridwidth": 2,
            "linecolor": "#506784",
            "showbackground": true,
            "ticks": "",
            "zerolinecolor": "#C8D4E3"
           },
           "yaxis": {
            "backgroundcolor": "rgb(17,17,17)",
            "gridcolor": "#506784",
            "gridwidth": 2,
            "linecolor": "#506784",
            "showbackground": true,
            "ticks": "",
            "zerolinecolor": "#C8D4E3"
           },
           "zaxis": {
            "backgroundcolor": "rgb(17,17,17)",
            "gridcolor": "#506784",
            "gridwidth": 2,
            "linecolor": "#506784",
            "showbackground": true,
            "ticks": "",
            "zerolinecolor": "#C8D4E3"
           }
          },
          "shapedefaults": {
           "line": {
            "color": "#f2f5fa"
           }
          },
          "sliderdefaults": {
           "bgcolor": "#C8D4E3",
           "bordercolor": "rgb(17,17,17)",
           "borderwidth": 1,
           "tickwidth": 0
          },
          "ternary": {
           "aaxis": {
            "gridcolor": "#506784",
            "linecolor": "#506784",
            "ticks": ""
           },
           "baxis": {
            "gridcolor": "#506784",
            "linecolor": "#506784",
            "ticks": ""
           },
           "bgcolor": "rgb(17,17,17)",
           "caxis": {
            "gridcolor": "#506784",
            "linecolor": "#506784",
            "ticks": ""
           }
          },
          "title": {
           "x": 0.05
          },
          "updatemenudefaults": {
           "bgcolor": "#506784",
           "borderwidth": 0
          },
          "xaxis": {
           "automargin": true,
           "gridcolor": "#283442",
           "linecolor": "#506784",
           "ticks": "",
           "title": {
            "standoff": 15
           },
           "zerolinecolor": "#283442",
           "zerolinewidth": 2
          },
          "yaxis": {
           "automargin": true,
           "gridcolor": "#283442",
           "linecolor": "#506784",
           "ticks": "",
           "title": {
            "standoff": 15
           },
           "zerolinecolor": "#283442",
           "zerolinewidth": 2
          }
         }
        },
        "title": {
         "text": "Telematics and Fleet Data Over Driving Cycles"
        },
        "width": 900,
        "xaxis": {
         "title": {
          "text": "Driving / Braking Cycles"
         }
        },
        "yaxis": {
         "title": {
          "text": "Metric Values"
         }
        }
       }
      }
     },
     "metadata": {},
     "output_type": "display_data"
    }
   ],
   "source": [
    "import plotly.graph_objects as go\n",
    "import numpy as np\n",
    "\n",
    "# Sample data\n",
    "cycles = np.arange(1, 101)\n",
    "distance_traveled = np.cumsum(np.random.uniform(0.5, 2.5, 100))  # km, cumulative\n",
    "idle_time = np.random.uniform(0, 30, 100)                        # minutes\n",
    "route_roughness = np.random.uniform(0, 10, 100)                  # arbitrary units\n",
    "\n",
    "# Create figure\n",
    "fig = go.Figure()\n",
    "\n",
    "# Add traces for all metrics in the same graph\n",
    "fig.add_trace(go.Scatter(x=cycles, y=distance_traveled, mode=\"lines\", name=\"Distance Traveled (km)\", line=dict(color=\"gold\", width=2)))\n",
    "fig.add_trace(go.Scatter(x=cycles, y=idle_time, mode=\"lines\", name=\"Idle Time (minutes)\", line=dict(color=\"orange\", width=2, dash=\"dash\")))\n",
    "fig.add_trace(go.Scatter(x=cycles, y=route_roughness, mode=\"lines\", name=\"Route Roughness\", line=dict(color=\"lightgreen\", width=2, dash=\"dot\")))\n",
    "\n",
    "# Layout\n",
    "fig.update_layout(\n",
    "    title=\"Telematics and Fleet Data Over Driving Cycles\",\n",
    "    template=\"plotly_dark\",\n",
    "    xaxis_title=\"Driving / Braking Cycles\",\n",
    "    yaxis_title=\"Metric Values\",\n",
    "    width=900,\n",
    "    height=500,\n",
    "    legend_title=\"Metrics\",\n",
    "    annotations=[dict(\n",
    "        x=0, y=1.15, xref=\"paper\", yref=\"paper\",\n",
    "        text=(\n",
    "            \"<b>Explanation:</b><br>\"\n",
    "            \"• Distance Traveled shows cumulative distance covered.<br>\"\n",
    "            \"• Idle Time indicates duration the vehicle is stationary.<br>\"\n",
    "            \"• Route Roughness reflects road surface conditions affecting wear.\"\n",
    "        ),\n",
    "        showarrow=False,\n",
    "        font=dict(size=12, color=\"white\"),\n",
    "        align=\"left\",\n",
    "        bordercolor=\"white\",\n",
    "        borderwidth=1,\n",
    "        bgcolor=\"black\",\n",
    "        opacity=0.9\n",
    "    )]\n",
    ")\n",
    "\n",
    "fig.show()\n",
    "\n"
   ]
  },
  {
   "cell_type": "code",
   "execution_count": 184,
   "id": "c46c4c16",
   "metadata": {},
   "outputs": [
    {
     "data": {
      "application/vnd.plotly.v1+json": {
       "config": {
        "plotlyServerURL": "https://plot.ly"
       },
       "data": [
        {
         "line": {
          "color": "gold",
          "width": 2
         },
         "mode": "lines",
         "name": "RUL (%)",
         "type": "scatter",
         "x": {
          "bdata": "AQIDBAUGBwgJCgsMDQ4PEBESExQVFhcYGRobHB0eHyAhIiMkJSYnKCkqKywtLi8wMTIzNDU2Nzg5Ojs8PT4/QEFCQ0RFRkdISUpLTE1OT1BRUlNUVVZXWFlaW1xdXl9gYWJjZA==",
          "dtype": "i1"
         },
         "y": {
          "bdata": "wO3FQFmiV0ACca5ALZ1RQK4Uj1mHxUlAu5pxNVQnWECJA6kObChQQD6T1X9Km1VARuSakrPHUEAwUnT7KgVXQLy1XFmZplRAlDbESKcpUEDc6iQ732lMQNqnGaiGFU1A3iRRi6A4VkBUf4KwUYhLQHZNhG7/pExAxVNhSyPkU0AopguxoilMQLUgWIbPVUpAhiaxbsnZTUBjjV9fLCVQQLwJ09FvhFFAhp7Pi2EuVUDfHH+VoPlVQCCyEgbuVlRAM1VoJqUCU0DIokSHFZ1KQAplVfjDMVJANnTM7JOnS0B+lU7uUuVWQCjGZQ4xKFBA1j/288KLUUBo2oWSOHVKQD+odVfyxlFA1YL9KZOPVEDzgbJsGbZSQEqAmkhzylZAYpiejR14UUCwACsHuV1YQM/NPlJy2VZApGVMwNBWVkA+9c6J5tVMQNwSf/jrAk9ADNy1IO7eUECS45mbZINNQMIWbcFK3kpAWVHF9GilSUDFIZv0HqhRQKAAbRsn8klABtIYwXNfTUBElta37ANYQOpEuz1Yu1JAN7RTRWqVS0AIC/sD35RXQAdYXqZWpE1AYxyIagywUkBE2ZjXLQlXQDjfJuGf2VhAvDnkfYopTEBVh2x6zzpVQA2moDY57UpAPDd4jC3CU0CdYbgLgSNWQMEQJWAPuFBABLWHbdMVVEBwmFICV4tQQKgroMQHYlBAEA0SANqnUECK9adZgptUQCDYaBNaOVRADbrN0PvoV0C0BPYKEb5WQAIFUfeewlNAlqOrQnIzVEB8oK+dKGhTQKLX7Y+K+FRA1MlDQFXOUUAu2ab5/49YQEcmrT0NT0lANKZTCZzUTEBUf8WhQ6tNQJeej0xhsExAWv/bLDDkU0BwT04LBHdJQPiGtTKnjEtABVRDI2g2TEDw2GYOcpNWQAL20RFOCFdA+xo7/uTCVEArEfhrm2dRQLaCTelLxlVAqO4Sq0AhV0CawGaYgiZRQOYc/mxU7VRA2BVrjawrVUA7cAPOdD9RQAf5Rz3J40lAKX2KaEKIUkDTOKGzpEhRQKMgW2Hm4VdAdtXirAzWSkA=",
          "dtype": "f8"
         }
        },
        {
         "line": {
          "color": "orange",
          "dash": "dash",
          "width": 2
         },
         "mode": "lines",
         "name": "TTF (%)",
         "type": "scatter",
         "x": {
          "bdata": "AQIDBAUGBwgJCgsMDQ4PEBESExQVFhcYGRobHB0eHyAhIiMkJSYnKCkqKywtLi8wMTIzNDU2Nzg5Ojs8PT4/QEFCQ0RFRkdISUpLTE1OT1BRUlNUVVZXWFlaW1xdXl9gYWJjZA==",
          "dtype": "i1"
         },
         "y": {
          "bdata": "WMaC2AxHVkCM4wmmZNlRQNC5Ua1cMVVAdGsdVD1pRUCJyUnBHmZRQPLDRRIIv0RA5ya2y4TjUkAudR/2Eb0/QKylpbmnmktAquRoJ5sKSEDc0D3AXRpTQEeHwuMGRFVAgU+eRdNhP0B8IszwzxdUQEJQy7Sfn0NAHmChqndkUUDuelR2eFZRQNMAjlZ6n1FAYQaEIpPkUUCIfnkmlVNVQMFGU1D8W0hACCyEwPocTEBuDlcx0qxQQLBHYdmM8E1Aa+YHBZMOTEAYiHlVMOtUQNOhJ5VmjFNA8uPV/P1GTkDuJodIk3xIQDKNT8Wlh1JAoAv1D+I2VEAioPUyLz1IQG7P1QPyXlVAmi3vzzm0S0ABJLLVW6JIQFnfP6pftVBAt8bYRng7Q0BbPm30KStVQF27zUu4XlNA0AQhiSmhQkDQ8ONL5UBVQJZYvp0PplRAHcAvlSPuUEBog8Dq/YNVQMR2qGBMGlNAFp5E1ufXUUAgVx88FrVUQGzQqGoa30dAjpvdAtzfR0Bl5E5L4XBBQOYmHH60CFNA0V16ZsfIVEDmFzPgZ+pRQAXUY4EGdVRArQzYYqmHVEAAFlYTvaZMQCHTEJtGRVJA8eTby/xOSkAYDM9824RHQAIm1T+b7lVAJlT47hapS0BqZa+aTGJUQK4JwLmIilBATrmL/f5sSUD0Qny5SFhKQGYMLUNMHFRAJZklapX7REA4Yq1gDblMQPOKtx3K8kBAJixxziy9RkCIbTeOmhdDQJC2JMgdSElA7nf/UQg8UkDhlnA6Z05KQI6XTVrexExApS4ltyw1TUCEksoBT5BQQLSMceW63UNAW3iit3R7QUAC9/3hI7RVQNGK6/jypUdAAVFrUrLsUkDRp1R9cgRPQPlibeZXxFFA7mEq12NhQECBPtnA/7ZRQNtomVppKFRA/JASm5byUkBvWzCwdmlPQDXToNbCHEBAWlkEMG7NTUAvjUevyiFHQB5nFO6M2k9AqIjtoAouUECkSPFGnt9KQGm5cUcfzFJAL99CxFl3SUDvV3sQfONFQOo+Ojzz51BAAdN96MHTQUA=",
          "dtype": "f8"
         }
        },
        {
         "line": {
          "color": "lightgreen",
          "width": 2
         },
         "mode": "lines",
         "name": "Health Score (%)",
         "type": "scatter",
         "x": {
          "bdata": "AQIDBAUGBwgJCgsMDQ4PEBESExQVFhcYGRobHB0eHyAhIiMkJSYnKCkqKywtLi8wMTIzNDU2Nzg5Ojs8PT4/QEFCQ0RFRkdISUpLTE1OT1BRUlNUVVZXWFlaW1xdXl9gYWJjZA==",
          "dtype": "i1"
         },
         "y": {
          "bdata": "1AFl4PseUkDzUNL4pQFTQBKHfGxFg09Aa3pv387VT0A/AOkFxnJUQGWaWYhxH1ZAwgmbNK0AWEAax8h3yuNXQC9OTAiU6lJAVNBv2iotVUCdIwwLih9QQM0UsIBkx09AHLSM4D2cUUAeukxjAq1VQMEeoEr1LlBAA6tZyX5FUkBAkJaDmfVYQM5ai4Gce1FA3rs981eWVkBseVWaoTBPQBRHQo96IFZAHclyA1cvU0DTvICaWZNVQN2FNzlWaU5ADnV9FYKkVkAWBBMctqRQQFxMheEXglFAfLpTcSMlVkBcS2FwmRNVQFO7zm49i1FAyjEim+hvV0AcS77oiiFPQDaUWunFE1FA4FmqqYzKUEAMyvcqc95OQGAL42x+/FRA4lgL0wTEWEDqcHThg+xXQORu0LtWnFVAYqrvaedpUUCsfIL9g5JWQCaeN93hRVhA3NavC1u8VUCKiPrtx41WQEssl/+f7VZAyrgpQFVNVUCCdJ40wbhTQA7CdgKEO1RAq/UxKWRIWEBs/886aMhYQBHv8Bkra1dAuX2j5wCSUkAeN85ptXZUQJQ01E9qYk9AX1ClTrBgUUAydlNGepFXQMDGejXl/E5AKLlX9NUjVUCt9X0S1MhUQF7BSOxqf05AvfTCV7FcUEDSa9WBEudUQCzEbC25X1RAWWxC64SbTkA4hgLZEilUQPzhAjJWb05AE972AiDpUUAkbOoewHNRQBy6geV3gU9AsrOJC7C8VUA8asDoJkpTQEZPyvs4eVFANagRjy6wUUClzGpNrxpYQPmnFFpzgFRAoTIgmnqJUUCKUAh+ICFUQJQaNhiDyVJAnCV5dRb0V0CLjNDYmkVRQGAD8q65plBAqJPJb035V0AQWExm+RZRQPPT1LqXC05AylzBquT8U0BiN9Hu2v1XQAgvMxELyVBASAB0emBXV0CJ4tl6IolYQOx6nUMemldAGMAtHFLJVkBAoEWd/+hRQL4asavXa1JAOejKGB+SUEBMVUpNtyBUQA5fxn+8RldA5gp0z1v3U0AZhfbayztXQBQDa7XDzFNA+8R6zxh8UkA=",
          "dtype": "f8"
         }
        }
       ],
       "layout": {
        "annotations": [
         {
          "align": "left",
          "bgcolor": "black",
          "bordercolor": "white",
          "borderwidth": 1,
          "font": {
           "color": "white",
           "size": 12
          },
          "opacity": 0.9,
          "showarrow": false,
          "text": "<b>Explanation:</b><br>• RUL shows the predicted Remaining Useful Life of components.<br>• TTF estimates time until failure.<br>• Health Score combines metrics to assess overall component condition.",
          "x": 0,
          "xref": "paper",
          "y": 1.15,
          "yref": "paper"
         }
        ],
        "height": 500,
        "legend": {
         "title": {
          "text": "Metrics"
         }
        },
        "template": {
         "data": {
          "bar": [
           {
            "error_x": {
             "color": "#f2f5fa"
            },
            "error_y": {
             "color": "#f2f5fa"
            },
            "marker": {
             "line": {
              "color": "rgb(17,17,17)",
              "width": 0.5
             },
             "pattern": {
              "fillmode": "overlay",
              "size": 10,
              "solidity": 0.2
             }
            },
            "type": "bar"
           }
          ],
          "barpolar": [
           {
            "marker": {
             "line": {
              "color": "rgb(17,17,17)",
              "width": 0.5
             },
             "pattern": {
              "fillmode": "overlay",
              "size": 10,
              "solidity": 0.2
             }
            },
            "type": "barpolar"
           }
          ],
          "carpet": [
           {
            "aaxis": {
             "endlinecolor": "#A2B1C6",
             "gridcolor": "#506784",
             "linecolor": "#506784",
             "minorgridcolor": "#506784",
             "startlinecolor": "#A2B1C6"
            },
            "baxis": {
             "endlinecolor": "#A2B1C6",
             "gridcolor": "#506784",
             "linecolor": "#506784",
             "minorgridcolor": "#506784",
             "startlinecolor": "#A2B1C6"
            },
            "type": "carpet"
           }
          ],
          "choropleth": [
           {
            "colorbar": {
             "outlinewidth": 0,
             "ticks": ""
            },
            "type": "choropleth"
           }
          ],
          "contour": [
           {
            "colorbar": {
             "outlinewidth": 0,
             "ticks": ""
            },
            "colorscale": [
             [
              0,
              "#0d0887"
             ],
             [
              0.1111111111111111,
              "#46039f"
             ],
             [
              0.2222222222222222,
              "#7201a8"
             ],
             [
              0.3333333333333333,
              "#9c179e"
             ],
             [
              0.4444444444444444,
              "#bd3786"
             ],
             [
              0.5555555555555556,
              "#d8576b"
             ],
             [
              0.6666666666666666,
              "#ed7953"
             ],
             [
              0.7777777777777778,
              "#fb9f3a"
             ],
             [
              0.8888888888888888,
              "#fdca26"
             ],
             [
              1,
              "#f0f921"
             ]
            ],
            "type": "contour"
           }
          ],
          "contourcarpet": [
           {
            "colorbar": {
             "outlinewidth": 0,
             "ticks": ""
            },
            "type": "contourcarpet"
           }
          ],
          "heatmap": [
           {
            "colorbar": {
             "outlinewidth": 0,
             "ticks": ""
            },
            "colorscale": [
             [
              0,
              "#0d0887"
             ],
             [
              0.1111111111111111,
              "#46039f"
             ],
             [
              0.2222222222222222,
              "#7201a8"
             ],
             [
              0.3333333333333333,
              "#9c179e"
             ],
             [
              0.4444444444444444,
              "#bd3786"
             ],
             [
              0.5555555555555556,
              "#d8576b"
             ],
             [
              0.6666666666666666,
              "#ed7953"
             ],
             [
              0.7777777777777778,
              "#fb9f3a"
             ],
             [
              0.8888888888888888,
              "#fdca26"
             ],
             [
              1,
              "#f0f921"
             ]
            ],
            "type": "heatmap"
           }
          ],
          "histogram": [
           {
            "marker": {
             "pattern": {
              "fillmode": "overlay",
              "size": 10,
              "solidity": 0.2
             }
            },
            "type": "histogram"
           }
          ],
          "histogram2d": [
           {
            "colorbar": {
             "outlinewidth": 0,
             "ticks": ""
            },
            "colorscale": [
             [
              0,
              "#0d0887"
             ],
             [
              0.1111111111111111,
              "#46039f"
             ],
             [
              0.2222222222222222,
              "#7201a8"
             ],
             [
              0.3333333333333333,
              "#9c179e"
             ],
             [
              0.4444444444444444,
              "#bd3786"
             ],
             [
              0.5555555555555556,
              "#d8576b"
             ],
             [
              0.6666666666666666,
              "#ed7953"
             ],
             [
              0.7777777777777778,
              "#fb9f3a"
             ],
             [
              0.8888888888888888,
              "#fdca26"
             ],
             [
              1,
              "#f0f921"
             ]
            ],
            "type": "histogram2d"
           }
          ],
          "histogram2dcontour": [
           {
            "colorbar": {
             "outlinewidth": 0,
             "ticks": ""
            },
            "colorscale": [
             [
              0,
              "#0d0887"
             ],
             [
              0.1111111111111111,
              "#46039f"
             ],
             [
              0.2222222222222222,
              "#7201a8"
             ],
             [
              0.3333333333333333,
              "#9c179e"
             ],
             [
              0.4444444444444444,
              "#bd3786"
             ],
             [
              0.5555555555555556,
              "#d8576b"
             ],
             [
              0.6666666666666666,
              "#ed7953"
             ],
             [
              0.7777777777777778,
              "#fb9f3a"
             ],
             [
              0.8888888888888888,
              "#fdca26"
             ],
             [
              1,
              "#f0f921"
             ]
            ],
            "type": "histogram2dcontour"
           }
          ],
          "mesh3d": [
           {
            "colorbar": {
             "outlinewidth": 0,
             "ticks": ""
            },
            "type": "mesh3d"
           }
          ],
          "parcoords": [
           {
            "line": {
             "colorbar": {
              "outlinewidth": 0,
              "ticks": ""
             }
            },
            "type": "parcoords"
           }
          ],
          "pie": [
           {
            "automargin": true,
            "type": "pie"
           }
          ],
          "scatter": [
           {
            "marker": {
             "line": {
              "color": "#283442"
             }
            },
            "type": "scatter"
           }
          ],
          "scatter3d": [
           {
            "line": {
             "colorbar": {
              "outlinewidth": 0,
              "ticks": ""
             }
            },
            "marker": {
             "colorbar": {
              "outlinewidth": 0,
              "ticks": ""
             }
            },
            "type": "scatter3d"
           }
          ],
          "scattercarpet": [
           {
            "marker": {
             "colorbar": {
              "outlinewidth": 0,
              "ticks": ""
             }
            },
            "type": "scattercarpet"
           }
          ],
          "scattergeo": [
           {
            "marker": {
             "colorbar": {
              "outlinewidth": 0,
              "ticks": ""
             }
            },
            "type": "scattergeo"
           }
          ],
          "scattergl": [
           {
            "marker": {
             "line": {
              "color": "#283442"
             }
            },
            "type": "scattergl"
           }
          ],
          "scattermap": [
           {
            "marker": {
             "colorbar": {
              "outlinewidth": 0,
              "ticks": ""
             }
            },
            "type": "scattermap"
           }
          ],
          "scattermapbox": [
           {
            "marker": {
             "colorbar": {
              "outlinewidth": 0,
              "ticks": ""
             }
            },
            "type": "scattermapbox"
           }
          ],
          "scatterpolar": [
           {
            "marker": {
             "colorbar": {
              "outlinewidth": 0,
              "ticks": ""
             }
            },
            "type": "scatterpolar"
           }
          ],
          "scatterpolargl": [
           {
            "marker": {
             "colorbar": {
              "outlinewidth": 0,
              "ticks": ""
             }
            },
            "type": "scatterpolargl"
           }
          ],
          "scatterternary": [
           {
            "marker": {
             "colorbar": {
              "outlinewidth": 0,
              "ticks": ""
             }
            },
            "type": "scatterternary"
           }
          ],
          "surface": [
           {
            "colorbar": {
             "outlinewidth": 0,
             "ticks": ""
            },
            "colorscale": [
             [
              0,
              "#0d0887"
             ],
             [
              0.1111111111111111,
              "#46039f"
             ],
             [
              0.2222222222222222,
              "#7201a8"
             ],
             [
              0.3333333333333333,
              "#9c179e"
             ],
             [
              0.4444444444444444,
              "#bd3786"
             ],
             [
              0.5555555555555556,
              "#d8576b"
             ],
             [
              0.6666666666666666,
              "#ed7953"
             ],
             [
              0.7777777777777778,
              "#fb9f3a"
             ],
             [
              0.8888888888888888,
              "#fdca26"
             ],
             [
              1,
              "#f0f921"
             ]
            ],
            "type": "surface"
           }
          ],
          "table": [
           {
            "cells": {
             "fill": {
              "color": "#506784"
             },
             "line": {
              "color": "rgb(17,17,17)"
             }
            },
            "header": {
             "fill": {
              "color": "#2a3f5f"
             },
             "line": {
              "color": "rgb(17,17,17)"
             }
            },
            "type": "table"
           }
          ]
         },
         "layout": {
          "annotationdefaults": {
           "arrowcolor": "#f2f5fa",
           "arrowhead": 0,
           "arrowwidth": 1
          },
          "autotypenumbers": "strict",
          "coloraxis": {
           "colorbar": {
            "outlinewidth": 0,
            "ticks": ""
           }
          },
          "colorscale": {
           "diverging": [
            [
             0,
             "#8e0152"
            ],
            [
             0.1,
             "#c51b7d"
            ],
            [
             0.2,
             "#de77ae"
            ],
            [
             0.3,
             "#f1b6da"
            ],
            [
             0.4,
             "#fde0ef"
            ],
            [
             0.5,
             "#f7f7f7"
            ],
            [
             0.6,
             "#e6f5d0"
            ],
            [
             0.7,
             "#b8e186"
            ],
            [
             0.8,
             "#7fbc41"
            ],
            [
             0.9,
             "#4d9221"
            ],
            [
             1,
             "#276419"
            ]
           ],
           "sequential": [
            [
             0,
             "#0d0887"
            ],
            [
             0.1111111111111111,
             "#46039f"
            ],
            [
             0.2222222222222222,
             "#7201a8"
            ],
            [
             0.3333333333333333,
             "#9c179e"
            ],
            [
             0.4444444444444444,
             "#bd3786"
            ],
            [
             0.5555555555555556,
             "#d8576b"
            ],
            [
             0.6666666666666666,
             "#ed7953"
            ],
            [
             0.7777777777777778,
             "#fb9f3a"
            ],
            [
             0.8888888888888888,
             "#fdca26"
            ],
            [
             1,
             "#f0f921"
            ]
           ],
           "sequentialminus": [
            [
             0,
             "#0d0887"
            ],
            [
             0.1111111111111111,
             "#46039f"
            ],
            [
             0.2222222222222222,
             "#7201a8"
            ],
            [
             0.3333333333333333,
             "#9c179e"
            ],
            [
             0.4444444444444444,
             "#bd3786"
            ],
            [
             0.5555555555555556,
             "#d8576b"
            ],
            [
             0.6666666666666666,
             "#ed7953"
            ],
            [
             0.7777777777777778,
             "#fb9f3a"
            ],
            [
             0.8888888888888888,
             "#fdca26"
            ],
            [
             1,
             "#f0f921"
            ]
           ]
          },
          "colorway": [
           "#636efa",
           "#EF553B",
           "#00cc96",
           "#ab63fa",
           "#FFA15A",
           "#19d3f3",
           "#FF6692",
           "#B6E880",
           "#FF97FF",
           "#FECB52"
          ],
          "font": {
           "color": "#f2f5fa"
          },
          "geo": {
           "bgcolor": "rgb(17,17,17)",
           "lakecolor": "rgb(17,17,17)",
           "landcolor": "rgb(17,17,17)",
           "showlakes": true,
           "showland": true,
           "subunitcolor": "#506784"
          },
          "hoverlabel": {
           "align": "left"
          },
          "hovermode": "closest",
          "mapbox": {
           "style": "dark"
          },
          "paper_bgcolor": "rgb(17,17,17)",
          "plot_bgcolor": "rgb(17,17,17)",
          "polar": {
           "angularaxis": {
            "gridcolor": "#506784",
            "linecolor": "#506784",
            "ticks": ""
           },
           "bgcolor": "rgb(17,17,17)",
           "radialaxis": {
            "gridcolor": "#506784",
            "linecolor": "#506784",
            "ticks": ""
           }
          },
          "scene": {
           "xaxis": {
            "backgroundcolor": "rgb(17,17,17)",
            "gridcolor": "#506784",
            "gridwidth": 2,
            "linecolor": "#506784",
            "showbackground": true,
            "ticks": "",
            "zerolinecolor": "#C8D4E3"
           },
           "yaxis": {
            "backgroundcolor": "rgb(17,17,17)",
            "gridcolor": "#506784",
            "gridwidth": 2,
            "linecolor": "#506784",
            "showbackground": true,
            "ticks": "",
            "zerolinecolor": "#C8D4E3"
           },
           "zaxis": {
            "backgroundcolor": "rgb(17,17,17)",
            "gridcolor": "#506784",
            "gridwidth": 2,
            "linecolor": "#506784",
            "showbackground": true,
            "ticks": "",
            "zerolinecolor": "#C8D4E3"
           }
          },
          "shapedefaults": {
           "line": {
            "color": "#f2f5fa"
           }
          },
          "sliderdefaults": {
           "bgcolor": "#C8D4E3",
           "bordercolor": "rgb(17,17,17)",
           "borderwidth": 1,
           "tickwidth": 0
          },
          "ternary": {
           "aaxis": {
            "gridcolor": "#506784",
            "linecolor": "#506784",
            "ticks": ""
           },
           "baxis": {
            "gridcolor": "#506784",
            "linecolor": "#506784",
            "ticks": ""
           },
           "bgcolor": "rgb(17,17,17)",
           "caxis": {
            "gridcolor": "#506784",
            "linecolor": "#506784",
            "ticks": ""
           }
          },
          "title": {
           "x": 0.05
          },
          "updatemenudefaults": {
           "bgcolor": "#506784",
           "borderwidth": 0
          },
          "xaxis": {
           "automargin": true,
           "gridcolor": "#283442",
           "linecolor": "#506784",
           "ticks": "",
           "title": {
            "standoff": 15
           },
           "zerolinecolor": "#283442",
           "zerolinewidth": 2
          },
          "yaxis": {
           "automargin": true,
           "gridcolor": "#283442",
           "linecolor": "#506784",
           "ticks": "",
           "title": {
            "standoff": 15
           },
           "zerolinecolor": "#283442",
           "zerolinewidth": 2
          }
         }
        },
        "title": {
         "text": "Multi-Horizon Forecasts Over Cycles"
        },
        "width": 900,
        "xaxis": {
         "title": {
          "text": "Cycles"
         }
        },
        "yaxis": {
         "title": {
          "text": "Percentage / Score"
         }
        }
       }
      }
     },
     "metadata": {},
     "output_type": "display_data"
    }
   ],
   "source": [
    "import plotly.graph_objects as go\n",
    "import numpy as np\n",
    "\n",
    "# Sample data\n",
    "cycles = np.arange(1, 101)\n",
    "rul = np.random.uniform(50, 100, 100)          # Remaining Useful Life %\n",
    "ttf = np.random.uniform(30, 90, 100)           # Time to Failure %\n",
    "health_score = np.random.uniform(60, 100, 100) # Health Score %\n",
    "\n",
    "# Create figure\n",
    "fig_forecast = go.Figure()\n",
    "\n",
    "# Add traces\n",
    "fig_forecast.add_trace(go.Scatter(x=cycles, y=rul, mode=\"lines\", name=\"RUL (%)\", line=dict(color=\"gold\", width=2)))\n",
    "fig_forecast.add_trace(go.Scatter(x=cycles, y=ttf, mode=\"lines\", name=\"TTF (%)\", line=dict(color=\"orange\", width=2, dash=\"dash\")))\n",
    "fig_forecast.add_trace(go.Scatter(x=cycles, y=health_score, mode=\"lines\", name=\"Health Score (%)\", line=dict(color=\"lightgreen\", width=2)))\n",
    "\n",
    "# Layout with explanation\n",
    "fig_forecast.update_layout(\n",
    "    title=\"Multi-Horizon Forecasts Over Cycles\",\n",
    "    template=\"plotly_dark\",\n",
    "    xaxis_title=\"Cycles\",\n",
    "    yaxis_title=\"Percentage / Score\",\n",
    "    width=900,\n",
    "    height=500,\n",
    "    legend_title=\"Metrics\",\n",
    "    annotations=[dict(\n",
    "        x=0, y=1.15, xref=\"paper\", yref=\"paper\",\n",
    "        text=(\n",
    "            \"<b>Explanation:</b><br>\"\n",
    "            \"• RUL shows the predicted Remaining Useful Life of components.<br>\"\n",
    "            \"• TTF estimates time until failure.<br>\"\n",
    "            \"• Health Score combines metrics to assess overall component condition.\"\n",
    "        ),\n",
    "        showarrow=False,\n",
    "        font=dict(size=12, color=\"white\"),\n",
    "        align=\"left\",\n",
    "        bordercolor=\"white\",\n",
    "        borderwidth=1,\n",
    "        bgcolor=\"black\",\n",
    "        opacity=0.9\n",
    "    )]\n",
    ")\n",
    "\n",
    "fig_forecast.show()\n"
   ]
  },
  {
   "cell_type": "code",
   "execution_count": 186,
   "id": "c5484151",
   "metadata": {},
   "outputs": [
    {
     "data": {
      "application/vnd.plotly.v1+json": {
       "config": {
        "plotlyServerURL": "https://plot.ly"
       },
       "data": [
        {
         "line": {
          "color": "blue",
          "width": 2
         },
         "mode": "lines",
         "name": "Fleet 1 Accuracy (%)",
         "type": "scatter",
         "x": {
          "bdata": "AQIDBAUGBwgJCgsMDQ4PEBESExQVFhcYGRobHB0eHyAhIiMkJSYnKCkqKywtLi8wMTIzNDU2Nzg5Ojs8PT4/QEFCQ0RFRkdISUpLTE1OT1BRUlNUVVZXWFlaW1xdXl9gYWJjZA==",
          "dtype": "i1"
         },
         "y": {
          "bdata": "kfTl4+0rUkBbJd+GOa1TQPyGrKorB1VAcfGN2yaFVEDfYGr/yH5SQKdCplfE3FJAOcO8emtjV0CRwvnwXLBSQBhG9DjZzVRA61B2AwmNV0BJC24OTEFWQJDrudEXL1ZAurP2LNIOVkBqLyc5aHhXQATnnjVZNldAI/RM5Zs/VEC8jjRk86hSQLz9WwSn4VJAQxeriItMV0DSTMauSbJXQGSAIjsxqVdATprRc9taU0BAT8xQEtNRQMZ1BFsJMFVAFLhHPSEBV0AlOpaDtAVWQBXgAjFk41RARl971XkmU0CrvXmcm5FRQI8geN1/mVVA55UcZAvyVUDNOFTR8NNSQDksFKIYU1ZAeJTWpmf/U0BW1nU1DRFXQNc0uOP4OlZAzQEVvDwbUkBLsKEanvlUQCUyBYnOhFJAHMFjNmgJVUCGuozHGxJVQO+ma99BVVNAPka9eQ1CVUBh4WHpsEpSQI+ufaMtmVZADxcGnPSDVkCAAeZvp69VQBRIz/dAV1JAzV1PiFSgVUBLsmBnathTQBPPyUqK5FRAkvmENbodVEDE6PiEqBlWQK98zyapwFFAMqKWrbmGUkDJdv7sRTNUQL/RzAaoQVVApKAyfHeiUUCCJzjN0FJWQPU+gAoCxlJApEAkjsz3UUDSI/chBdpVQPAmsvj/iFJA1i1sl/vsUUAI3Eaf4OBRQPAz/RZg/VRAYRsCoEK7VEDBQyi5Gr9UQPvIj4ieLlVAJWPPjInqVUB2TspyHgxUQKlQH+h/B1RAiisda8pJVED9dybJUfxWQMBsCLJ1YFZA+yaGKpw5VkBCkO0x/xJTQOxLg+Ck0FFAQIS5kcCiUUCsyZK1a69VQC2/O9tlsFdA46tIKEwpVkATNLAcWapTQF8CAKWo61FA9XAfhtJ5VEDY/hYDaoFVQBPYuLKEXVRA3EJtRiuRVkAAOvDjObBSQMggIMjBC1dAf06dbdjEVUBwIqsqyppXQJaz1SZeaVNArEV2Yf9kVkCSgO8baJFTQOosXzG2xFRA32+2uYNLU0C4reYfPiVSQEY1PhukRFJAnPOfcurJU0A=",
          "dtype": "f8"
         }
        },
        {
         "line": {
          "color": "orange",
          "dash": "dash",
          "width": 2
         },
         "mode": "lines",
         "name": "Fleet 2 Accuracy (%)",
         "type": "scatter",
         "x": {
          "bdata": "AQIDBAUGBwgJCgsMDQ4PEBESExQVFhcYGRobHB0eHyAhIiMkJSYnKCkqKywtLi8wMTIzNDU2Nzg5Ojs8PT4/QEFCQ0RFRkdISUpLTE1OT1BRUlNUVVZXWFlaW1xdXl9gYWJjZA==",
          "dtype": "i1"
         },
         "y": {
          "bdata": "sHXf1+lZUEBaCTKKRJJWQJHVTIXMylNAVGPNc8HQUkDwryWX3plWQNyKHPzZM1VAQaqPKZpaUkB4065xfEJUQM85PNaD/1NAfpkc9j8DU0DKLxDw/klQQHnJUYt2EFZAHXUlF4oCVEBPN6vHAgJRQEqpXpFkzlFAxFrxHZ5/UkBItX+P/29SQAE3aonX7VFAec+Vca5BUECQl8hF86VQQIC74rp+GFRAnoDA8Tb1U0DNIoc/CQxVQDZ4oAl2UlRAqeqnKAuFUUCOcoBJGeZTQGnFWuSyY1VAQf7GnPdeUEB8I7B5aR5UQMQNcDFN3FRAxUSgCn20UEAjfnAG2V9SQA8IGQc/dFFAPd9zCyAdVECnSxv9A9JVQESeniSU6FVAxbgYbO9XUUAGHSCi7+VUQFaPfdoeg1RA26dwDsHOUUDiiC11Sd5RQCyQP2VSRVRATkbTG4/nUECaOK/9FC5SQBP6msz/vlRAh/JbG4C6UEAT+Qk26ddWQHzFTa0ENlVAwdxS+KBKVEDgcjtyaelTQKI93T8IiVRAn2lmdNeUVUC7iTv9tRpRQOMZGYIztVNApVdm/XutUECPsqi4VCpVQJv8YZJqNVRAyg8uwaStVEBZ5OgRop5WQAabyX/yR1NAFWSlIiBoUkCH18bAANFSQIPYWXjqXVZAknRU4qojVEAJ8YbQMN9WQPWHOuxDslZATLuTmJxJVECkzHywobRSQB4IgmbhV1ZAiqy2F8lDU0CrxJPJUBZVQOpBoBBIcFNAdZVejpjbUEAyY0XFtF9WQE27FFwAwVBAlfEoG0ysU0Ba1ve8H31UQBrB85KbtFZAK93+zlVlUUDEjWjy/jlSQAF/hqFYZFNA2JteCN8HVkCsodISb1NQQGLENktNdFVANT9YeQITVECa0M7HQStWQGZmjxSbPlFAX1mkG0YBVkCoBFKuV6VVQETPjsMZhFVAhPD9XtyoVkCC48vNMXFTQEaCvDV/01JAkinMVKGGVEBM+J4LPPZQQPfkSXyI0VRAuV6AzdSJUkADuVzlMRhTQKu6TPMjuFFAal0/xgEsVkA=",
          "dtype": "f8"
         }
        },
        {
         "line": {
          "color": "lightgreen",
          "width": 2
         },
         "mode": "lines",
         "name": "Fleet 3 Accuracy (%)",
         "type": "scatter",
         "x": {
          "bdata": "AQIDBAUGBwgJCgsMDQ4PEBESExQVFhcYGRobHB0eHyAhIiMkJSYnKCkqKywtLi8wMTIzNDU2Nzg5Ojs8PT4/QEFCQ0RFRkdISUpLTE1OT1BRUlNUVVZXWFlaW1xdXl9gYWJjZA==",
          "dtype": "i1"
         },
         "y": {
          "bdata": "4qgE9mq0UUCyzHu+DRFRQAQJIrFzRVdAI7au7/fQU0Cavnu8IvNUQM75s7qjMFdAtoyFqpAcVECkQ0c2pBZVQIPnv9c0TVZA2O5opOYbV0B1BVVITOVVQJfTPal8qlFARa5FXXgVU0BeSwtKx59SQOrmpoK0M1FASA45bO2MVkDksKjokXtRQAp70+LM4lFAgz0fsPj5VkB/fwRAGgBUQHEgV4Y1hlZArAp27x3ZVkAgW2uS0JZRQDpw8wzi6lJAtgwkuVwkVkBUfZFl/kRSQLl2h7HpxVNA9Ds4KohyV0D8wCcaiq1TQJBwxufty1NAnV2VQb2pU0D5QVxX/7BWQFwFyOJJelRANrmk4XhQVkBuDu8ywvpWQMhpobKPYlNACshjtwFUU0AM17D7NZtRQO9+sPcCrFNAmvT/fbtGV0BBN1RSQShTQDM8dimSFFNAa36ad/fUU0DI/hFOxcJWQJjW/wx8ZFRAWCX113TfU0CTOL4WKC1RQIazpz9zsVJAlqxf0GGqVEBeDAQ4nLJSQFrgemGNWVFAR6KiKxmyUUC5XFzAQk9TQDle/UAPO1VAXWT6Xz5UV0AA4USzcLJWQNceE8e9K1ZADkuGtt8pUUCkwdJXf7JRQHuTOapSgFVAslclDPFpVECc07TbG+NVQIwNhS3v2FJAZZAGvWg9VEAtELGLucNSQFHGvfAnxlJAsRK4UTWcVUCcM2D9jlFSQITqrHg641FAYh5dhgl/UUA32HhyJb5WQKq1OA67hVZA2i+wcX13VkASW+YHU3BUQGSvWiU0VlFA4T8mvZa/UkBKyFWJqu1RQDAT0CU1GVJA33IdkaEgV0DcCG/RWSlWQCUAwWpaZVNASwI9RtVRUkDRWU6+jgZXQGOkI2Cc9FRAYVRjz3r1VkBD/aopLaFVQHUDXKStOlJAdKEUH2u9UkBcaJOPegNTQBS6CiWm3VNARnHQgJI1UkC4k8vO8CNSQG0Hq0asdFFAAqrDrq1LUkCNonyz3G5TQLCio4ke01VAh9MQUHkOVUAAQE+ke59TQDnbRiBvn1VAUY8Rj8V3UkA=",
          "dtype": "f8"
         }
        }
       ],
       "layout": {
        "annotations": [
         {
          "align": "left",
          "bgcolor": "black",
          "bordercolor": "white",
          "borderwidth": 1,
          "font": {
           "color": "white",
           "size": 12
          },
          "opacity": 0.9,
          "showarrow": false,
          "text": "<b>Explanation:</b><br>• Each line represents a fleet's local model accuracy during federated training.<br>• Federated Learning allows collaborative improvements without sharing raw data.<br>• Observe convergence of models and how collaboration boosts overall accuracy.",
          "x": 0,
          "xref": "paper",
          "y": 1.15,
          "yref": "paper"
         }
        ],
        "height": 500,
        "legend": {
         "title": {
          "text": "Fleets"
         }
        },
        "template": {
         "data": {
          "bar": [
           {
            "error_x": {
             "color": "#f2f5fa"
            },
            "error_y": {
             "color": "#f2f5fa"
            },
            "marker": {
             "line": {
              "color": "rgb(17,17,17)",
              "width": 0.5
             },
             "pattern": {
              "fillmode": "overlay",
              "size": 10,
              "solidity": 0.2
             }
            },
            "type": "bar"
           }
          ],
          "barpolar": [
           {
            "marker": {
             "line": {
              "color": "rgb(17,17,17)",
              "width": 0.5
             },
             "pattern": {
              "fillmode": "overlay",
              "size": 10,
              "solidity": 0.2
             }
            },
            "type": "barpolar"
           }
          ],
          "carpet": [
           {
            "aaxis": {
             "endlinecolor": "#A2B1C6",
             "gridcolor": "#506784",
             "linecolor": "#506784",
             "minorgridcolor": "#506784",
             "startlinecolor": "#A2B1C6"
            },
            "baxis": {
             "endlinecolor": "#A2B1C6",
             "gridcolor": "#506784",
             "linecolor": "#506784",
             "minorgridcolor": "#506784",
             "startlinecolor": "#A2B1C6"
            },
            "type": "carpet"
           }
          ],
          "choropleth": [
           {
            "colorbar": {
             "outlinewidth": 0,
             "ticks": ""
            },
            "type": "choropleth"
           }
          ],
          "contour": [
           {
            "colorbar": {
             "outlinewidth": 0,
             "ticks": ""
            },
            "colorscale": [
             [
              0,
              "#0d0887"
             ],
             [
              0.1111111111111111,
              "#46039f"
             ],
             [
              0.2222222222222222,
              "#7201a8"
             ],
             [
              0.3333333333333333,
              "#9c179e"
             ],
             [
              0.4444444444444444,
              "#bd3786"
             ],
             [
              0.5555555555555556,
              "#d8576b"
             ],
             [
              0.6666666666666666,
              "#ed7953"
             ],
             [
              0.7777777777777778,
              "#fb9f3a"
             ],
             [
              0.8888888888888888,
              "#fdca26"
             ],
             [
              1,
              "#f0f921"
             ]
            ],
            "type": "contour"
           }
          ],
          "contourcarpet": [
           {
            "colorbar": {
             "outlinewidth": 0,
             "ticks": ""
            },
            "type": "contourcarpet"
           }
          ],
          "heatmap": [
           {
            "colorbar": {
             "outlinewidth": 0,
             "ticks": ""
            },
            "colorscale": [
             [
              0,
              "#0d0887"
             ],
             [
              0.1111111111111111,
              "#46039f"
             ],
             [
              0.2222222222222222,
              "#7201a8"
             ],
             [
              0.3333333333333333,
              "#9c179e"
             ],
             [
              0.4444444444444444,
              "#bd3786"
             ],
             [
              0.5555555555555556,
              "#d8576b"
             ],
             [
              0.6666666666666666,
              "#ed7953"
             ],
             [
              0.7777777777777778,
              "#fb9f3a"
             ],
             [
              0.8888888888888888,
              "#fdca26"
             ],
             [
              1,
              "#f0f921"
             ]
            ],
            "type": "heatmap"
           }
          ],
          "histogram": [
           {
            "marker": {
             "pattern": {
              "fillmode": "overlay",
              "size": 10,
              "solidity": 0.2
             }
            },
            "type": "histogram"
           }
          ],
          "histogram2d": [
           {
            "colorbar": {
             "outlinewidth": 0,
             "ticks": ""
            },
            "colorscale": [
             [
              0,
              "#0d0887"
             ],
             [
              0.1111111111111111,
              "#46039f"
             ],
             [
              0.2222222222222222,
              "#7201a8"
             ],
             [
              0.3333333333333333,
              "#9c179e"
             ],
             [
              0.4444444444444444,
              "#bd3786"
             ],
             [
              0.5555555555555556,
              "#d8576b"
             ],
             [
              0.6666666666666666,
              "#ed7953"
             ],
             [
              0.7777777777777778,
              "#fb9f3a"
             ],
             [
              0.8888888888888888,
              "#fdca26"
             ],
             [
              1,
              "#f0f921"
             ]
            ],
            "type": "histogram2d"
           }
          ],
          "histogram2dcontour": [
           {
            "colorbar": {
             "outlinewidth": 0,
             "ticks": ""
            },
            "colorscale": [
             [
              0,
              "#0d0887"
             ],
             [
              0.1111111111111111,
              "#46039f"
             ],
             [
              0.2222222222222222,
              "#7201a8"
             ],
             [
              0.3333333333333333,
              "#9c179e"
             ],
             [
              0.4444444444444444,
              "#bd3786"
             ],
             [
              0.5555555555555556,
              "#d8576b"
             ],
             [
              0.6666666666666666,
              "#ed7953"
             ],
             [
              0.7777777777777778,
              "#fb9f3a"
             ],
             [
              0.8888888888888888,
              "#fdca26"
             ],
             [
              1,
              "#f0f921"
             ]
            ],
            "type": "histogram2dcontour"
           }
          ],
          "mesh3d": [
           {
            "colorbar": {
             "outlinewidth": 0,
             "ticks": ""
            },
            "type": "mesh3d"
           }
          ],
          "parcoords": [
           {
            "line": {
             "colorbar": {
              "outlinewidth": 0,
              "ticks": ""
             }
            },
            "type": "parcoords"
           }
          ],
          "pie": [
           {
            "automargin": true,
            "type": "pie"
           }
          ],
          "scatter": [
           {
            "marker": {
             "line": {
              "color": "#283442"
             }
            },
            "type": "scatter"
           }
          ],
          "scatter3d": [
           {
            "line": {
             "colorbar": {
              "outlinewidth": 0,
              "ticks": ""
             }
            },
            "marker": {
             "colorbar": {
              "outlinewidth": 0,
              "ticks": ""
             }
            },
            "type": "scatter3d"
           }
          ],
          "scattercarpet": [
           {
            "marker": {
             "colorbar": {
              "outlinewidth": 0,
              "ticks": ""
             }
            },
            "type": "scattercarpet"
           }
          ],
          "scattergeo": [
           {
            "marker": {
             "colorbar": {
              "outlinewidth": 0,
              "ticks": ""
             }
            },
            "type": "scattergeo"
           }
          ],
          "scattergl": [
           {
            "marker": {
             "line": {
              "color": "#283442"
             }
            },
            "type": "scattergl"
           }
          ],
          "scattermap": [
           {
            "marker": {
             "colorbar": {
              "outlinewidth": 0,
              "ticks": ""
             }
            },
            "type": "scattermap"
           }
          ],
          "scattermapbox": [
           {
            "marker": {
             "colorbar": {
              "outlinewidth": 0,
              "ticks": ""
             }
            },
            "type": "scattermapbox"
           }
          ],
          "scatterpolar": [
           {
            "marker": {
             "colorbar": {
              "outlinewidth": 0,
              "ticks": ""
             }
            },
            "type": "scatterpolar"
           }
          ],
          "scatterpolargl": [
           {
            "marker": {
             "colorbar": {
              "outlinewidth": 0,
              "ticks": ""
             }
            },
            "type": "scatterpolargl"
           }
          ],
          "scatterternary": [
           {
            "marker": {
             "colorbar": {
              "outlinewidth": 0,
              "ticks": ""
             }
            },
            "type": "scatterternary"
           }
          ],
          "surface": [
           {
            "colorbar": {
             "outlinewidth": 0,
             "ticks": ""
            },
            "colorscale": [
             [
              0,
              "#0d0887"
             ],
             [
              0.1111111111111111,
              "#46039f"
             ],
             [
              0.2222222222222222,
              "#7201a8"
             ],
             [
              0.3333333333333333,
              "#9c179e"
             ],
             [
              0.4444444444444444,
              "#bd3786"
             ],
             [
              0.5555555555555556,
              "#d8576b"
             ],
             [
              0.6666666666666666,
              "#ed7953"
             ],
             [
              0.7777777777777778,
              "#fb9f3a"
             ],
             [
              0.8888888888888888,
              "#fdca26"
             ],
             [
              1,
              "#f0f921"
             ]
            ],
            "type": "surface"
           }
          ],
          "table": [
           {
            "cells": {
             "fill": {
              "color": "#506784"
             },
             "line": {
              "color": "rgb(17,17,17)"
             }
            },
            "header": {
             "fill": {
              "color": "#2a3f5f"
             },
             "line": {
              "color": "rgb(17,17,17)"
             }
            },
            "type": "table"
           }
          ]
         },
         "layout": {
          "annotationdefaults": {
           "arrowcolor": "#f2f5fa",
           "arrowhead": 0,
           "arrowwidth": 1
          },
          "autotypenumbers": "strict",
          "coloraxis": {
           "colorbar": {
            "outlinewidth": 0,
            "ticks": ""
           }
          },
          "colorscale": {
           "diverging": [
            [
             0,
             "#8e0152"
            ],
            [
             0.1,
             "#c51b7d"
            ],
            [
             0.2,
             "#de77ae"
            ],
            [
             0.3,
             "#f1b6da"
            ],
            [
             0.4,
             "#fde0ef"
            ],
            [
             0.5,
             "#f7f7f7"
            ],
            [
             0.6,
             "#e6f5d0"
            ],
            [
             0.7,
             "#b8e186"
            ],
            [
             0.8,
             "#7fbc41"
            ],
            [
             0.9,
             "#4d9221"
            ],
            [
             1,
             "#276419"
            ]
           ],
           "sequential": [
            [
             0,
             "#0d0887"
            ],
            [
             0.1111111111111111,
             "#46039f"
            ],
            [
             0.2222222222222222,
             "#7201a8"
            ],
            [
             0.3333333333333333,
             "#9c179e"
            ],
            [
             0.4444444444444444,
             "#bd3786"
            ],
            [
             0.5555555555555556,
             "#d8576b"
            ],
            [
             0.6666666666666666,
             "#ed7953"
            ],
            [
             0.7777777777777778,
             "#fb9f3a"
            ],
            [
             0.8888888888888888,
             "#fdca26"
            ],
            [
             1,
             "#f0f921"
            ]
           ],
           "sequentialminus": [
            [
             0,
             "#0d0887"
            ],
            [
             0.1111111111111111,
             "#46039f"
            ],
            [
             0.2222222222222222,
             "#7201a8"
            ],
            [
             0.3333333333333333,
             "#9c179e"
            ],
            [
             0.4444444444444444,
             "#bd3786"
            ],
            [
             0.5555555555555556,
             "#d8576b"
            ],
            [
             0.6666666666666666,
             "#ed7953"
            ],
            [
             0.7777777777777778,
             "#fb9f3a"
            ],
            [
             0.8888888888888888,
             "#fdca26"
            ],
            [
             1,
             "#f0f921"
            ]
           ]
          },
          "colorway": [
           "#636efa",
           "#EF553B",
           "#00cc96",
           "#ab63fa",
           "#FFA15A",
           "#19d3f3",
           "#FF6692",
           "#B6E880",
           "#FF97FF",
           "#FECB52"
          ],
          "font": {
           "color": "#f2f5fa"
          },
          "geo": {
           "bgcolor": "rgb(17,17,17)",
           "lakecolor": "rgb(17,17,17)",
           "landcolor": "rgb(17,17,17)",
           "showlakes": true,
           "showland": true,
           "subunitcolor": "#506784"
          },
          "hoverlabel": {
           "align": "left"
          },
          "hovermode": "closest",
          "mapbox": {
           "style": "dark"
          },
          "paper_bgcolor": "rgb(17,17,17)",
          "plot_bgcolor": "rgb(17,17,17)",
          "polar": {
           "angularaxis": {
            "gridcolor": "#506784",
            "linecolor": "#506784",
            "ticks": ""
           },
           "bgcolor": "rgb(17,17,17)",
           "radialaxis": {
            "gridcolor": "#506784",
            "linecolor": "#506784",
            "ticks": ""
           }
          },
          "scene": {
           "xaxis": {
            "backgroundcolor": "rgb(17,17,17)",
            "gridcolor": "#506784",
            "gridwidth": 2,
            "linecolor": "#506784",
            "showbackground": true,
            "ticks": "",
            "zerolinecolor": "#C8D4E3"
           },
           "yaxis": {
            "backgroundcolor": "rgb(17,17,17)",
            "gridcolor": "#506784",
            "gridwidth": 2,
            "linecolor": "#506784",
            "showbackground": true,
            "ticks": "",
            "zerolinecolor": "#C8D4E3"
           },
           "zaxis": {
            "backgroundcolor": "rgb(17,17,17)",
            "gridcolor": "#506784",
            "gridwidth": 2,
            "linecolor": "#506784",
            "showbackground": true,
            "ticks": "",
            "zerolinecolor": "#C8D4E3"
           }
          },
          "shapedefaults": {
           "line": {
            "color": "#f2f5fa"
           }
          },
          "sliderdefaults": {
           "bgcolor": "#C8D4E3",
           "bordercolor": "rgb(17,17,17)",
           "borderwidth": 1,
           "tickwidth": 0
          },
          "ternary": {
           "aaxis": {
            "gridcolor": "#506784",
            "linecolor": "#506784",
            "ticks": ""
           },
           "baxis": {
            "gridcolor": "#506784",
            "linecolor": "#506784",
            "ticks": ""
           },
           "bgcolor": "rgb(17,17,17)",
           "caxis": {
            "gridcolor": "#506784",
            "linecolor": "#506784",
            "ticks": ""
           }
          },
          "title": {
           "x": 0.05
          },
          "updatemenudefaults": {
           "bgcolor": "#506784",
           "borderwidth": 0
          },
          "xaxis": {
           "automargin": true,
           "gridcolor": "#283442",
           "linecolor": "#506784",
           "ticks": "",
           "title": {
            "standoff": 15
           },
           "zerolinecolor": "#283442",
           "zerolinewidth": 2
          },
          "yaxis": {
           "automargin": true,
           "gridcolor": "#283442",
           "linecolor": "#506784",
           "ticks": "",
           "title": {
            "standoff": 15
           },
           "zerolinecolor": "#283442",
           "zerolinewidth": 2
          }
         }
        },
        "title": {
         "text": "Federated Learning: Model Accuracy Across Fleets"
        },
        "width": 900,
        "xaxis": {
         "title": {
          "text": "Training Rounds / Cycles"
         }
        },
        "yaxis": {
         "title": {
          "text": "Accuracy (%)"
         }
        }
       }
      }
     },
     "metadata": {},
     "output_type": "display_data"
    }
   ],
   "source": [
    "import plotly.graph_objects as go\n",
    "import numpy as np\n",
    "\n",
    "# Sample data\n",
    "cycles = np.arange(1, 101)\n",
    "fleet1_accuracy = np.random.uniform(70, 95, 100)\n",
    "fleet2_accuracy = np.random.uniform(65, 92, 100)\n",
    "fleet3_accuracy = np.random.uniform(68, 94, 100)\n",
    "\n",
    "# Create figure\n",
    "fig_federated = go.Figure()\n",
    "\n",
    "# Add traces\n",
    "fig_federated.add_trace(go.Scatter(x=cycles, y=fleet1_accuracy, mode=\"lines\", name=\"Fleet 1 Accuracy (%)\", line=dict(color=\"blue\", width=2)))\n",
    "fig_federated.add_trace(go.Scatter(x=cycles, y=fleet2_accuracy, mode=\"lines\", name=\"Fleet 2 Accuracy (%)\", line=dict(color=\"orange\", width=2, dash=\"dash\")))\n",
    "fig_federated.add_trace(go.Scatter(x=cycles, y=fleet3_accuracy, mode=\"lines\", name=\"Fleet 3 Accuracy (%)\", line=dict(color=\"lightgreen\", width=2, )))\n",
    "\n",
    "# Layout with explanation\n",
    "fig_federated.update_layout(\n",
    "    title=\"Federated Learning: Model Accuracy Across Fleets\",\n",
    "    template=\"plotly_dark\",\n",
    "    xaxis_title=\"Training Rounds / Cycles\",\n",
    "    yaxis_title=\"Accuracy (%)\",\n",
    "    width=900,\n",
    "    height=500,\n",
    "    legend_title=\"Fleets\",\n",
    "    annotations=[dict(\n",
    "        x=0, y=1.15, xref=\"paper\", yref=\"paper\",\n",
    "        text=(\n",
    "            \"<b>Explanation:</b><br>\"\n",
    "            \"• Each line represents a fleet's local model accuracy during federated training.<br>\"\n",
    "            \"• Federated Learning allows collaborative improvements without sharing raw data.<br>\"\n",
    "            \"• Observe convergence of models and how collaboration boosts overall accuracy.\"\n",
    "        ),\n",
    "        showarrow=False,\n",
    "        font=dict(size=12, color=\"white\"),\n",
    "        align=\"left\",\n",
    "        bordercolor=\"white\",\n",
    "        borderwidth=1,\n",
    "        bgcolor=\"black\",\n",
    "        opacity=0.9\n",
    "    )]\n",
    ")\n",
    "\n",
    "fig_federated.show()\n"
   ]
  },
  {
   "cell_type": "code",
   "execution_count": null,
   "id": "0cab3580",
   "metadata": {},
   "outputs": [],
   "source": []
  }
 ],
 "metadata": {
  "kernelspec": {
   "display_name": "Python 3",
   "language": "python",
   "name": "python3"
  },
  "language_info": {
   "codemirror_mode": {
    "name": "ipython",
    "version": 3
   },
   "file_extension": ".py",
   "mimetype": "text/x-python",
   "name": "python",
   "nbconvert_exporter": "python",
   "pygments_lexer": "ipython3",
   "version": "3.12.3"
  }
 },
 "nbformat": 4,
 "nbformat_minor": 5
}
